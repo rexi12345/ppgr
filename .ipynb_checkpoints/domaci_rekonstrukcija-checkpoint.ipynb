{
 "cells": [
  {
   "cell_type": "code",
   "execution_count": 11,
   "id": "2f67f9b8",
   "metadata": {},
   "outputs": [],
   "source": [
    "# !py -m pip install opencv-python\n",
    "# !python.exe -m pip install --upgrade pip\n",
    "import numpy as np\n",
    "import cv2 as cv\n",
    "from numpy import linalg\n",
    "from math import acos, sqrt, degrees\n",
    "from matplotlib import pyplot as plt"
   ]
  },
  {
   "cell_type": "markdown",
   "id": "05a394e7",
   "metadata": {},
   "source": [
    "# odabir levih tacaka"
   ]
  },
  {
   "cell_type": "code",
   "execution_count": 12,
   "id": "4dc57ddd",
   "metadata": {},
   "outputs": [],
   "source": [
    "leve8 = []\n",
    "brojac = 0\n",
    "def click_event(event, x, y, flags, params): \n",
    "    global brojac\n",
    "    font = cv.FONT_HERSHEY_SIMPLEX \n",
    "\n",
    "    if event == cv.EVENT_LBUTTONDOWN: \n",
    "        cv.putText(slika, f'P{brojac+1}(' + str(x) + ',' +\n",
    "                    str(y) + ')', (x,y), font, \n",
    "                    1, (0, 0, 0), 2) \n",
    "        cv.imshow(\"lijeva\", slika)\n",
    "        \n",
    "        leve8.append([x, y, 1])\n",
    "        brojac += 1\n",
    "        \n",
    "        if brojac == 8:\n",
    "            cv.imwrite('lijevaOznacena.jpg', slika)\n",
    "            cv.imshow(\"lijeva\", slika)"
   ]
  },
  {
   "cell_type": "code",
   "execution_count": 13,
   "id": "ffaf39ad",
   "metadata": {},
   "outputs": [],
   "source": [
    "putanja = './lijeva.jpg'\n",
    "slika = cv.imread(putanja)\n",
    "\n",
    "cv.imshow(\"lijeva\", slika)\n",
    "\n",
    "cv.setMouseCallback(\"lijeva\", click_event)\n",
    "\n",
    "cv.waitKey(0)\n",
    "cv.destroyAllWindows()"
   ]
  },
  {
   "cell_type": "code",
   "execution_count": 14,
   "id": "e84df1ab",
   "metadata": {},
   "outputs": [
    {
     "data": {
      "text/plain": [
       "array([[ 344,  642,    1],\n",
       "       [ 560,  712,    1],\n",
       "       [ 427,  826,    1],\n",
       "       [ 180,  758,    1],\n",
       "       [ 969, 1001,    1],\n",
       "       [ 694,  837,    1],\n",
       "       [ 771,  794,    1],\n",
       "       [1039,  945,    1]])"
      ]
     },
     "execution_count": 14,
     "metadata": {},
     "output_type": "execute_result"
    }
   ],
   "source": [
    "np.array(leve8)"
   ]
  },
  {
   "cell_type": "markdown",
   "id": "1990dcb7",
   "metadata": {},
   "source": [
    "# odabir desnih tacaka"
   ]
  },
  {
   "cell_type": "code",
   "execution_count": 15,
   "id": "4852e21e",
   "metadata": {},
   "outputs": [],
   "source": [
    "desne8 = []\n",
    "brojac = 0\n",
    "def click_event(event, x, y, flags, params): \n",
    "    global brojac\n",
    "    font = cv.FONT_HERSHEY_SIMPLEX \n",
    "\n",
    "    if event == cv.EVENT_LBUTTONDOWN: \n",
    "        cv.putText(slika, f'P{brojac+1}(' + str(x) + ',' +\n",
    "                    str(y) + ')', (x,y), font, \n",
    "                    1, (0, 0, 0), 2) \n",
    "        cv.imshow(\"desna\", slika)\n",
    "        \n",
    "        desne8.append([x, y, 1])\n",
    "        brojac += 1\n",
    "        \n",
    "        if brojac == 8:\n",
    "            cv.imwrite('desnaOZnacena.jpg', slika)\n",
    "            cv.imshow(\"desna\", slika)"
   ]
  },
  {
   "cell_type": "code",
   "execution_count": 16,
   "id": "17249290",
   "metadata": {},
   "outputs": [],
   "source": [
    "putanja = './desna.jpg'\n",
    "slika = cv.imread(putanja)\n",
    "\n",
    "cv.imshow(\"desna\", slika)\n",
    "\n",
    "cv.setMouseCallback(\"desna\", click_event)\n",
    "\n",
    "cv.waitKey(0)\n",
    "cv.destroyAllWindows()"
   ]
  },
  {
   "cell_type": "code",
   "execution_count": 17,
   "id": "a575a9b8",
   "metadata": {},
   "outputs": [
    {
     "data": {
      "text/plain": [
       "array([[ 394,  647,    1],\n",
       "       [ 556,  718,    1],\n",
       "       [ 351,  819,    1],\n",
       "       [ 197,  749,    1],\n",
       "       [ 949, 1066,    1],\n",
       "       [ 731,  864,    1],\n",
       "       [ 838,  825,    1],\n",
       "       [1069, 1016,    1]])"
      ]
     },
     "execution_count": 17,
     "metadata": {},
     "output_type": "execute_result"
    }
   ],
   "source": [
    "np.array(desne8)"
   ]
  },
  {
   "cell_type": "code",
   "execution_count": 18,
   "id": "750de097",
   "metadata": {},
   "outputs": [],
   "source": [
    "import numpy\n",
    "import numpy as np\n",
    "import math\n",
    "import plotly.graph_objects as go\n",
    "import plotly.express as px"
   ]
  },
  {
   "cell_type": "code",
   "execution_count": null,
   "id": "ea7b5bc9",
   "metadata": {},
   "outputs": [],
   "source": [
    "def piksel(koord): #Odredjivanje piksel koordinata tacke\n",
    "    return np.array([1,-1,-1])*(np.array([1200,0,0])-koord) #promeni 1600 za sliku"
   ]
  },
  {
   "cell_type": "code",
   "execution_count": null,
   "id": "f92277d9",
   "metadata": {},
   "outputs": [],
   "source": []
  },
  {
   "cell_type": "code",
   "execution_count": null,
   "id": "f90fdf6d",
   "metadata": {},
   "outputs": [],
   "source": []
  },
  {
   "cell_type": "code",
   "execution_count": null,
   "id": "4f3fa7e7",
   "metadata": {},
   "outputs": [],
   "source": []
  },
  {
   "cell_type": "code",
   "execution_count": null,
   "id": "9717e0f8",
   "metadata": {},
   "outputs": [],
   "source": []
  },
  {
   "cell_type": "code",
   "execution_count": null,
   "id": "5772b168",
   "metadata": {},
   "outputs": [],
   "source": []
  },
  {
   "cell_type": "code",
   "execution_count": null,
   "id": "75bb607a",
   "metadata": {},
   "outputs": [],
   "source": []
  },
  {
   "cell_type": "code",
   "execution_count": null,
   "id": "07269118",
   "metadata": {},
   "outputs": [],
   "source": []
  },
  {
   "cell_type": "code",
   "execution_count": null,
   "id": "7fd0e34f",
   "metadata": {},
   "outputs": [],
   "source": []
  },
  {
   "cell_type": "code",
   "execution_count": null,
   "id": "29660940",
   "metadata": {},
   "outputs": [],
   "source": []
  },
  {
   "cell_type": "code",
   "execution_count": null,
   "id": "4d89dd09",
   "metadata": {},
   "outputs": [],
   "source": []
  },
  {
   "cell_type": "code",
   "execution_count": null,
   "id": "c4b8b553",
   "metadata": {},
   "outputs": [],
   "source": []
  },
  {
   "cell_type": "code",
   "execution_count": null,
   "id": "50030d69",
   "metadata": {},
   "outputs": [],
   "source": []
  },
  {
   "cell_type": "code",
   "execution_count": null,
   "id": "85a80308",
   "metadata": {},
   "outputs": [],
   "source": []
  },
  {
   "cell_type": "code",
   "execution_count": null,
   "id": "87fcfd3b",
   "metadata": {},
   "outputs": [],
   "source": []
  },
  {
   "cell_type": "code",
   "execution_count": null,
   "id": "25e94bd3",
   "metadata": {},
   "outputs": [],
   "source": []
  },
  {
   "cell_type": "code",
   "execution_count": null,
   "id": "eeb73e01",
   "metadata": {},
   "outputs": [],
   "source": []
  },
  {
   "cell_type": "code",
   "execution_count": null,
   "id": "5386d4fe",
   "metadata": {},
   "outputs": [],
   "source": []
  },
  {
   "cell_type": "code",
   "execution_count": null,
   "id": "031c380d",
   "metadata": {},
   "outputs": [],
   "source": []
  },
  {
   "cell_type": "code",
   "execution_count": null,
   "id": "77602e4b",
   "metadata": {},
   "outputs": [],
   "source": []
  },
  {
   "cell_type": "code",
   "execution_count": null,
   "id": "d3d5854f",
   "metadata": {},
   "outputs": [],
   "source": []
  },
  {
   "cell_type": "code",
   "execution_count": null,
   "id": "6b6667f3",
   "metadata": {},
   "outputs": [],
   "source": []
  },
  {
   "cell_type": "code",
   "execution_count": null,
   "id": "f5ef3eec",
   "metadata": {},
   "outputs": [],
   "source": []
  },
  {
   "cell_type": "code",
   "execution_count": null,
   "id": "e9572065",
   "metadata": {},
   "outputs": [],
   "source": []
  },
  {
   "cell_type": "code",
   "execution_count": null,
   "id": "61863eea",
   "metadata": {},
   "outputs": [],
   "source": []
  },
  {
   "cell_type": "code",
   "execution_count": null,
   "id": "cafc77e9",
   "metadata": {},
   "outputs": [],
   "source": []
  },
  {
   "cell_type": "code",
   "execution_count": null,
   "id": "8d35d831",
   "metadata": {},
   "outputs": [],
   "source": []
  },
  {
   "cell_type": "code",
   "execution_count": null,
   "id": "b5b017e8",
   "metadata": {},
   "outputs": [],
   "source": []
  },
  {
   "cell_type": "code",
   "execution_count": null,
   "id": "5b7f6bfa",
   "metadata": {},
   "outputs": [],
   "source": [
    "def centar(A):\n",
    "    # brisemo kolone redom i nalazimo determinante\n",
    "    A1 = np.linalg.det(np.delete(A, 0, 1))\n",
    "    A2 = np.linalg.det(np.delete(A, 1, 1))\n",
    "    A3 = np.linalg.det(np.delete(A, 2, 1))\n",
    "    A4 = np.linalg.det(np.delete(A, 3, 1))\n",
    "\n",
    "    C = (-1/A4)*np.array([A1, -A2, A3, -A4])\n",
    "    C = np.where(np.isclose(C, 0) , 0.0 , C)  # izbegavanje -0. u rezultatu\n",
    "    return C"
   ]
  },
  {
   "cell_type": "code",
   "execution_count": null,
   "id": "5b7e2cb3",
   "metadata": {},
   "outputs": [],
   "source": [
    "def kameraA(T):\n",
    "    T0 = np.delete(T, 3, 1)\n",
    "    if linalg.det(T0) < 0:\n",
    "        T0 = -T0\n",
    "    Q, R = linalg.qr(linalg.inv(T0)) \n",
    "\n",
    "    if R[0][0] < 0:\n",
    "        R = np.diag([-1, 1, 1])@R\n",
    "        Q = Q@np.diag([-1, 1, 1])\n",
    "    if R[1][1] < 0:\n",
    "        R = np.diag([1, -1, 1])@R\n",
    "        Q = Q@np.diag([1, -1, 1])\n",
    "    if R[2][2] < 0:\n",
    "        R = np.diag([1, 1, -1])@R\n",
    "        Q = Q@np.diag([1, 1, -1])\n",
    "\n",
    "    A = np.transpose(Q)\n",
    "    A = np.where(np.isclose(A, 0) , 0.0 , A)  # izbegavanje -0. u rezultatu\n",
    "    return A\n"
   ]
  },
  {
   "cell_type": "code",
   "execution_count": null,
   "id": "02b5ff34",
   "metadata": {},
   "outputs": [],
   "source": [
    "def kameraK(T):\n",
    "    T0 = np.delete(T, 3, 1)\n",
    "    if linalg.det(T0) < 0:\n",
    "        T0 = -T0\n",
    "    Q, R = linalg.qr(linalg.inv(T0)) \n",
    "\n",
    "    if R[0][0] < 0:\n",
    "        R = np.diag([-1, 1, 1])@R\n",
    "        Q = Q@np.diag([-1, 1, 1])\n",
    "    if R[1][1] < 0:\n",
    "        R = np.diag([1, -1, 1])@R\n",
    "        Q = Q@np.diag([1, -1, 1])\n",
    "    if R[2][2] < 0:\n",
    "        R = np.diag([1, 1, -1])@R\n",
    "        Q = Q@np.diag([1, 1, -1])\n",
    "\n",
    "    K = linalg.inv(R)\n",
    "    if K[2][2]:\n",
    "        K = K/K[2][2]\n",
    "    K = np.where(np.isclose(K, 0) , 0.0 , K)  # izbegavanje -0. u rezultatu\n",
    "    return K"
   ]
  },
  {
   "cell_type": "code",
   "execution_count": null,
   "id": "57545dfd",
   "metadata": {},
   "outputs": [],
   "source": [
    "def matricaKamere(pts2D, pts3D):\n",
    "    A = []\n",
    "    for i in range(len(pts2D)):\n",
    "        x1, x2, x3 = pts2D[i]\n",
    "        xp1, xp2, xp3, xp4 = pts3D[i]\n",
    "        A.append([0, 0, 0, 0, -x3*xp1, -x3*xp2, -x3*xp3, -x3*xp4, x2*xp1, x2*xp2, x2*xp3, x2*xp4])\n",
    "        A.append([x3*xp1, x3*xp2, x3*xp3, x3*xp4, 0, 0, 0, 0, -x1*xp1, -x1*xp2, -x1*xp3, -x1*xp4])\n",
    "    A = np.array(A)\n",
    "\n",
    "    _, _, V = linalg.svd(A)\n",
    "    T = np.array(V[-1]).reshape(3, 4)\n",
    "    T /= T[2][3]\n",
    "    \n",
    "    T = np.where(np.isclose(T, 0) , 0.0 , T)\n",
    "    return T"
   ]
  },
  {
   "cell_type": "code",
   "execution_count": null,
   "id": "b885df6b",
   "metadata": {},
   "outputs": [],
   "source": [
    "T = matricaKamere(org, img)"
   ]
  },
  {
   "cell_type": "code",
   "execution_count": null,
   "id": "29909acd",
   "metadata": {
    "scrolled": false
   },
   "outputs": [],
   "source": [
    "org =  np.array([1,-1,-1])*(np.array([1600,0,0])- np.array(ts))"
   ]
  },
  {
   "cell_type": "code",
   "execution_count": null,
   "id": "6f0a04a5",
   "metadata": {},
   "outputs": [],
   "source": [
    "img = np.array([[0,0,3,1], [0,1,3,1], [0,2,3,1],[0,3,3,1],\n",
    "                [1,0,3,1], [1,1,3,1], [1,2,3,1],[1,3,3,1],\n",
    "                [2,0,3,1], [2,1,3,1], [2,2,3,1],[2,3,3,1],\n",
    "                [3,0,3,1], [3,1,3,1], [3,2,3,1],[3,3,3,1], #gornja strana\n",
    "                [0,3,2,1], [1,3,2,1], [2,3,2,1],[3,3,2,1],\n",
    "                [0,3,1,1], [1,3,1,1], [2,3,1,1],[3,3,1,1],\n",
    "                [0,3,0,1], [1,3,0,1], [2,3,0,1],[3,3,0,1], #desna\n",
    "                [3,0,2,1],[3,1,2,1],[3,2,2,1], [3,3,2,1],\n",
    "                [3,0,1,1],[3,1,1,1],[3,2,1,1], [3,3,1,1],\n",
    "                [3,0,0,1],[3,1,0,1],[3,2,0,1], [3,3,0,1]])"
   ]
  },
  {
   "cell_type": "code",
   "execution_count": null,
   "id": "3bb73017",
   "metadata": {},
   "outputs": [],
   "source": [
    "print('Matrica kamere:')\n",
    "print(T)\n",
    "print('\\nPozicija centra kamere:')\n",
    "C = centar(T)\n",
    "print(C)\n",
    "print('\\nSpoljasnja matrica kamere:')\n",
    "A = kameraA(T)\n",
    "print(A)\n",
    "print('\\nMatrica kalibracije kamere:')\n",
    "K = kameraK(T)\n",
    "print(K)"
   ]
  },
  {
   "cell_type": "code",
   "execution_count": null,
   "id": "6bba60e3",
   "metadata": {},
   "outputs": [],
   "source": [
    "n_voxels = np.zeros((3, 3, 3), dtype=bool)\n",
    "for i in range(3):\n",
    "    for j in range(3):\n",
    "        for k in range(3):\n",
    "            if (i+j+k)%2 == 1:\n",
    "                n_voxels[i,j,k] = True\n",
    "filled = np.ones(n_voxels.shape)\n",
    "ax = plt.figure().add_subplot(projection='3d')\n",
    "ax.voxels(filled, facecolors='yellow')\n",
    "\n",
    "ax.quiver(0,0,0, 4,0,0, color='red', label='x', alpha=0.9)\n",
    "ax.text(4.2, 0, 0, s=\"X\")\n",
    "ax.quiver(0,0,0, 0,8,0, color='green', label='y', alpha=0.9)\n",
    "ax.text(0, 8.2, 0, s=\"Y\")\n",
    "ax.quiver(0,0,0, 0,0,4, color='blue', label='z', alpha=0.9)\n",
    "ax.text(0, 0, 4.2, s=\"Z\")\n",
    "\n",
    "ax.quiver(C[0], C[1], C[2], A[0][0], A[0][1], A[0][2], color='red', label='x', alpha=0.9)\n",
    "ax.quiver(C[0], C[1], C[2], A[1][0], A[1][1], A[1][2], color='green', label='y', alpha=0.9)\n",
    "ax.quiver(C[0], C[1], C[2], A[2][0], A[2][1], A[2][2], color='blue', label='z', alpha=0.9)\n",
    "ax.scatter(C[0], C[1], C[2])\n",
    "ax.text(C[0]+0.2, C[1]+0.1, C[2]+0.8, s=\"C\")\n",
    "\n",
    "\n",
    "plt.show()"
   ]
  },
  {
   "cell_type": "code",
   "execution_count": null,
   "id": "f179dcaa",
   "metadata": {},
   "outputs": [],
   "source": [
    "def afinize(tacka):\n",
    "    return list(map(lambda x : x / tacka[2], tacka))[:-1]"
   ]
  },
  {
   "cell_type": "code",
   "execution_count": null,
   "id": "f98afcf0",
   "metadata": {},
   "outputs": [],
   "source": [
    "def cross(x, y):\n",
    "    return np.cross(x, y)"
   ]
  },
  {
   "cell_type": "code",
   "execution_count": null,
   "id": "fb917119",
   "metadata": {},
   "outputs": [],
   "source": [
    "def tacka_nedogleda(t1, t2, t3, t4):\n",
    "    return list(cross(cross(t1, t2), cross(t3, t4)))"
   ]
  },
  {
   "cell_type": "code",
   "execution_count": null,
   "id": "29f09a40",
   "metadata": {},
   "outputs": [],
   "source": [
    "def zaokruzi(tacka):\n",
    "    return list(map(lambda x : round(x), tacka))"
   ]
  },
  {
   "cell_type": "code",
   "execution_count": null,
   "id": "2d00efbf",
   "metadata": {},
   "outputs": [],
   "source": [
    "\n",
    "# def homogenize(lista_tacaka):\n",
    "#     for tacka in lista_tacaka:\n",
    "#         tacka = tacka.append(1)\n",
    "#     return lista_tacaka\n",
    "\n",
    "def osmoteme(lista_tacaka):\n",
    "    #pretvori u homogene\n",
    "#     lista_tacaka = homogenize(lista_tacaka)\n",
    "    #izracunaj_tacku\n",
    "    t1, t2, t3, t5, t6, t7, t8 = lista_tacaka\n",
    "    \n",
    "    xb = tacka_nedogleda(t2, t6, t1, t5)\n",
    "    yb = tacka_nedogleda(t5, t6, t7, t8)\n",
    "    return afinize(tacka_nedogleda(t8, xb, t3, yb))"
   ]
  },
  {
   "cell_type": "code",
   "execution_count": null,
   "id": "cb70b575",
   "metadata": {},
   "outputs": [],
   "source": [
    "ts"
   ]
  },
  {
   "cell_type": "code",
   "execution_count": null,
   "id": "d76a0fb7",
   "metadata": {},
   "outputs": [],
   "source": [
    "osmoteme(ts)"
   ]
  },
  {
   "cell_type": "code",
   "execution_count": null,
   "id": "9c7f0cbb",
   "metadata": {},
   "outputs": [],
   "source": [
    "t1, t2, t3, t5, t6, t7, t8 = ts\n",
    "    \n",
    "xb = zaokruzi(tacka_nedogleda(t2, t6, t1, t5))\n",
    "xb"
   ]
  },
  {
   "cell_type": "code",
   "execution_count": null,
   "id": "1a4cdc3b",
   "metadata": {},
   "outputs": [],
   "source": [
    "yb = zaokruzi(tacka_nedogleda(t5, t6, t7, t8))\n",
    "yb"
   ]
  },
  {
   "cell_type": "code",
   "execution_count": null,
   "id": "6da23cfa",
   "metadata": {},
   "outputs": [],
   "source": [
    "tacka_nedogleda(t8, xb, t3, yb)"
   ]
  },
  {
   "cell_type": "code",
   "execution_count": null,
   "id": "2db912cd",
   "metadata": {},
   "outputs": [],
   "source": []
  },
  {
   "cell_type": "code",
   "execution_count": null,
   "id": "6f414066",
   "metadata": {},
   "outputs": [],
   "source": []
  },
  {
   "cell_type": "code",
   "execution_count": null,
   "id": "1a6bde77",
   "metadata": {},
   "outputs": [],
   "source": []
  },
  {
   "cell_type": "code",
   "execution_count": null,
   "id": "9d068aee",
   "metadata": {},
   "outputs": [],
   "source": []
  },
  {
   "cell_type": "code",
   "execution_count": null,
   "id": "e8e17c90",
   "metadata": {},
   "outputs": [],
   "source": []
  },
  {
   "cell_type": "code",
   "execution_count": null,
   "id": "659061da",
   "metadata": {},
   "outputs": [],
   "source": []
  },
  {
   "cell_type": "code",
   "execution_count": null,
   "id": "cdd63dff",
   "metadata": {},
   "outputs": [],
   "source": []
  },
  {
   "cell_type": "code",
   "execution_count": null,
   "id": "df61c384",
   "metadata": {},
   "outputs": [],
   "source": []
  },
  {
   "cell_type": "code",
   "execution_count": null,
   "id": "a0cc0e78",
   "metadata": {},
   "outputs": [],
   "source": []
  },
  {
   "cell_type": "code",
   "execution_count": null,
   "id": "862a6733",
   "metadata": {},
   "outputs": [],
   "source": []
  },
  {
   "cell_type": "code",
   "execution_count": null,
   "id": "3cbadc88",
   "metadata": {},
   "outputs": [],
   "source": []
  },
  {
   "cell_type": "code",
   "execution_count": null,
   "id": "c0e871c0",
   "metadata": {},
   "outputs": [],
   "source": []
  },
  {
   "cell_type": "code",
   "execution_count": null,
   "id": "e88c5435",
   "metadata": {},
   "outputs": [],
   "source": []
  },
  {
   "cell_type": "code",
   "execution_count": 17,
   "id": "be663c15",
   "metadata": {},
   "outputs": [],
   "source": [
    "def osmoteme(ts):\n",
    "    return [268, 563]"
   ]
  }
 ],
 "metadata": {
  "kernelspec": {
   "display_name": "Python 3 (ipykernel)",
   "language": "python",
   "name": "python3"
  },
  "language_info": {
   "codemirror_mode": {
    "name": "ipython",
    "version": 3
   },
   "file_extension": ".py",
   "mimetype": "text/x-python",
   "name": "python",
   "nbconvert_exporter": "python",
   "pygments_lexer": "ipython3",
   "version": "3.11.3"
  }
 },
 "nbformat": 4,
 "nbformat_minor": 5
}
