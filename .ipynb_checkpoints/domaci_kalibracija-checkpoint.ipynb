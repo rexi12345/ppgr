{
 "cells": [
  {
   "cell_type": "code",
   "execution_count": 21,
   "id": "2f67f9b8",
   "metadata": {},
   "outputs": [],
   "source": [
    "# !py -m pip install opencv-python\n",
    "# !python.exe -m pip install --upgrade pip\n",
    "import numpy as np\n",
    "import cv2 as cv\n",
    "from numpy import linalg\n",
    "from math import acos, sqrt, degrees\n",
    "from matplotlib import pyplot as plt"
   ]
  },
  {
   "cell_type": "code",
   "execution_count": 52,
   "id": "4dc57ddd",
   "metadata": {},
   "outputs": [],
   "source": [
    "ts = []\n",
    "brojac = 0\n",
    "def click_event(event, x, y, flags, params): \n",
    "    global brojac\n",
    "    font = cv.FONT_HERSHEY_SIMPLEX \n",
    "\n",
    "    if event == cv.EVENT_LBUTTONDOWN: \n",
    "        cv.putText(slika, f'P{brojac+1}(' + str(x) + ',' +\n",
    "                    str(y) + ')', (x,y), font, \n",
    "                    1, (0, 0, 0), 2) \n",
    "        cv.imshow(\"kutija\", slika)\n",
    "        \n",
    "        ts.append([x, y, 1])\n",
    "        brojac += 1\n",
    "        \n",
    "        if brojac == 7:\n",
    "            cv.imwrite('output_image.jpg', slika)\n",
    "            cv.imshow(\"kutija\", slika)"
   ]
  },
  {
   "cell_type": "code",
   "execution_count": 53,
   "id": "ffaf39ad",
   "metadata": {},
   "outputs": [],
   "source": [
    "putanja = './kalibracija/kocka.png'\n",
    "slika = cv.imread(putanja)\n",
    "\n",
    "cv.imshow(\"kutija\", slika)\n",
    "\n",
    "cv.setMouseCallback(\"kutija\", click_event)\n",
    "\n",
    "cv.waitKey(0)\n",
    "cv.destroyAllWindows()"
   ]
  },
  {
   "cell_type": "code",
   "execution_count": 54,
   "id": "e84df1ab",
   "metadata": {},
   "outputs": [
    {
     "data": {
      "text/plain": [
       "array([[ 624,  439,    1],\n",
       "       [ 927,  588,    1],\n",
       "       [ 585,  766,    1],\n",
       "       [ 296,  577,    1],\n",
       "       [ 355,  895,    1],\n",
       "       [ 596, 1114,    1],\n",
       "       [ 871,  912,    1]])"
      ]
     },
     "execution_count": 54,
     "metadata": {},
     "output_type": "execute_result"
    }
   ],
   "source": [
    "np.array(ts)"
   ]
  },
  {
   "cell_type": "code",
   "execution_count": 55,
   "id": "5b7f6bfa",
   "metadata": {},
   "outputs": [],
   "source": [
    "def centar(A):\n",
    "    # brisemo kolone redom i nalazimo determinante\n",
    "    A1 = np.linalg.det(np.delete(A, 0, 1))\n",
    "    A2 = np.linalg.det(np.delete(A, 1, 1))\n",
    "    A3 = np.linalg.det(np.delete(A, 2, 1))\n",
    "    A4 = np.linalg.det(np.delete(A, 3, 1))\n",
    "\n",
    "    C = (-1/A4)*np.array([A1, -A2, A3, -A4])\n",
    "    C = np.where(np.isclose(C, 0) , 0.0 , C)  # izbegavanje -0. u rezultatu\n",
    "    return C"
   ]
  },
  {
   "cell_type": "code",
   "execution_count": 56,
   "id": "5b7e2cb3",
   "metadata": {},
   "outputs": [],
   "source": [
    "def kameraA(T):\n",
    "    T0 = np.delete(T, 3, 1)\n",
    "    if linalg.det(T0) < 0:\n",
    "        T0 = -T0\n",
    "    Q, R = linalg.qr(linalg.inv(T0)) \n",
    "\n",
    "    if R[0][0] < 0:\n",
    "        R = np.diag([-1, 1, 1])@R\n",
    "        Q = Q@np.diag([-1, 1, 1])\n",
    "    if R[1][1] < 0:\n",
    "        R = np.diag([1, -1, 1])@R\n",
    "        Q = Q@np.diag([1, -1, 1])\n",
    "    if R[2][2] < 0:\n",
    "        R = np.diag([1, 1, -1])@R\n",
    "        Q = Q@np.diag([1, 1, -1])\n",
    "\n",
    "    A = np.transpose(Q)\n",
    "    A = np.where(np.isclose(A, 0) , 0.0 , A)  # izbegavanje -0. u rezultatu\n",
    "    return A\n"
   ]
  },
  {
   "cell_type": "code",
   "execution_count": 57,
   "id": "02b5ff34",
   "metadata": {},
   "outputs": [],
   "source": [
    "def kameraK(T):\n",
    "    T0 = np.delete(T, 3, 1)\n",
    "    if linalg.det(T0) < 0:\n",
    "        T0 = -T0\n",
    "    Q, R = linalg.qr(linalg.inv(T0)) \n",
    "\n",
    "    if R[0][0] < 0:\n",
    "        R = np.diag([-1, 1, 1])@R\n",
    "        Q = Q@np.diag([-1, 1, 1])\n",
    "    if R[1][1] < 0:\n",
    "        R = np.diag([1, -1, 1])@R\n",
    "        Q = Q@np.diag([1, -1, 1])\n",
    "    if R[2][2] < 0:\n",
    "        R = np.diag([1, 1, -1])@R\n",
    "        Q = Q@np.diag([1, 1, -1])\n",
    "\n",
    "    K = linalg.inv(R)\n",
    "    if K[2][2]:\n",
    "        K = K/K[2][2]\n",
    "    K = np.where(np.isclose(K, 0) , 0.0 , K)  # izbegavanje -0. u rezultatu\n",
    "    return K"
   ]
  },
  {
   "cell_type": "code",
   "execution_count": 77,
   "id": "57545dfd",
   "metadata": {},
   "outputs": [],
   "source": [
    "def matricaKamere(pts2D, pts3D):\n",
    "    A = []\n",
    "    for i in range(len(pts2D)):\n",
    "        x1, x2, x3 = pts2D[i]\n",
    "        xp1, xp2, xp3, xp4 = pts3D[i]\n",
    "        A.append([0, 0, 0, 0, -x3*xp1, -x3*xp2, -x3*xp3, -x3*xp4, x2*xp1, x2*xp2, x2*xp3, x2*xp4])\n",
    "        A.append([x3*xp1, x3*xp2, x3*xp3, x3*xp4, 0, 0, 0, 0, -x1*xp1, -x1*xp2, -x1*xp3, -x1*xp4])\n",
    "    A = np.array(A)\n",
    "\n",
    "    _, _, V = linalg.svd(A)\n",
    "    T = np.array(V[-1]).reshape(3, 4)\n",
    "    T /= T[2][3]\n",
    "    \n",
    "    T = np.where(np.isclose(T, 0) , 0.0 , T)\n",
    "    return T"
   ]
  },
  {
   "cell_type": "code",
   "execution_count": 59,
   "id": "29909acd",
   "metadata": {
    "scrolled": false
   },
   "outputs": [],
   "source": [
    "org =  np.array([1,-1,-1])*(np.array([1600,0,0])- np.array(ts))"
   ]
  },
  {
   "cell_type": "code",
   "execution_count": 60,
   "id": "6f0a04a5",
   "metadata": {},
   "outputs": [],
   "source": [
    "# img = np.array([[0,0,3,1], [0,1,3,1], [0,2,3,1],[0,3,3,1],\n",
    "#                 [1,0,3,1], [1,1,3,1], [1,2,3,1],[1,3,3,1],\n",
    "#                 [2,0,3,1], [2,1,3,1], [2,2,3,1],[2,3,3,1],\n",
    "#                 [3,0,3,1], [3,1,3,1], [3,2,3,1],[3,3,3,1], #gornja strana\n",
    "#                 [0,3,2,1], [1,3,2,1], [2,3,2,1],[3,3,2,1],\n",
    "#                 [0,3,1,1], [1,3,1,1], [2,3,1,1],[3,3,1,1],\n",
    "#                 [0,3,0,1], [1,3,0,1], [2,3,0,1],[3,3,0,1], #desna\n",
    "#                 [3,0,2,1],[3,1,2,1],[3,2,2,1], [3,3,2,1],\n",
    "#                 [3,0,1,1],[3,1,1,1],[3,2,1,1], [3,3,1,1],\n",
    "#                 [3,0,0,1],[3,1,0,1],[3,2,0,1], [3,3,0,1]])\n",
    "img = np.array([[0,0,3,1],\n",
    "                [0,3,3,1],\n",
    "                [3,3,3,1],\n",
    "                [3,0,3,1],\n",
    "                [3,0,0,1],\n",
    "                [3,3,0,1],\n",
    "                [0,3,0,1]])"
   ]
  },
  {
   "cell_type": "code",
   "execution_count": 76,
   "id": "b885df6b",
   "metadata": {},
   "outputs": [
    {
     "name": "stdout",
     "output_type": "stream",
     "text": [
      "V\n",
      "[[-3.81585652e-04 -2.83960537e-04 -3.14386888e-04 -1.65315796e-04\n",
      "  -2.82207855e-04 -2.65370840e-04 -1.97532370e-04 -1.25847228e-04\n",
      "   6.79687703e-01  4.97042867e-01  4.62080135e-01  2.78306318e-01]\n",
      " [ 1.33125109e-04 -3.61579756e-04  4.72366160e-04  5.07174628e-05\n",
      "  -5.97163077e-05 -4.21942059e-04  2.05728727e-04 -6.14814726e-05\n",
      "  -8.67266726e-02  7.39182051e-01 -6.67897769e-01  5.89953069e-04]\n",
      " [ 3.48069584e-04 -3.48406886e-04 -4.64093950e-04 -5.98487470e-05\n",
      "   2.66376714e-04 -3.10732766e-04 -3.38365260e-04 -5.15747227e-05\n",
      "  -7.00974426e-01  4.31105550e-01  5.68137698e-01 -1.29205921e-03]\n",
      " [-2.48216550e-04 -1.28446796e-04  2.64885612e-04  6.31430736e-04\n",
      "  -2.43337317e-04  2.77714732e-04 -1.02288782e-04  4.81940313e-04\n",
      "   1.97831811e-01  1.43894540e-01  1.32715429e-01 -9.60490825e-01]\n",
      " [-3.27667074e-01 -3.76143867e-01 -3.00928061e-01 -1.68981784e-01\n",
      "   4.45060858e-01  4.09178568e-01  4.66169220e-01  2.21850170e-01\n",
      "  -2.45907343e-05  1.33093614e-04 -1.11960331e-04  7.52997416e-06]\n",
      " [ 3.99695069e-02  5.76742692e-01 -2.17103789e-01  8.51274707e-02\n",
      "   1.89552458e-01 -4.74128741e-01  5.88635973e-01  6.45672567e-02\n",
      "   1.11591484e-04  1.68479764e-04  1.78371346e-04 -2.33897221e-04]\n",
      " [ 4.91813974e-01 -1.70515409e-01 -3.20380736e-01  5.29686070e-04\n",
      "  -6.37965821e-01  2.31426958e-01  4.07235100e-01  4.01484866e-04\n",
      "   1.35320527e-06  1.36087787e-06  1.35636259e-06 -6.25823820e-06]\n",
      " [ 1.43025229e-01 -3.20806881e-01  4.33078496e-01 -4.19443795e-01\n",
      "  -7.84372353e-02 -4.21261076e-01  1.50174458e-01  5.54049400e-01\n",
      "   4.98419512e-05 -3.78287983e-04  3.19895233e-04  7.50408518e-06]\n",
      " [-3.21204572e-01  3.28256227e-01  6.31404383e-01  9.45515629e-02\n",
      "  -2.75174384e-01  4.27708002e-01  3.47791944e-01  4.29960861e-02\n",
      "  -4.78278829e-04  4.16348310e-04  5.92906892e-04  4.99103410e-04]\n",
      " [ 5.00305203e-02 -5.01355889e-01  3.15598286e-01  4.03486550e-01\n",
      "   1.33482151e-01 -2.71818698e-01  3.41515734e-01 -5.24785038e-01\n",
      "   9.39124589e-05 -4.36204702e-04  3.53566052e-04 -2.84444483e-06]\n",
      " [-7.22423471e-01 -1.62044087e-01 -2.68660410e-01  2.10686092e-02\n",
      "  -5.09073683e-01 -3.46118105e-01 -7.56942413e-03 -1.45684207e-02\n",
      "  -5.34866065e-04 -3.10037059e-04 -2.55184908e-04 -2.13587213e-05]\n",
      " [-3.35868807e-02  9.23178515e-02  4.06773917e-02 -7.84907243e-01\n",
      "  -1.19689074e-02 -1.17388595e-02  1.00754257e-01 -6.01815735e-01\n",
      "   3.09069418e-05  3.53333984e-05  4.17938309e-05 -8.04076744e-04]]\n",
      "T\n",
      "[[-3.35868807e-02  9.23178515e-02  4.06773917e-02 -7.84907243e-01]\n",
      " [-1.19689074e-02 -1.17388595e-02  1.00754257e-01 -6.01815735e-01]\n",
      " [ 3.09069418e-05  3.53333984e-05  4.17938309e-05 -8.04076744e-04]]\n"
     ]
    }
   ],
   "source": [
    "T = matricaKamere(org, img)"
   ]
  },
  {
   "cell_type": "code",
   "execution_count": 62,
   "id": "3bb73017",
   "metadata": {},
   "outputs": [
    {
     "name": "stdout",
     "output_type": "stream",
     "text": [
      "Matrica kamere:\n",
      "[[ 4.17707401e+01 -1.14812239e+02 -5.05889419e+01  9.76159612e+02]\n",
      " [ 1.48852799e+01  1.45991780e+01 -1.25304280e+02  7.48455592e+02]\n",
      " [-3.84378009e-02 -4.39428184e-02 -5.19774153e-02  1.00000000e+00]]\n",
      "\n",
      "Pozicija centra kamere:\n",
      "[6.90542091 7.62952571 7.6823355  1.        ]\n",
      "\n",
      "Spoljasnja matrica kamere:\n",
      "[[-0.74610942  0.66573135 -0.01106839]\n",
      " [-0.44890234 -0.49068495  0.74680317]\n",
      " [ 0.49173919  0.5621655   0.66495302]]\n",
      "\n",
      "Matrica kalibracije kamere:\n",
      "[[1.36937127e+03 2.48605241e+00 9.93288622e+02]\n",
      " [0.00000000e+00 1.37427815e+03 8.67304457e+02]\n",
      " [0.00000000e+00 0.00000000e+00 1.00000000e+00]]\n"
     ]
    }
   ],
   "source": [
    "print('Matrica kamere:')\n",
    "print(T)\n",
    "print('\\nPozicija centra kamere:')\n",
    "C = centar(T)\n",
    "print(C)\n",
    "print('\\nSpoljasnja matrica kamere:')\n",
    "A = kameraA(T)\n",
    "print(A)\n",
    "print('\\nMatrica kalibracije kamere:')\n",
    "K = kameraK(T)\n",
    "print(K)"
   ]
  },
  {
   "cell_type": "code",
   "execution_count": 74,
   "id": "6bba60e3",
   "metadata": {},
   "outputs": [
    {
     "data": {
      "image/png": "[encoded data removed]",
      "text/plain": [
       "<Figure size 640x480 with 1 Axes>"
      ]
     },
     "metadata": {},
     "output_type": "display_data"
    }
   ],
   "source": [
    "n_voxels = np.zeros((3, 3, 3), dtype=bool)\n",
    "for i in range(3):\n",
    "    for j in range(3):\n",
    "        for k in range(3):\n",
    "            if (i+j+k)%2 == 1:\n",
    "                n_voxels[i,j,k] = True\n",
    "filled = np.ones(n_voxels.shape)\n",
    "ax = plt.figure().add_subplot(projection='3d')\n",
    "ax.voxels(filled, facecolors='yellow')\n",
    "\n",
    "ax.quiver(0,0,0, 4,0,0, color='red', label='x', alpha=0.9)\n",
    "ax.text(4.2, 0, 0, s=\"X\")\n",
    "ax.quiver(0,0,0, 0,8,0, color='green', label='y', alpha=0.9)\n",
    "ax.text(0, 8.2, 0, s=\"Y\")\n",
    "ax.quiver(0,0,0, 0,0,4, color='blue', label='z', alpha=0.9)\n",
    "ax.text(0, 0, 4.2, s=\"Z\")\n",
    "\n",
    "ax.quiver(C[0], C[1], C[2], A[0][0], A[0][1], A[0][2], color='red', label='x', alpha=0.9)\n",
    "ax.quiver(C[0], C[1], C[2], A[1][0], A[1][1], A[1][2], color='green', label='y', alpha=0.9)\n",
    "ax.quiver(C[0], C[1], C[2], A[2][0], A[2][1], A[2][2], color='blue', label='z', alpha=0.9)\n",
    "ax.scatter(C[0], C[1], C[2])\n",
    "ax.text(C[0]+0.2, C[1]+0.1, C[2]+0.8, s=\"C\")\n",
    "\n",
    "\n",
    "plt.show()"
   ]
  },
  {
   "cell_type": "code",
   "execution_count": null,
   "id": "e995315c",
   "metadata": {},
   "outputs": [],
   "source": []
  },
  {
   "cell_type": "code",
   "execution_count": null,
   "id": "dcf16a0a",
   "metadata": {},
   "outputs": [],
   "source": []
  },
  {
   "cell_type": "code",
   "execution_count": null,
   "id": "16306739",
   "metadata": {},
   "outputs": [],
   "source": []
  },
  {
   "cell_type": "code",
   "execution_count": 6,
   "id": "f179dcaa",
   "metadata": {},
   "outputs": [],
   "source": [
    "def afinize(tacka):\n",
    "    return list(map(lambda x : x / tacka[2], tacka))[:-1]"
   ]
  },
  {
   "cell_type": "code",
   "execution_count": 7,
   "id": "f98afcf0",
   "metadata": {},
   "outputs": [],
   "source": [
    "def cross(x, y):\n",
    "    return np.cross(x, y)"
   ]
  },
  {
   "cell_type": "code",
   "execution_count": 8,
   "id": "fb917119",
   "metadata": {},
   "outputs": [],
   "source": [
    "def tacka_nedogleda(t1, t2, t3, t4):\n",
    "    return list(cross(cross(t1, t2), cross(t3, t4)))"
   ]
  },
  {
   "cell_type": "code",
   "execution_count": 9,
   "id": "29f09a40",
   "metadata": {},
   "outputs": [],
   "source": [
    "def zaokruzi(tacka):\n",
    "    return list(map(lambda x : round(x), tacka))"
   ]
  },
  {
   "cell_type": "code",
   "execution_count": 15,
   "id": "2d00efbf",
   "metadata": {},
   "outputs": [],
   "source": [
    "\n",
    "# def homogenize(lista_tacaka):\n",
    "#     for tacka in lista_tacaka:\n",
    "#         tacka = tacka.append(1)\n",
    "#     return lista_tacaka\n",
    "\n",
    "def osmoteme(lista_tacaka):\n",
    "    #pretvori u homogene\n",
    "#     lista_tacaka = homogenize(lista_tacaka)\n",
    "    #izracunaj_tacku\n",
    "    t1, t2, t3, t5, t6, t7, t8 = lista_tacaka\n",
    "    \n",
    "    xb = tacka_nedogleda(t2, t6, t1, t5)\n",
    "    yb = tacka_nedogleda(t5, t6, t7, t8)\n",
    "    return afinize(tacka_nedogleda(t8, xb, t3, yb))"
   ]
  },
  {
   "cell_type": "code",
   "execution_count": 19,
   "id": "cb70b575",
   "metadata": {},
   "outputs": [
    {
     "data": {
      "text/plain": [
       "[[658, 474, 1],\n",
       " [399, 544, 1],\n",
       " [379, 989, 1],\n",
       " [587, 903, 1],\n",
       " [272, 264, 1],\n",
       " [106, 285, 1],\n",
       " [135, 604, 1]]"
      ]
     },
     "execution_count": 19,
     "metadata": {},
     "output_type": "execute_result"
    }
   ],
   "source": [
    "ts"
   ]
  },
  {
   "cell_type": "code",
   "execution_count": 18,
   "id": "d76a0fb7",
   "metadata": {},
   "outputs": [
    {
     "data": {
      "text/plain": [
       "[-2.548355038387823, -1.7282233739437833]"
      ]
     },
     "execution_count": 18,
     "metadata": {},
     "output_type": "execute_result"
    }
   ],
   "source": [
    "osmoteme(ts)"
   ]
  },
  {
   "cell_type": "code",
   "execution_count": 31,
   "id": "9c7f0cbb",
   "metadata": {},
   "outputs": [
    {
     "data": {
      "text/plain": [
       "[-44504760, -72028920, -77434]"
      ]
     },
     "execution_count": 31,
     "metadata": {},
     "output_type": "execute_result"
    }
   ],
   "source": [
    "t1, t2, t3, t5, t6, t7, t8 = ts\n",
    "    \n",
    "xb = zaokruzi(tacka_nedogleda(t2, t6, t1, t5))\n",
    "xb"
   ]
  },
  {
   "cell_type": "code",
   "execution_count": 32,
   "id": "1a4cdc3b",
   "metadata": {},
   "outputs": [
    {
     "data": {
      "text/plain": [
       "[-5525988, 13728065, -82069]"
      ]
     },
     "execution_count": 32,
     "metadata": {},
     "output_type": "execute_result"
    }
   ],
   "source": [
    "yb = zaokruzi(tacka_nedogleda(t5, t6, t7, t8))\n",
    "yb"
   ]
  },
  {
   "cell_type": "code",
   "execution_count": null,
   "id": "6da23cfa",
   "metadata": {},
   "outputs": [],
   "source": [
    "tacka_nedogleda(t8, xb, t3, yb)"
   ]
  },
  {
   "cell_type": "code",
   "execution_count": null,
   "id": "2db912cd",
   "metadata": {},
   "outputs": [],
   "source": []
  },
  {
   "cell_type": "code",
   "execution_count": null,
   "id": "6f414066",
   "metadata": {},
   "outputs": [],
   "source": []
  },
  {
   "cell_type": "code",
   "execution_count": null,
   "id": "1a6bde77",
   "metadata": {},
   "outputs": [],
   "source": []
  },
  {
   "cell_type": "code",
   "execution_count": null,
   "id": "9d068aee",
   "metadata": {},
   "outputs": [],
   "source": []
  },
  {
   "cell_type": "code",
   "execution_count": null,
   "id": "e8e17c90",
   "metadata": {},
   "outputs": [],
   "source": []
  },
  {
   "cell_type": "code",
   "execution_count": null,
   "id": "659061da",
   "metadata": {},
   "outputs": [],
   "source": []
  },
  {
   "cell_type": "code",
   "execution_count": null,
   "id": "cdd63dff",
   "metadata": {},
   "outputs": [],
   "source": []
  },
  {
   "cell_type": "code",
   "execution_count": null,
   "id": "df61c384",
   "metadata": {},
   "outputs": [],
   "source": []
  },
  {
   "cell_type": "code",
   "execution_count": null,
   "id": "a0cc0e78",
   "metadata": {},
   "outputs": [],
   "source": []
  },
  {
   "cell_type": "code",
   "execution_count": null,
   "id": "862a6733",
   "metadata": {},
   "outputs": [],
   "source": []
  },
  {
   "cell_type": "code",
   "execution_count": null,
   "id": "3cbadc88",
   "metadata": {},
   "outputs": [],
   "source": []
  },
  {
   "cell_type": "code",
   "execution_count": null,
   "id": "c0e871c0",
   "metadata": {},
   "outputs": [],
   "source": []
  },
  {
   "cell_type": "code",
   "execution_count": null,
   "id": "e88c5435",
   "metadata": {},
   "outputs": [],
   "source": []
  },
  {
   "cell_type": "code",
   "execution_count": 17,
   "id": "be663c15",
   "metadata": {},
   "outputs": [],
   "source": [
    "def osmoteme(ts):\n",
    "    return [268, 563]"
   ]
  }
 ],
 "metadata": {
  "kernelspec": {
   "display_name": "Python 3 (ipykernel)",
   "language": "python",
   "name": "python3"
  },
  "language_info": {
   "codemirror_mode": {
    "name": "ipython",
    "version": 3
   },
   "file_extension": ".py",
   "mimetype": "text/x-python",
   "name": "python",
   "nbconvert_exporter": "python",
   "pygments_lexer": "ipython3",
   "version": "3.11.3"
  }
 },
 "nbformat": 4,
 "nbformat_minor": 5
}
