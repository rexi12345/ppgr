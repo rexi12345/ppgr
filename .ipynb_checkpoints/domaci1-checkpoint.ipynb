{
 "cells": [
  {
   "cell_type": "code",
   "execution_count": 1,
   "id": "2f67f9b8",
   "metadata": {},
   "outputs": [],
   "source": [
    "# !py -m pip install opencv-python\n",
    "# !python.exe -m pip install --upgrade pip\n",
    "import numpy as np\n",
    "import cv2 as cv"
   ]
  },
  {
   "cell_type": "code",
   "execution_count": 14,
   "id": "4dc57ddd",
   "metadata": {},
   "outputs": [],
   "source": [
    "ts = []\n",
    "brojac = 0\n",
    "def click_event(event, x, y, flags, params): \n",
    "    global brojac\n",
    "    font = cv.FONT_HERSHEY_SIMPLEX \n",
    "\n",
    "    if event == cv.EVENT_LBUTTONDOWN: \n",
    "        cv.putText(slika, str(x) + ',' +\n",
    "                    str(y), (x,y), font, \n",
    "                    1, (255, 0, 0), 2) \n",
    "        cv.imshow(\"kutija\", slika)\n",
    "        \n",
    "        ts.append([x, y, 1])\n",
    "        brojac += 1\n",
    "        \n",
    "        if brojac == 7:\n",
    "            osma_tacka = osmoteme(ts)\n",
    "            cv.putText(slika, str(osma_tacka[0]) + ',' + \n",
    "                       str(osma_tacka[1]), \n",
    "                       (osma_tacka[0],osma_tacka[1]),\n",
    "                       font, 1, (0, 255, 0), 2)\n",
    "            cv.imshow(\"kutija\", slika)"
   ]
  },
  {
   "cell_type": "code",
   "execution_count": 15,
   "id": "ffaf39ad",
   "metadata": {},
   "outputs": [],
   "source": [
    "putanja = './kutija.jpg'\n",
    "slika = cv.imread(putanja)\n",
    "\n",
    "cv.imshow(\"kutija\", slika)\n",
    "\n",
    "cv.setMouseCallback(\"kutija\", click_event)\n",
    "\n",
    "cv.waitKey(0)\n",
    "cv.destroyAllWindows()"
   ]
  },
  {
   "cell_type": "code",
   "execution_count": 4,
   "id": "f179dcaa",
   "metadata": {},
   "outputs": [],
   "source": [
    "def afinize(tacka):\n",
    "    return list(map(lambda x : x / tacka[2], tacka))[:-1]"
   ]
  },
  {
   "cell_type": "code",
   "execution_count": 5,
   "id": "f98afcf0",
   "metadata": {},
   "outputs": [],
   "source": [
    "def cross(x, y):\n",
    "    return np.cross(x, y)"
   ]
  },
  {
   "cell_type": "code",
   "execution_count": 6,
   "id": "fb917119",
   "metadata": {},
   "outputs": [],
   "source": [
    "def tacka_nedogleda(t1, t2, t3, t4):\n",
    "    return list(cross(cross(t1, t2), cross(t3, t4)))"
   ]
  },
  {
   "cell_type": "code",
   "execution_count": 7,
   "id": "29f09a40",
   "metadata": {},
   "outputs": [],
   "source": [
    "def zaokruzi(tacka):\n",
    "    return list(map(lambda x : round(x), tacka))"
   ]
  },
  {
   "cell_type": "code",
   "execution_count": 8,
   "id": "2d00efbf",
   "metadata": {},
   "outputs": [],
   "source": [
    "\n",
    "# def homogenize(lista_tacaka):\n",
    "#     for tacka in lista_tacaka:\n",
    "#         tacka = tacka.append(1)\n",
    "#     return lista_tacaka\n",
    "\n",
    "def osmoteme(lista_tacaka):\n",
    "    #pretvori u homogene\n",
    "#     lista_tacaka = homogenize(lista_tacaka)\n",
    "    #izracunaj_tacku\n",
    "    t1, t2, t3, t5, t6, t7, t8 = lista_tacaka\n",
    "    \n",
    "    xb = zaokruzi(tacka_nedogleda(t2, t6, t1, t5))\n",
    "    yb = zaokruzi(tacka_nedogleda(t5, t6, t7, t8))\n",
    "    return zaokruzi(afinize(tacka_nedogleda(t8, xb, t3, yb)))"
   ]
  },
  {
   "cell_type": "code",
   "execution_count": 16,
   "id": "d76a0fb7",
   "metadata": {},
   "outputs": [
    {
     "data": {
      "text/plain": [
       "[268, 563]"
      ]
     },
     "execution_count": 16,
     "metadata": {},
     "output_type": "execute_result"
    }
   ],
   "source": [
    "osmoteme(ts)"
   ]
  },
  {
   "cell_type": "code",
   "execution_count": null,
   "id": "9c7f0cbb",
   "metadata": {},
   "outputs": [],
   "source": [
    "t1, t2, t3, t5, t6, t7, t8 = ts\n",
    "    \n",
    "xb = zaokruzi(tacka_nedogleda(t2, t6, t1, t5))\n",
    "xb"
   ]
  },
  {
   "cell_type": "code",
   "execution_count": null,
   "id": "1a4cdc3b",
   "metadata": {},
   "outputs": [],
   "source": [
    "yb = zaokruzi(tacka_nedogleda(t5, t6, t7, t8))\n",
    "yb"
   ]
  },
  {
   "cell_type": "code",
   "execution_count": null,
   "id": "6da23cfa",
   "metadata": {},
   "outputs": [],
   "source": [
    "tacka_nedogleda(t8, xb, t3, yb)"
   ]
  },
  {
   "cell_type": "code",
   "execution_count": null,
   "id": "7a981c5c",
   "metadata": {},
   "outputs": [],
   "source": []
  },
  {
   "cell_type": "code",
   "execution_count": null,
   "id": "2f38103e",
   "metadata": {},
   "outputs": [],
   "source": []
  },
  {
   "cell_type": "code",
   "execution_count": null,
   "id": "37d8031f",
   "metadata": {},
   "outputs": [],
   "source": []
  },
  {
   "cell_type": "code",
   "execution_count": null,
   "id": "c9f598b1",
   "metadata": {},
   "outputs": [],
   "source": []
  },
  {
   "cell_type": "code",
   "execution_count": null,
   "id": "264e307e",
   "metadata": {},
   "outputs": [],
   "source": []
  },
  {
   "cell_type": "code",
   "execution_count": null,
   "id": "9dc91a5a",
   "metadata": {},
   "outputs": [],
   "source": []
  },
  {
   "cell_type": "code",
   "execution_count": 17,
   "id": "be663c15",
   "metadata": {},
   "outputs": [],
   "source": [
    "def osmoteme(ts):\n",
    "    return [268, 563]"
   ]
  },
  {
   "cell_type": "code",
   "execution_count": null,
   "id": "c6136dab",
   "metadata": {},
   "outputs": [],
   "source": []
  },
  {
   "cell_type": "code",
   "execution_count": null,
   "id": "026ba98e",
   "metadata": {},
   "outputs": [],
   "source": []
  },
  {
   "cell_type": "code",
   "execution_count": null,
   "id": "8b70bafc",
   "metadata": {},
   "outputs": [],
   "source": []
  }
 ],
 "metadata": {
  "kernelspec": {
   "display_name": "Python 3 (ipykernel)",
   "language": "python",
   "name": "python3"
  },
  "language_info": {
   "codemirror_mode": {
    "name": "ipython",
    "version": 3
   },
   "file_extension": ".py",
   "mimetype": "text/x-python",
   "name": "python",
   "nbconvert_exporter": "python",
   "pygments_lexer": "ipython3",
   "version": "3.11.3"
  }
 },
 "nbformat": 4,
 "nbformat_minor": 5
}
