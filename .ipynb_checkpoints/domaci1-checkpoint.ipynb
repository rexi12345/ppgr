{
 "cells": [
  {
   "cell_type": "code",
   "execution_count": 56,
   "id": "2f67f9b8",
   "metadata": {},
   "outputs": [],
   "source": [
    "# !py -m pip install opencv-python\n",
    "# !python.exe -m pip install --upgrade pip\n",
    "import numpy as np\n",
    "import cv2 as cv"
   ]
  },
  {
   "cell_type": "code",
   "execution_count": 57,
   "id": "9390c8b2",
   "metadata": {},
   "outputs": [],
   "source": [
    "ts = []\n",
    "def click_event(event, x, y, flags, params): \n",
    "    if event == cv.EVENT_LBUTTONDOWN: \n",
    "        font = cv.FONT_HERSHEY_SIMPLEX \n",
    "        cv.putText(slika, str(x) + ',' +\n",
    "                    str(y), (x,y), font, \n",
    "                    1, (255, 0, 0), 2) \n",
    "        cv.imshow(\"kutija\", slika)\n",
    "        \n",
    "        ts.append([x, y, 1])"
   ]
  },
  {
   "cell_type": "code",
   "execution_count": 58,
   "id": "ffaf39ad",
   "metadata": {},
   "outputs": [],
   "source": [
    "putanja = './kutija.jpg'\n",
    "slika = cv.imread(putanja)\n",
    "\n",
    "cv.imshow(\"kutija\", slika)\n",
    "\n",
    "cv.setMouseCallback(\"kutija\", click_event)\n",
    "\n",
    "cv.waitKey(0)\n",
    "cv.destroyAllWindows()"
   ]
  },
  {
   "cell_type": "code",
   "execution_count": 59,
   "id": "868379e3",
   "metadata": {},
   "outputs": [
    {
     "data": {
      "text/plain": [
       "[[634, 606, 1],\n",
       " [415, 989, 1],\n",
       " [236, 896, 1],\n",
       " [667, 281, 1],\n",
       " [398, 543, 1],\n",
       " [162, 475, 1],\n",
       " [513, 261, 1]]"
      ]
     },
     "execution_count": 59,
     "metadata": {},
     "output_type": "execute_result"
    }
   ],
   "source": [
    "ts"
   ]
  },
  {
   "cell_type": "code",
   "execution_count": 5,
   "id": "1e9c5ee8",
   "metadata": {},
   "outputs": [],
   "source": [
    "def afinize(tacka):\n",
    "    return list(map(lambda x : x / tacka[2], tacka))"
   ]
  },
  {
   "cell_type": "code",
   "execution_count": 6,
   "id": "d5dc0ec0",
   "metadata": {},
   "outputs": [],
   "source": [
    "def cross(x, y):\n",
    "    return list(np.cross(x, y))"
   ]
  },
  {
   "cell_type": "code",
   "execution_count": 7,
   "id": "ef0b9896",
   "metadata": {},
   "outputs": [],
   "source": [
    "def tacka_nedogleda(t1, t2, t3, t4):\n",
    "    return cross(cross(t1, t2), cross(t3, t4))"
   ]
  },
  {
   "cell_type": "code",
   "execution_count": 8,
   "id": "0eb04496",
   "metadata": {},
   "outputs": [],
   "source": [
    "def osmoteme(t1, t2, t3, t5, t6, t7, t8):\n",
    "    xb = tacka_nedogleda(t2, t6, t1, t5)\n",
    "    yb = tacka_nedogleda(t5, t6, t7, t8)\n",
    "    return tacka_nedogleda(t8, xb, t3, yb)\n"
   ]
  },
  {
   "cell_type": "code",
   "execution_count": 61,
   "id": "1fd208a5",
   "metadata": {},
   "outputs": [],
   "source": [
    "t1 = [595, 301, 1]\n",
    "t2 = [292, 517, 1]\n",
    "t3 = [157, 379, 1]\n",
    "t5 = [665, 116, 1]\n",
    "t6 = [304, 295, 1]\n",
    "t7 = [135, 163, 1]\n",
    "t8 = [509, 43, 1]\n",
    "# t4 = [515, 591, 1]\n"
   ]
  },
  {
   "cell_type": "code",
   "execution_count": 38,
   "id": "8560a650",
   "metadata": {},
   "outputs": [],
   "source": [
    "t1,t2,t3,t5,t6,t7,t8 = ts"
   ]
  },
  {
   "cell_type": "code",
   "execution_count": 65,
   "id": "73460e10",
   "metadata": {},
   "outputs": [
    {
     "data": {
      "text/plain": [
       "array([-1306934452,  1585246804,  -257809220])"
      ]
     },
     "execution_count": 65,
     "metadata": {},
     "output_type": "execute_result"
    }
   ],
   "source": [
    "t4 = nevidljiva(t1, t2, t3, t5, t6, t7, t8)\n",
    "t4"
   ]
  },
  {
   "cell_type": "code",
   "execution_count": 53,
   "id": "71670337",
   "metadata": {},
   "outputs": [
    {
     "data": {
      "text/plain": [
       "[-2.1395489197750734, 2.2467886560601706, 1.0]"
      ]
     },
     "execution_count": 53,
     "metadata": {},
     "output_type": "execute_result"
    }
   ],
   "source": [
    "p4 = nevidljiva(t1, t2, t3, t5, t6, t7, t8)\n",
    "afinize(p4)"
   ]
  },
  {
   "cell_type": "code",
   "execution_count": 43,
   "id": "24bb50ce",
   "metadata": {},
   "outputs": [
    {
     "data": {
      "text/plain": [
       "[-0.02085158628033888, 0.1813962940183246, 1.0]"
      ]
     },
     "execution_count": 43,
     "metadata": {},
     "output_type": "execute_result"
    }
   ],
   "source": [
    "p1=(682,633,1)\n",
    "p2=(354,972,1)\n",
    "p3=(141,844,1)\n",
    "p5=(759,337,1)\n",
    "p6=(312,670,1)\n",
    "p7=(17,540,1)\n",
    "p8=(497,286,1)\n",
    "\n",
    "def nevidljiva(p1,p2,p3,p5,p6,p7,p8):\n",
    "    xb = np.cross(np.cross(p2,p6), np.cross(p1,p5))\n",
    "    yb = np.cross(np.cross(p5,p6), np.cross(p7,p8))\n",
    "    p4 = np.cross(np.cross(p8,xb), np.cross(p3,yb))\n",
    "    return p4\n",
    "\n",
    "p4 = nevidljiva(p1,p2,p3,p5,p6,p7,p8)\n",
    "l = []\n",
    "for p in p4: \n",
    "    p /= p4[2]\n",
    "    l.append(int(p))\n",
    "\n",
    "afinize(p4)"
   ]
  },
  {
   "cell_type": "code",
   "execution_count": null,
   "id": "2d00efbf",
   "metadata": {},
   "outputs": [],
   "source": []
  }
 ],
 "metadata": {
  "kernelspec": {
   "display_name": "Python 3 (ipykernel)",
   "language": "python",
   "name": "python3"
  },
  "language_info": {
   "codemirror_mode": {
    "name": "ipython",
    "version": 3
   },
   "file_extension": ".py",
   "mimetype": "text/x-python",
   "name": "python",
   "nbconvert_exporter": "python",
   "pygments_lexer": "ipython3",
   "version": "3.11.3"
  }
 },
 "nbformat": 4,
 "nbformat_minor": 5
}
