{
 "cells": [
  {
   "cell_type": "code",
   "execution_count": 1,
   "id": "2f67f9b8",
   "metadata": {},
   "outputs": [],
   "source": [
    "# !py -m pip install opencv-python\n",
    "# !python.exe -m pip install --upgrade pip\n",
    "import numpy as np\n",
    "import cv2 as cv\n",
    "from numpy import linalg\n",
    "from math import acos, sqrt, degrees\n",
    "from matplotlib import pyplot as plt"
   ]
  },
  {
   "cell_type": "code",
   "execution_count": 44,
   "id": "4dc57ddd",
   "metadata": {},
   "outputs": [],
   "source": [
    "ts = []\n",
    "brojac = 0\n",
    "def click_event(event, x, y, flags, params): \n",
    "    global brojac\n",
    "    font = cv.FONT_HERSHEY_SIMPLEX \n",
    "\n",
    "    if event == cv.EVENT_LBUTTONDOWN: \n",
    "        cv.putText(slika, f'P{brojac+1}(' + str(x) + ',' +\n",
    "                    str(y) + ')', (x,y), font, \n",
    "                    1, (0, 0, 0), 2) \n",
    "        cv.imshow(\"kutija\", slika)\n",
    "        \n",
    "        ts.append([x, y, 1])\n",
    "        brojac += 1\n",
    "        \n",
    "        if brojac == 7:\n",
    "            cv.imwrite('output_image.jpg', slika)\n",
    "            cv.imshow(\"kutija\", slika)"
   ]
  },
  {
   "cell_type": "code",
   "execution_count": 45,
   "id": "ffaf39ad",
   "metadata": {},
   "outputs": [],
   "source": [
    "putanja = './kalibracija/kocka.png'\n",
    "slika = cv.imread(putanja)\n",
    "\n",
    "cv.imshow(\"kutija\", slika)\n",
    "\n",
    "cv.setMouseCallback(\"kutija\", click_event)\n",
    "\n",
    "cv.waitKey(0)\n",
    "cv.destroyAllWindows()"
   ]
  },
  {
   "cell_type": "code",
   "execution_count": 34,
   "id": "e84df1ab",
   "metadata": {},
   "outputs": [
    {
     "data": {
      "text/plain": [
       "array([[ 622,  441,    1],\n",
       "       [ 714,  482,    1],\n",
       "       [ 811,  531,    1],\n",
       "       [ 926,  586,    1],\n",
       "       [ 529,  476,    1],\n",
       "       [ 614,  523,    1],\n",
       "       [ 717,  573,    1],\n",
       "       [ 827,  632,    1],\n",
       "       [ 418,  527,    1],\n",
       "       [ 502,  575,    1],\n",
       "       [ 602,  634,    1],\n",
       "       [ 706,  697,    1],\n",
       "       [ 301,  569,    1],\n",
       "       [ 377,  621,    1],\n",
       "       [ 478,  687,    1],\n",
       "       [ 589,  760,    1],\n",
       "       [ 906,  716,    1],\n",
       "       [ 818,  771,    1],\n",
       "       [ 712,  830,    1],\n",
       "       [ 587,  898,    1],\n",
       "       [ 884,  835,    1],\n",
       "       [ 804,  879,    1],\n",
       "       [ 703,  945,    1],\n",
       "       [ 592, 1011,    1],\n",
       "       [ 871,  914,    1],\n",
       "       [ 791,  974,    1],\n",
       "       [ 698, 1037,    1],\n",
       "       [ 597, 1110,    1],\n",
       "       [ 319,  700,    1],\n",
       "       [ 393,  749,    1],\n",
       "       [ 488,  822,    1],\n",
       "       [ 340,  808,    1],\n",
       "       [ 411,  864,    1],\n",
       "       [ 499,  938,    1],\n",
       "       [ 355,  897,    1],\n",
       "       [ 421,  953,    1],\n",
       "       [ 508, 1031,    1]])"
      ]
     },
     "execution_count": 34,
     "metadata": {},
     "output_type": "execute_result"
    }
   ],
   "source": [
    "np.array(ts)"
   ]
  },
  {
   "cell_type": "code",
   "execution_count": 35,
   "id": "5b7f6bfa",
   "metadata": {},
   "outputs": [],
   "source": [
    "def centar(A):\n",
    "    # brisemo kolone redom i nalazimo determinante\n",
    "    A1 = np.linalg.det(np.delete(A, 0, 1))\n",
    "    A2 = np.linalg.det(np.delete(A, 1, 1))\n",
    "    A3 = np.linalg.det(np.delete(A, 2, 1))\n",
    "    A4 = np.linalg.det(np.delete(A, 3, 1))\n",
    "\n",
    "    C = (-1/A4)*np.array([A1, -A2, A3, -A4])\n",
    "    C = np.where(np.isclose(C, 0) , 0.0 , C)  # izbegavanje -0. u rezultatu\n",
    "    return C"
   ]
  },
  {
   "cell_type": "code",
   "execution_count": 36,
   "id": "5b7e2cb3",
   "metadata": {},
   "outputs": [],
   "source": [
    "def kameraA(T):\n",
    "    T0 = np.delete(T, 3, 1)\n",
    "    if linalg.det(T0) < 0:\n",
    "        T0 = -T0\n",
    "    Q, R = linalg.qr(linalg.inv(T0)) \n",
    "\n",
    "    if R[0][0] < 0:\n",
    "        R = np.diag([-1, 1, 1])@R\n",
    "        Q = Q@np.diag([-1, 1, 1])\n",
    "    if R[1][1] < 0:\n",
    "        R = np.diag([1, -1, 1])@R\n",
    "        Q = Q@np.diag([1, -1, 1])\n",
    "    if R[2][2] < 0:\n",
    "        R = np.diag([1, 1, -1])@R\n",
    "        Q = Q@np.diag([1, 1, -1])\n",
    "\n",
    "    A = np.transpose(Q)\n",
    "    A = np.where(np.isclose(A, 0) , 0.0 , A)  # izbegavanje -0. u rezultatu\n",
    "    return A\n"
   ]
  },
  {
   "cell_type": "code",
   "execution_count": 37,
   "id": "02b5ff34",
   "metadata": {},
   "outputs": [],
   "source": [
    "def kameraK(T):\n",
    "    T0 = np.delete(T, 3, 1)\n",
    "    if linalg.det(T0) < 0:\n",
    "        T0 = -T0\n",
    "    Q, R = linalg.qr(linalg.inv(T0)) \n",
    "\n",
    "    if R[0][0] < 0:\n",
    "        R = np.diag([-1, 1, 1])@R\n",
    "        Q = Q@np.diag([-1, 1, 1])\n",
    "    if R[1][1] < 0:\n",
    "        R = np.diag([1, -1, 1])@R\n",
    "        Q = Q@np.diag([1, -1, 1])\n",
    "    if R[2][2] < 0:\n",
    "        R = np.diag([1, 1, -1])@R\n",
    "        Q = Q@np.diag([1, 1, -1])\n",
    "\n",
    "    K = linalg.inv(R)\n",
    "    if K[2][2]:\n",
    "        K = K/K[2][2]\n",
    "    K = np.where(np.isclose(K, 0) , 0.0 , K)  # izbegavanje -0. u rezultatu\n",
    "    return K"
   ]
  },
  {
   "cell_type": "code",
   "execution_count": 38,
   "id": "57545dfd",
   "metadata": {},
   "outputs": [],
   "source": [
    "def matricaKamere(pts2D, pts3D):\n",
    "    A = []\n",
    "    for i in range(len(pts2D)):\n",
    "        x1, x2, x3 = pts2D[i]\n",
    "        xp1, xp2, xp3, xp4 = pts3D[i]\n",
    "        A.append([0, 0, 0, 0, -x3*xp1, -x3*xp2, -x3*xp3, -x3*xp4, x2*xp1, x2*xp2, x2*xp3, x2*xp4])\n",
    "        A.append([x3*xp1, x3*xp2, x3*xp3, x3*xp4, 0, 0, 0, 0, -x1*xp1, -x1*xp2, -x1*xp3, -x1*xp4])\n",
    "    A = np.array(A)\n",
    "\n",
    "    _, _, V = linalg.svd(A)\n",
    "    T = np.array(V[-1]).reshape(3, 4)\n",
    "    T /= T[2][3]\n",
    "    \n",
    "    T = np.where(np.isclose(T, 0) , 0.0 , T)\n",
    "    return T"
   ]
  },
  {
   "cell_type": "code",
   "execution_count": 39,
   "id": "b885df6b",
   "metadata": {},
   "outputs": [],
   "source": [
    "T = matricaKamere(org, img)"
   ]
  },
  {
   "cell_type": "code",
   "execution_count": 40,
   "id": "29909acd",
   "metadata": {
    "scrolled": false
   },
   "outputs": [],
   "source": [
    "org =  np.array([1,-1,-1])*(np.array([1600,0,0])- np.array(ts))"
   ]
  },
  {
   "cell_type": "code",
   "execution_count": 41,
   "id": "6f0a04a5",
   "metadata": {},
   "outputs": [],
   "source": [
    "img = np.array([[0,0,3,1], [0,1,3,1], [0,2,3,1],[0,3,3,1],\n",
    "                [1,0,3,1], [1,1,3,1], [1,2,3,1],[1,3,3,1],\n",
    "                [2,0,3,1], [2,1,3,1], [2,2,3,1],[2,3,3,1],\n",
    "                [3,0,3,1], [3,1,3,1], [3,2,3,1],[3,3,3,1], #gornja strana\n",
    "                [0,3,2,1], [1,3,2,1], [2,3,2,1],[3,3,2,1],\n",
    "                [0,3,1,1], [1,3,1,1], [2,3,1,1],[3,3,1,1],\n",
    "                [0,3,0,1], [1,3,0,1], [2,3,0,1],[3,3,0,1], #desna\n",
    "                [3,0,2,1],[3,1,2,1],[3,2,2,1], [3,3,2,1],\n",
    "                [3,0,1,1],[3,1,1,1],[3,2,1,1], [3,3,1,1],\n",
    "                [3,0,0,1],[3,1,0,1],[3,2,0,1], [3,3,0,1]])"
   ]
  },
  {
   "cell_type": "code",
   "execution_count": 42,
   "id": "3bb73017",
   "metadata": {},
   "outputs": [
    {
     "name": "stdout",
     "output_type": "stream",
     "text": [
      "Matrica kamere:\n",
      "[[ 3.90881360e+01 -1.15300798e+02 -5.37126358e+01  9.79709279e+02]\n",
      " [ 1.25047654e+01  1.32210989e+01 -1.27525633e+02  7.51291716e+02]\n",
      " [-3.93196224e-02 -4.46171435e-02 -5.45544361e-02  1.00000000e+00]]\n",
      "\n",
      "Pozicija centra kamere:\n",
      "[6.85657627 7.4060924  7.33145371 1.        ]\n",
      "\n",
      "Spoljasnja matrica kamere:\n",
      "[[-0.74753537  0.66420717 -0.00443994]\n",
      " [-0.45145445 -0.5031659   0.73689413]\n",
      " [ 0.48721634  0.55285885  0.67599359]]\n",
      "\n",
      "Matrica kalibracije kamere:\n",
      "[[ 1.30807319e+03 -9.76909611e+00  1.00381018e+03]\n",
      " [ 0.00000000e+00  1.31681800e+03  9.02134353e+02]\n",
      " [ 0.00000000e+00  0.00000000e+00  1.00000000e+00]]\n"
     ]
    }
   ],
   "source": [
    "print('Matrica kamere:')\n",
    "print(T)\n",
    "print('\\nPozicija centra kamere:')\n",
    "C = centar(T)\n",
    "print(C)\n",
    "print('\\nSpoljasnja matrica kamere:')\n",
    "A = kameraA(T)\n",
    "print(A)\n",
    "print('\\nMatrica kalibracije kamere:')\n",
    "K = kameraK(T)\n",
    "print(K)"
   ]
  },
  {
   "cell_type": "code",
   "execution_count": 43,
   "id": "6bba60e3",
   "metadata": {},
   "outputs": [
    {
     "data": {
      "image/png": "[encoded data removed]",
      "text/plain": [
       "<Figure size 640x480 with 1 Axes>"
      ]
     },
     "metadata": {},
     "output_type": "display_data"
    }
   ],
   "source": [
    "n_voxels = np.zeros((3, 3, 3), dtype=bool)\n",
    "for i in range(3):\n",
    "    for j in range(3):\n",
    "        for k in range(3):\n",
    "            if (i+j+k)%2 == 1:\n",
    "                n_voxels[i,j,k] = True\n",
    "filled = np.ones(n_voxels.shape)\n",
    "ax = plt.figure().add_subplot(projection='3d')\n",
    "ax.voxels(filled, facecolors='yellow')\n",
    "\n",
    "ax.quiver(0,0,0, 4,0,0, color='red', label='x', alpha=0.9)\n",
    "ax.text(4.2, 0, 0, s=\"X\")\n",
    "ax.quiver(0,0,0, 0,8,0, color='green', label='y', alpha=0.9)\n",
    "ax.text(0, 8.2, 0, s=\"Y\")\n",
    "ax.quiver(0,0,0, 0,0,4, color='blue', label='z', alpha=0.9)\n",
    "ax.text(0, 0, 4.2, s=\"Z\")\n",
    "\n",
    "ax.quiver(C[0], C[1], C[2], A[0][0], A[0][1], A[0][2], color='red', label='x', alpha=0.9)\n",
    "ax.quiver(C[0], C[1], C[2], A[1][0], A[1][1], A[1][2], color='green', label='y', alpha=0.9)\n",
    "ax.quiver(C[0], C[1], C[2], A[2][0], A[2][1], A[2][2], color='blue', label='z', alpha=0.9)\n",
    "ax.scatter(C[0], C[1], C[2])\n",
    "ax.text(C[0]+0.2, C[1]+0.1, C[2]+0.8, s=\"C\")\n",
    "\n",
    "\n",
    "plt.show()"
   ]
  },
  {
   "cell_type": "code",
   "execution_count": 6,
   "id": "f179dcaa",
   "metadata": {},
   "outputs": [],
   "source": [
    "def afinize(tacka):\n",
    "    return list(map(lambda x : x / tacka[2], tacka))[:-1]"
   ]
  },
  {
   "cell_type": "code",
   "execution_count": 7,
   "id": "f98afcf0",
   "metadata": {},
   "outputs": [],
   "source": [
    "def cross(x, y):\n",
    "    return np.cross(x, y)"
   ]
  },
  {
   "cell_type": "code",
   "execution_count": 8,
   "id": "fb917119",
   "metadata": {},
   "outputs": [],
   "source": [
    "def tacka_nedogleda(t1, t2, t3, t4):\n",
    "    return list(cross(cross(t1, t2), cross(t3, t4)))"
   ]
  },
  {
   "cell_type": "code",
   "execution_count": 9,
   "id": "29f09a40",
   "metadata": {},
   "outputs": [],
   "source": [
    "def zaokruzi(tacka):\n",
    "    return list(map(lambda x : round(x), tacka))"
   ]
  },
  {
   "cell_type": "code",
   "execution_count": 15,
   "id": "2d00efbf",
   "metadata": {},
   "outputs": [],
   "source": [
    "\n",
    "# def homogenize(lista_tacaka):\n",
    "#     for tacka in lista_tacaka:\n",
    "#         tacka = tacka.append(1)\n",
    "#     return lista_tacaka\n",
    "\n",
    "def osmoteme(lista_tacaka):\n",
    "    #pretvori u homogene\n",
    "#     lista_tacaka = homogenize(lista_tacaka)\n",
    "    #izracunaj_tacku\n",
    "    t1, t2, t3, t5, t6, t7, t8 = lista_tacaka\n",
    "    \n",
    "    xb = tacka_nedogleda(t2, t6, t1, t5)\n",
    "    yb = tacka_nedogleda(t5, t6, t7, t8)\n",
    "    return afinize(tacka_nedogleda(t8, xb, t3, yb))"
   ]
  },
  {
   "cell_type": "code",
   "execution_count": 19,
   "id": "cb70b575",
   "metadata": {},
   "outputs": [
    {
     "data": {
      "text/plain": [
       "[[658, 474, 1],\n",
       " [399, 544, 1],\n",
       " [379, 989, 1],\n",
       " [587, 903, 1],\n",
       " [272, 264, 1],\n",
       " [106, 285, 1],\n",
       " [135, 604, 1]]"
      ]
     },
     "execution_count": 19,
     "metadata": {},
     "output_type": "execute_result"
    }
   ],
   "source": [
    "ts"
   ]
  },
  {
   "cell_type": "code",
   "execution_count": 18,
   "id": "d76a0fb7",
   "metadata": {},
   "outputs": [
    {
     "data": {
      "text/plain": [
       "[-2.548355038387823, -1.7282233739437833]"
      ]
     },
     "execution_count": 18,
     "metadata": {},
     "output_type": "execute_result"
    }
   ],
   "source": [
    "osmoteme(ts)"
   ]
  },
  {
   "cell_type": "code",
   "execution_count": 31,
   "id": "9c7f0cbb",
   "metadata": {},
   "outputs": [
    {
     "data": {
      "text/plain": [
       "[-44504760, -72028920, -77434]"
      ]
     },
     "execution_count": 31,
     "metadata": {},
     "output_type": "execute_result"
    }
   ],
   "source": [
    "t1, t2, t3, t5, t6, t7, t8 = ts\n",
    "    \n",
    "xb = zaokruzi(tacka_nedogleda(t2, t6, t1, t5))\n",
    "xb"
   ]
  },
  {
   "cell_type": "code",
   "execution_count": 32,
   "id": "1a4cdc3b",
   "metadata": {},
   "outputs": [
    {
     "data": {
      "text/plain": [
       "[-5525988, 13728065, -82069]"
      ]
     },
     "execution_count": 32,
     "metadata": {},
     "output_type": "execute_result"
    }
   ],
   "source": [
    "yb = zaokruzi(tacka_nedogleda(t5, t6, t7, t8))\n",
    "yb"
   ]
  },
  {
   "cell_type": "code",
   "execution_count": null,
   "id": "6da23cfa",
   "metadata": {},
   "outputs": [],
   "source": [
    "tacka_nedogleda(t8, xb, t3, yb)"
   ]
  },
  {
   "cell_type": "code",
   "execution_count": null,
   "id": "2db912cd",
   "metadata": {},
   "outputs": [],
   "source": []
  },
  {
   "cell_type": "code",
   "execution_count": null,
   "id": "6f414066",
   "metadata": {},
   "outputs": [],
   "source": []
  },
  {
   "cell_type": "code",
   "execution_count": null,
   "id": "1a6bde77",
   "metadata": {},
   "outputs": [],
   "source": []
  },
  {
   "cell_type": "code",
   "execution_count": null,
   "id": "9d068aee",
   "metadata": {},
   "outputs": [],
   "source": []
  },
  {
   "cell_type": "code",
   "execution_count": null,
   "id": "e8e17c90",
   "metadata": {},
   "outputs": [],
   "source": []
  },
  {
   "cell_type": "code",
   "execution_count": null,
   "id": "659061da",
   "metadata": {},
   "outputs": [],
   "source": []
  },
  {
   "cell_type": "code",
   "execution_count": null,
   "id": "cdd63dff",
   "metadata": {},
   "outputs": [],
   "source": []
  },
  {
   "cell_type": "code",
   "execution_count": null,
   "id": "df61c384",
   "metadata": {},
   "outputs": [],
   "source": []
  },
  {
   "cell_type": "code",
   "execution_count": null,
   "id": "a0cc0e78",
   "metadata": {},
   "outputs": [],
   "source": []
  },
  {
   "cell_type": "code",
   "execution_count": null,
   "id": "862a6733",
   "metadata": {},
   "outputs": [],
   "source": []
  },
  {
   "cell_type": "code",
   "execution_count": null,
   "id": "3cbadc88",
   "metadata": {},
   "outputs": [],
   "source": []
  },
  {
   "cell_type": "code",
   "execution_count": null,
   "id": "c0e871c0",
   "metadata": {},
   "outputs": [],
   "source": []
  },
  {
   "cell_type": "code",
   "execution_count": null,
   "id": "e88c5435",
   "metadata": {},
   "outputs": [],
   "source": []
  },
  {
   "cell_type": "code",
   "execution_count": 17,
   "id": "be663c15",
   "metadata": {},
   "outputs": [],
   "source": [
    "def osmoteme(ts):\n",
    "    return [268, 563]"
   ]
  }
 ],
 "metadata": {
  "kernelspec": {
   "display_name": "Python 3 (ipykernel)",
   "language": "python",
   "name": "python3"
  },
  "language_info": {
   "codemirror_mode": {
    "name": "ipython",
    "version": 3
   },
   "file_extension": ".py",
   "mimetype": "text/x-python",
   "name": "python",
   "nbconvert_exporter": "python",
   "pygments_lexer": "ipython3",
   "version": "3.11.3"
  }
 },
 "nbformat": 4,
 "nbformat_minor": 5
}
