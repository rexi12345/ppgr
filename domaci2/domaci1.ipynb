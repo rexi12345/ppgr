{
 "cells": [
  {
   "cell_type": "code",
   "execution_count": 2,
   "id": "474bd61d",
   "metadata": {},
   "outputs": [],
   "source": [
    "import numpy as np\n",
    "from numpy.linalg import svd\n",
    "from numpy.linalg import det\n",
    "import cv2"
   ]
  },
  {
   "cell_type": "code",
   "execution_count": 3,
   "id": "6b67208b",
   "metadata": {},
   "outputs": [],
   "source": [
    "np.set_printoptions(precision=5, suppress=True)"
   ]
  },
  {
   "cell_type": "code",
   "execution_count": 4,
   "id": "374cd107",
   "metadata": {},
   "outputs": [],
   "source": [
    "def opsti_polozaj(tacke, eps):\n",
    "    x1, x2, x3, x4 = tacke\n",
    "    if np.min(np.abs([det([x1, x2, x3]),\n",
    "                      det([x1, x2, x4]),\n",
    "                      det([x1, x3, x4]),\n",
    "                      det([x2, x3, x4])])) < eps:\n",
    "        return False\n",
    "    else:\n",
    "        return True"
   ]
  },
  {
   "cell_type": "code",
   "execution_count": 5,
   "id": "4535af67",
   "metadata": {},
   "outputs": [],
   "source": [
    "def nullspace(A, atol=1e-13, rtol=0):\n",
    "    A = np.atleast_2d(A)\n",
    "    u, s, vh = svd(A)\n",
    "    tol = max(atol, rtol * s[0])\n",
    "    nnz = (s >= tol).sum()\n",
    "    ns = vh[nnz:].conj().T\n",
    "    return ns"
   ]
  },
  {
   "cell_type": "code",
   "execution_count": 6,
   "id": "4d6ae21a",
   "metadata": {},
   "outputs": [],
   "source": [
    "def zameni_nulu(row):\n",
    "    for i, x in enumerate(row):\n",
    "        if abs(x) < 1e-10:\n",
    "            row[i] = 0\n",
    "\n",
    "    return row"
   ]
  },
  {
   "cell_type": "code",
   "execution_count": 7,
   "id": "03e90933",
   "metadata": {},
   "outputs": [],
   "source": [
    "def pozitivne_nule(A):\n",
    "    row1 = zameni_nulu(A[0])\n",
    "    row2 = zameni_nulu(A[1])\n",
    "    row3 = zameni_nulu(A[2])\n",
    "    return np.asmatrix([row1, row2, row3])"
   ]
  },
  {
   "cell_type": "code",
   "execution_count": 22,
   "id": "d4690556",
   "metadata": {},
   "outputs": [],
   "source": [
    "def naivni(origs, imgs):\n",
    "    origs = np.array(origs)\n",
    "    imgs = np.array(imgs)\n",
    "    eps = 0.00001\n",
    "    x1, x2, x3, x4 = origs\n",
    "    x1p, x2p, x3p, x4p = imgs\n",
    "\n",
    "    if not opsti_polozaj(origs, eps):\n",
    "        return \"Losi originali!\"\n",
    "    if not opsti_polozaj(imgs, eps):\n",
    "        return \"Lose slike!\"\n",
    "\n",
    "    diag = nullspace(np.transpose([x1, x2, x3, x4]))[:, 0][:-1]\n",
    "    f = np.transpose(np.diag(diag).dot([x1, x2, x3]))\n",
    "\n",
    "    diag = nullspace(np.transpose([x1p, x2p, x3p, x4p]))[:, 0][:-1]\n",
    "    g = np.transpose(np.diag(diag).dot([x1p, x2p, x3p]))\n",
    "\n",
    "    h = g.dot(np.linalg.inv(f))\n",
    "    h /= 2       #korigovanje\n",
    "    h /= h[2][2] #normalizacija\n",
    "    h = pozitivne_nule(h)\n",
    "\n",
    "    return h"
   ]
  },
  {
   "cell_type": "code",
   "execution_count": 23,
   "id": "13f534d9",
   "metadata": {},
   "outputs": [],
   "source": [
    "img_path = 'slikakuce.jpg'\n",
    "img = cv2.imread(img_path)\n",
    "cv2.namedWindow('originalna_slika')\n",
    "\n",
    "niz=[]\n",
    "counter = 0\n",
    "\n",
    "def click_event(event,x,y,f,param):\n",
    "    global img, counter\n",
    "\n",
    "    if event == cv2.EVENT_LBUTTONDOWN:\n",
    "        niz.append([x, y, 1])\n",
    "        counter += 1\n",
    "\n",
    "        if counter <= 4:\n",
    "            cv2.circle(img, (x, y), 1, (0, 255, 0), 2)\n",
    "        else:\n",
    "            cv2.circle(img, (x, y), 1, (255, 0, 0), 2)\n",
    "        cv2.imshow('originalna_slika', img)\n",
    "\n",
    "    # Kada smo izabrali 8 tacaka crta se nova slika\n",
    "    if len(niz) == 8:\n",
    "        origs = niz[0:4]\n",
    "        imgs = niz[4:8]\n",
    "        M = naivni(origs, imgs)\n",
    "        weight, height, _ = img.shape\n",
    "\n",
    "        img2 = cv2.warpPerspective(img,M,(500,889),cv2.INTER_LINEAR, borderMode=cv2.BORDER_CONSTANT, borderValue=(0,0,0))\n",
    "        cv2.imshow('ispravljena',img2)\n",
    "\n",
    "\n",
    "cv2.setMouseCallback('originalna_slika', click_event)\n",
    "cv2.imshow('originalna_slika', img)\n",
    "cv2.waitKey(0)\n",
    "cv2.destroyAllWindows()"
   ]
  }
 ],
 "metadata": {
  "kernelspec": {
   "display_name": "Python 3 (ipykernel)",
   "language": "python",
   "name": "python3"
  },
  "language_info": {
   "codemirror_mode": {
    "name": "ipython",
    "version": 3
   },
   "file_extension": ".py",
   "mimetype": "text/x-python",
   "name": "python",
   "nbconvert_exporter": "python",
   "pygments_lexer": "ipython3",
   "version": "3.11.3"
  }
 },
 "nbformat": 4,
 "nbformat_minor": 5
}
