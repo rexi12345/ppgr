{
 "cells": [
  {
   "cell_type": "code",
   "execution_count": 1,
   "id": "fa9d519a",
   "metadata": {},
   "outputs": [],
   "source": [
    "import numpy as np\n",
    "from itertools import accumulate\n",
    "from math import sqrt\n",
    "np.set_printoptions(precision=5, suppress=True)"
   ]
  },
  {
   "cell_type": "code",
   "execution_count": 2,
   "id": "5f5d397c",
   "metadata": {},
   "outputs": [],
   "source": [
    "lista=[[1,2],[4,4],[-1,3],[16,22],[-42,0],[22,-21]]"
   ]
  },
  {
   "cell_type": "code",
   "execution_count": 3,
   "id": "35bd1cf7",
   "metadata": {},
   "outputs": [],
   "source": [
    "homo_lista=[[7,4,1],[6,4,2],[5,2,0.5],[0,0,10],[-5,-5,1]]"
   ]
  },
  {
   "cell_type": "code",
   "execution_count": 4,
   "id": "f94edc54",
   "metadata": {},
   "outputs": [],
   "source": [
    "trapez1 = [[- 3, - 1, 1], [3, - 1, 1], [1, 1, 1], [- 1, 1, 1], [1,2,3], [-8,-2,1]] \n",
    "pravougaonik1 = [[- 2, - 1, 1], [2, - 1, 1], [2, 1, 1], [- 2, 1, 1], [2,1,5], [-16,-5,5]]"
   ]
  },
  {
   "cell_type": "code",
   "execution_count": 5,
   "id": "752f8b96",
   "metadata": {},
   "outputs": [],
   "source": [
    "orig=[[-3,-1,1],[3,-1,1],[1,1,1],[-1,1,1]]\n",
    "slike=[[-2,-1,1],[2,-1,1],[2,1,1],[-2,1,1]]"
   ]
  },
  {
   "cell_type": "code",
   "execution_count": 6,
   "id": "f31e1985",
   "metadata": {},
   "outputs": [],
   "source": [
    "def afinizuj(niz):\n",
    "    return list(map(lambda x : [x[0]/x[2],x[1]/x[2]], niz))"
   ]
  },
  {
   "cell_type": "code",
   "execution_count": 7,
   "id": "60d26426",
   "metadata": {},
   "outputs": [],
   "source": [
    "def homo(niz):\n",
    "    return list(map(lambda x : [x[0],x[1],1], niz))"
   ]
  },
  {
   "cell_type": "code",
   "execution_count": 8,
   "id": "466c5ad9",
   "metadata": {},
   "outputs": [],
   "source": [
    "def normMatrix(lista):\n",
    "    lista1=np.array(afinizuj(lista))\n",
    "    teziste1=(list(accumulate(lista1))[-1])/(len(lista))\n",
    "    lista2=np.array(lista1-teziste1)\n",
    "    inteziteti=np.array(list(map(lambda x: [sqrt(x[0]*x[0]+x[1]*x[1])],lista2)))\n",
    "    d=(list(accumulate(inteziteti))[-1])/(len(lista))\n",
    "    translacija=np.array([[1,0,0],[0,1,0],np.append(-teziste1,1)])\n",
    "    translacija=translacija.transpose()\n",
    "    homotetija=np.array([[sqrt(2)/float(d),0,0],[0,sqrt(2)/float(d),0],[0,0,1]])\n",
    "    transform=np.matmul(homotetija,translacija)\n",
    "    nova_lista=[]\n",
    "    for x in np.array(lista):\n",
    "        x=x.reshape(3,1)\n",
    "        x=np.matmul(transform,x)\n",
    "        nova_lista.append([x[0,0],x[1,0],x[2,0]])\n",
    "    return nova_lista,transform"
   ]
  },
  {
   "cell_type": "code",
   "execution_count": 9,
   "id": "0ff1ada1",
   "metadata": {},
   "outputs": [],
   "source": [
    "def norm_matrix(matrica):\n",
    "    return matrica/matrica[2,2]"
   ]
  },
  {
   "cell_type": "code",
   "execution_count": 10,
   "id": "7b5641e1",
   "metadata": {},
   "outputs": [],
   "source": [
    "def DLT(originali,slike):\n",
    "    matrica=[]\n",
    "    for x,y in zip(originali,slike):\n",
    "        prvi=[0,0,0,-y[2]*x[0],-y[2]*x[1],-y[2]*x[2],y[1]*x[0],y[1]*x[1],y[1]*x[2]]\n",
    "        drugi=[y[2]*x[0],y[2]*x[1],y[2]*x[2],0,0,0,-y[0]*x[0],-y[0]*x[1],-y[0]*x[2]]\n",
    "        matrica.append(prvi)\n",
    "        matrica.append(drugi)\n",
    "    matrica=np.array(matrica)\n",
    "    U,D,VT=np.linalg.svd(matrica)\n",
    "    p=VT[-1]\n",
    "    return norm_matrix(p.reshape(3,3))"
   ]
  },
  {
   "cell_type": "code",
   "execution_count": 11,
   "id": "4eada370",
   "metadata": {},
   "outputs": [],
   "source": [
    "def DLTwithNormalization(originali,slike):\n",
    "    originali,T=normMatrix(originali)\n",
    "    slike,T1=normMatrix(slike)\n",
    "    p=DLT(originali,slike)\n",
    "    p=np.linalg.inv(T1)@p@T\n",
    "    return norm_matrix(p)"
   ]
  },
  {
   "cell_type": "code",
   "execution_count": 12,
   "id": "5a737608",
   "metadata": {},
   "outputs": [],
   "source": [
    "def naivni(originali,slike):\n",
    "    if not opsti_polozaj(originali):\n",
    "        return \"Losi originali!\"\n",
    "    if not opsti_polozaj(slike):\n",
    "        return \"Lose slike!\"\n",
    "    b=originali.pop(3)\n",
    "    b1=slike.pop(3)\n",
    "    x=np.linalg.solve(np.asmatrix(originali).transpose(),b)\n",
    "    x1=np.linalg.solve(np.asmatrix(slike).transpose(),b1)\n",
    "    x=np.array(list(map(lambda z:[z],x)))\n",
    "    x1=np.array(list(map(lambda z:[z],x1)))\n",
    "    p1=np.column_stack(originali*x)\n",
    "    p2=np.column_stack(slike*x1)\n",
    "    p=p2@(np.linalg.inv(p1))\n",
    "    for i in range(0,3):\n",
    "        p[i,]=list(map(lambda x: 0 if abs(x)<1e-10 else x,p[i,]))\n",
    "    return norm_matrix(p)"
   ]
  },
  {
   "cell_type": "code",
   "execution_count": 13,
   "id": "c1434e54",
   "metadata": {},
   "outputs": [],
   "source": [
    "def opsti_polozaj(lista):\n",
    "    x1, x2, x3, x4 = lista[0], lista[1], lista[2], lista[3]\n",
    "    if min(np.abs([np.linalg.det([x1, x2, x3]),\n",
    "                      np.linalg.det([x2, x3, x4]),\n",
    "                      np.linalg.det([x3, x4, x1]),\n",
    "                      np.linalg.det([x4, x1, x2])])) == 0:\n",
    "        return False\n",
    "    return True"
   ]
  },
  {
   "cell_type": "code",
   "execution_count": 14,
   "id": "f9f04ac4",
   "metadata": {},
   "outputs": [
    {
     "name": "stdout",
     "output_type": "stream",
     "text": [
      "[[ 1.   0.   0. ]\n",
      " [ 0.   1.  -0.5]\n",
      " [ 0.  -0.5  1. ]]\n"
     ]
    }
   ],
   "source": [
    "trapez = [[- 3, - 1, 1], [3, - 1, 1], [1, 1, 1], [- 1, 1, 1]] \n",
    "pravougaonik = [[- 2, - 1, 1], [2, - 1, 1], [2, 1, 1], [- 2, 1, 1]]\n",
    "print(naivni(trapez, pravougaonik))"
   ]
  },
  {
   "cell_type": "code",
   "execution_count": 15,
   "id": "0c02dc61",
   "metadata": {},
   "outputs": [
    {
     "name": "stdout",
     "output_type": "stream",
     "text": [
      "Lose slike!\n"
     ]
    }
   ],
   "source": [
    "origs = [[- 3, - 1, 1], [3, - 1, 1], [1, 1, 1], [- 1, 1, 1]] \n",
    "imgs = [[- 2, - 5, 1], [2, - 5, 1], [2, 1, 1], [6, -3, 3]]   #primetite da nisu u opstem polozaju\n",
    "print(naivni(origs, imgs))"
   ]
  },
  {
   "cell_type": "code",
   "execution_count": null,
   "id": "7f73c1ad",
   "metadata": {},
   "outputs": [],
   "source": []
  }
 ],
 "metadata": {
  "kernelspec": {
   "display_name": "Python 3 (ipykernel)",
   "language": "python",
   "name": "python3"
  },
  "language_info": {
   "codemirror_mode": {
    "name": "ipython",
    "version": 3
   },
   "file_extension": ".py",
   "mimetype": "text/x-python",
   "name": "python",
   "nbconvert_exporter": "python",
   "pygments_lexer": "ipython3",
   "version": "3.11.3"
  }
 },
 "nbformat": 4,
 "nbformat_minor": 5
}
