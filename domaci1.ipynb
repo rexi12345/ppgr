{
 "cells": [
  {
   "cell_type": "code",
   "execution_count": 25,
   "id": "2f67f9b8",
   "metadata": {},
   "outputs": [],
   "source": [
    "# !py -m pip install opencv-python\n",
    "# !python.exe -m pip install --upgrade pip\n",
    "import numpy as np\n",
    "import cv2 as cv"
   ]
  },
  {
   "cell_type": "code",
   "execution_count": 26,
   "id": "4dc57ddd",
   "metadata": {},
   "outputs": [],
   "source": [
    "ts = []\n",
    "brojac = 0\n",
    "def click_event(event, x, y, flags, params): \n",
    "    global brojac\n",
    "    font = cv.FONT_HERSHEY_SIMPLEX \n",
    "\n",
    "    if event == cv.EVENT_LBUTTONDOWN: \n",
    "        cv.putText(slika, str(x) + ',' +\n",
    "                    str(y), (x,y), font, \n",
    "                    1, (255, 0, 0), 2) \n",
    "        cv.imshow(\"kutija\", slika)\n",
    "        \n",
    "        ts.append([x, y, 1])\n",
    "        brojac += 1\n",
    "        \n",
    "        if brojac == 7:\n",
    "            osma_tacka = osmoteme(ts)\n",
    "            cv.putText(slika, str(osma_tacka[0]) + ',' + str(osma_tacka[1]), (int(osma_tacka[0]),int(osma_tacka[1])), font, 1, (0, 255, 0), 2)\n",
    "            cv.imshow(\"kutija\", slika)"
   ]
  },
  {
   "cell_type": "code",
   "execution_count": 27,
   "id": "ffaf39ad",
   "metadata": {},
   "outputs": [],
   "source": [
    "putanja = './kutija.jpg'\n",
    "slika = cv.imread(putanja)\n",
    "\n",
    "cv.imshow(\"kutija\", slika)\n",
    "\n",
    "cv.setMouseCallback(\"kutija\", click_event)\n",
    "\n",
    "cv.waitKey(0)\n",
    "cv.destroyAllWindows()"
   ]
  },
  {
   "cell_type": "code",
   "execution_count": 2,
   "id": "f179dcaa",
   "metadata": {},
   "outputs": [],
   "source": [
    "def afinize(tacka):\n",
    "    return list(map(lambda x : x / tacka[2], tacka))[:-1]"
   ]
  },
  {
   "cell_type": "code",
   "execution_count": 3,
   "id": "f98afcf0",
   "metadata": {},
   "outputs": [],
   "source": [
    "def cross(x, y):\n",
    "    return np.cross(x, y)"
   ]
  },
  {
   "cell_type": "code",
   "execution_count": 4,
   "id": "fb917119",
   "metadata": {},
   "outputs": [],
   "source": [
    "def tacka_nedogleda(t1, t2, t3, t4):\n",
    "    return list(cross(cross(t1, t2), cross(t3, t4)))"
   ]
  },
  {
   "cell_type": "code",
   "execution_count": 5,
   "id": "29f09a40",
   "metadata": {},
   "outputs": [],
   "source": [
    "def zaokruzi(tacka):\n",
    "    return list(map(lambda x : round(x), tacka))"
   ]
  },
  {
   "cell_type": "code",
   "execution_count": 29,
   "id": "2d00efbf",
   "metadata": {},
   "outputs": [],
   "source": [
    "\n",
    "# def homogenize(lista_tacaka):\n",
    "#     for tacka in lista_tacaka:\n",
    "#         tacka = tacka.append(1)\n",
    "#     return lista_tacaka\n",
    "\n",
    "def osmoteme(lista_tacaka):\n",
    "    #pretvori u homogene\n",
    "#     lista_tacaka = homogenize(lista_tacaka)\n",
    "    #izracunaj_tacku\n",
    "    t1, t2, t3, t5, t6, t7, t8 = lista_tacaka\n",
    "    \n",
    "    xb = tacka_nedogleda(t2, t6, t1, t5)\n",
    "    yb = tacka_nedogleda(t5, t6, t7, t8)\n",
    "    return afinize(tacka_nedogleda(t8, xb, t3, yb))"
   ]
  },
  {
   "cell_type": "code",
   "execution_count": 30,
   "id": "d76a0fb7",
   "metadata": {},
   "outputs": [
    {
     "data": {
      "text/plain": [
       "[4.726631946861628, 6.621366652256342]"
      ]
     },
     "execution_count": 30,
     "metadata": {},
     "output_type": "execute_result"
    }
   ],
   "source": [
    "osmoteme(ts)"
   ]
  },
  {
   "cell_type": "code",
   "execution_count": 31,
   "id": "9c7f0cbb",
   "metadata": {},
   "outputs": [
    {
     "data": {
      "text/plain": [
       "[-44504760, -72028920, -77434]"
      ]
     },
     "execution_count": 31,
     "metadata": {},
     "output_type": "execute_result"
    }
   ],
   "source": [
    "t1, t2, t3, t5, t6, t7, t8 = ts\n",
    "    \n",
    "xb = zaokruzi(tacka_nedogleda(t2, t6, t1, t5))\n",
    "xb"
   ]
  },
  {
   "cell_type": "code",
   "execution_count": 32,
   "id": "1a4cdc3b",
   "metadata": {},
   "outputs": [
    {
     "data": {
      "text/plain": [
       "[-5525988, 13728065, -82069]"
      ]
     },
     "execution_count": 32,
     "metadata": {},
     "output_type": "execute_result"
    }
   ],
   "source": [
    "yb = zaokruzi(tacka_nedogleda(t5, t6, t7, t8))\n",
    "yb"
   ]
  },
  {
   "cell_type": "code",
   "execution_count": null,
   "id": "6da23cfa",
   "metadata": {},
   "outputs": [],
   "source": [
    "tacka_nedogleda(t8, xb, t3, yb)"
   ]
  },
  {
   "cell_type": "code",
   "execution_count": null,
   "id": "2db912cd",
   "metadata": {},
   "outputs": [],
   "source": []
  },
  {
   "cell_type": "code",
   "execution_count": null,
   "id": "6f414066",
   "metadata": {},
   "outputs": [],
   "source": []
  },
  {
   "cell_type": "code",
   "execution_count": null,
   "id": "1a6bde77",
   "metadata": {},
   "outputs": [],
   "source": []
  },
  {
   "cell_type": "code",
   "execution_count": null,
   "id": "9d068aee",
   "metadata": {},
   "outputs": [],
   "source": []
  },
  {
   "cell_type": "code",
   "execution_count": null,
   "id": "e8e17c90",
   "metadata": {},
   "outputs": [],
   "source": []
  },
  {
   "cell_type": "code",
   "execution_count": null,
   "id": "659061da",
   "metadata": {},
   "outputs": [],
   "source": []
  },
  {
   "cell_type": "code",
   "execution_count": null,
   "id": "cdd63dff",
   "metadata": {},
   "outputs": [],
   "source": []
  },
  {
   "cell_type": "code",
   "execution_count": null,
   "id": "df61c384",
   "metadata": {},
   "outputs": [],
   "source": []
  },
  {
   "cell_type": "code",
   "execution_count": null,
   "id": "a0cc0e78",
   "metadata": {},
   "outputs": [],
   "source": []
  },
  {
   "cell_type": "code",
   "execution_count": null,
   "id": "862a6733",
   "metadata": {},
   "outputs": [],
   "source": []
  },
  {
   "cell_type": "code",
   "execution_count": null,
   "id": "3cbadc88",
   "metadata": {},
   "outputs": [],
   "source": []
  },
  {
   "cell_type": "code",
   "execution_count": null,
   "id": "c0e871c0",
   "metadata": {},
   "outputs": [],
   "source": []
  },
  {
   "cell_type": "code",
   "execution_count": null,
   "id": "e88c5435",
   "metadata": {},
   "outputs": [],
   "source": []
  },
  {
   "cell_type": "code",
   "execution_count": 17,
   "id": "be663c15",
   "metadata": {},
   "outputs": [],
   "source": [
    "def osmoteme(ts):\n",
    "    return [268, 563]"
   ]
  }
 ],
 "metadata": {
  "kernelspec": {
   "display_name": "Python 3 (ipykernel)",
   "language": "python",
   "name": "python3"
  },
  "language_info": {
   "codemirror_mode": {
    "name": "ipython",
    "version": 3
   },
   "file_extension": ".py",
   "mimetype": "text/x-python",
   "name": "python",
   "nbconvert_exporter": "python",
   "pygments_lexer": "ipython3",
   "version": "3.11.3"
  }
 },
 "nbformat": 4,
 "nbformat_minor": 5
}
