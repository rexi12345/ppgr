{
 "cells": [
  {
   "cell_type": "code",
   "execution_count": 1,
   "id": "2f67f9b8",
   "metadata": {},
   "outputs": [],
   "source": [
    "# !py -m pip install opencv-python\n",
    "# !python.exe -m pip install --upgrade pip\n",
    "import numpy as np\n",
    "import cv2 as cv"
   ]
  },
  {
   "cell_type": "code",
   "execution_count": 14,
   "id": "9390c8b2",
   "metadata": {},
   "outputs": [],
   "source": [
    "# otvara se interfejs, levim klikom se dodaju kordinate tačaka, nakon dodatih prvih 7\n",
    "# kliknuti bilo koji taster na tastaturi za izlaz iz interfejsa\n",
    "ts = []\n",
    "def click_event(event, x, y, flags, params): \n",
    "    if event == cv.EVENT_LBUTTONDOWN: \n",
    "        font = cv.FONT_HERSHEY_SIMPLEX \n",
    "        cv.putText(slika, str(x) + ',' +\n",
    "                    str(y), (x,y), font, \n",
    "                    1, (255, 0, 0), 2) \n",
    "        cv.imshow(\"kutija\", slika)\n",
    "        \n",
    "        ts.append([x, y, 1])"
   ]
  },
  {
   "cell_type": "code",
   "execution_count": 15,
   "id": "ffaf39ad",
   "metadata": {},
   "outputs": [],
   "source": [
    "putanja = './kutija.jpg'\n",
    "slika = cv.imread(putanja)\n",
    "\n",
    "cv.imshow(\"kutija\", slika)\n",
    "\n",
    "cv.setMouseCallback(\"kutija\", click_event)\n",
    "\n",
    "cv.waitKey(0)\n",
    "cv.destroyAllWindows()"
   ]
  },
  {
   "cell_type": "code",
   "execution_count": 16,
   "id": "868379e3",
   "metadata": {},
   "outputs": [
    {
     "data": {
      "text/plain": [
       "[[270, 557, 1]]"
      ]
     },
     "execution_count": 16,
     "metadata": {},
     "output_type": "execute_result"
    }
   ],
   "source": [
    "ts"
   ]
  },
  {
   "cell_type": "code",
   "execution_count": 5,
   "id": "1e9c5ee8",
   "metadata": {},
   "outputs": [],
   "source": [
    "# funkcija koja pretvara kordinate u afine\n",
    "def afinize(tacka):\n",
    "    return list(map(lambda x : x / tacka[2], tacka))"
   ]
  },
  {
   "cell_type": "code",
   "execution_count": 6,
   "id": "d5dc0ec0",
   "metadata": {},
   "outputs": [],
   "source": [
    "# funkcija za racunanje vektorskog proizvoda\n",
    "def cross(x, y):\n",
    "    return list(np.cross(x, y))"
   ]
  },
  {
   "cell_type": "code",
   "execution_count": 7,
   "id": "ef0b9896",
   "metadata": {},
   "outputs": [],
   "source": [
    "# racuna presek dve prave dobijene redom tackama t1 i t2/ t3 i t4\n",
    "def tacka_nedogleda(t1, t2, t3, t4):\n",
    "    return cross(cross(t1, t2), cross(t3, t4))"
   ]
  },
  {
   "cell_type": "code",
   "execution_count": 9,
   "id": "0eb04496",
   "metadata": {},
   "outputs": [],
   "source": [
    "# funkcija koja traži osmo teme\n",
    "def osmoteme(t1, t2, t3, t4, t5, t6, t7):\n",
    "    yb = tacka_nedogleda(t1, t4, t2, t3)\n",
    "    xb = tacka_nedogleda(t5, t1, t2, t6)\n",
    "    return tacka_nedogleda(t4, xb, t5, yb)"
   ]
  },
  {
   "cell_type": "code",
   "execution_count": 10,
   "id": "8560a650",
   "metadata": {},
   "outputs": [],
   "source": [
    "t1,t2,t3,t4,t5,t6,t7 = ts"
   ]
  },
  {
   "cell_type": "code",
   "execution_count": 13,
   "id": "73460e10",
   "metadata": {},
   "outputs": [
    {
     "data": {
      "text/plain": [
       "[0.20089400931696605, 0.5149463779300409, 1.0]"
      ]
     },
     "execution_count": 13,
     "metadata": {},
     "output_type": "execute_result"
    }
   ],
   "source": [
    "t8 = osmoteme(t1, t2, t3, t4, t5, t6, t7)\n",
    "afinize(t8)"
   ]
  },
  {
   "cell_type": "code",
   "execution_count": null,
   "id": "2d00efbf",
   "metadata": {},
   "outputs": [],
   "source": []
  }
 ],
 "metadata": {
  "kernelspec": {
   "display_name": "Python 3 (ipykernel)",
   "language": "python",
   "name": "python3"
  },
  "language_info": {
   "codemirror_mode": {
    "name": "ipython",
    "version": 3
   },
   "file_extension": ".py",
   "mimetype": "text/x-python",
   "name": "python",
   "nbconvert_exporter": "python",
   "pygments_lexer": "ipython3",
   "version": "3.11.3"
  }
 },
 "nbformat": 4,
 "nbformat_minor": 5
}
