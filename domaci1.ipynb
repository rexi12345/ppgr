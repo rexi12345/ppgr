{
 "cells": [
  {
   "cell_type": "code",
   "execution_count": 241,
   "id": "2f67f9b8",
   "metadata": {},
   "outputs": [],
   "source": [
    "# !py -m pip install opencv-python\n",
    "# !python.exe -m pip install --upgrade pip\n",
    "import numpy as np\n",
    "import cv2 as cv"
   ]
  },
  {
   "cell_type": "code",
   "execution_count": 244,
   "id": "9390c8b2",
   "metadata": {},
   "outputs": [],
   "source": [
    "# otvara se interfejs, levim klikom se dodaju kordinate tačaka, nakon dodatih prvih 7\n",
    "# kliknuti bilo koji taster na tastaturi za izlaz iz interfejsa\n",
    "ts = []\n",
    "brojac = 0\n",
    "def click_event(event, x, y, flags, params): \n",
    "    global brojac\n",
    "    font = cv.FONT_HERSHEY_SIMPLEX \n",
    "\n",
    "    if event == cv.EVENT_LBUTTONDOWN: \n",
    "        if brojac == 7:\n",
    "            osma_tacka = osmoteme(ts)\n",
    "            cv.putText(slika, str(osma_tacka[0]) + ',' + str(osma_tacka[1]), (472, 223), font, 1, (0, 255, 0), 2)\n",
    "            cv.imshow(\"kutija\", slika)\n",
    "\n",
    "            \n",
    "        \n",
    "        cv.putText(slika, str(x) + ',' +\n",
    "                    str(y), (x,y), font, \n",
    "                    1, (255, 0, 0), 2) \n",
    "        cv.imshow(\"kutija\", slika)\n",
    "        \n",
    "        ts.append([x, y, 1])\n",
    "        brojac += 1"
   ]
  },
  {
   "cell_type": "code",
   "execution_count": 245,
   "id": "ffaf39ad",
   "metadata": {},
   "outputs": [
    {
     "ename": "ValueError",
     "evalue": "not enough values to unpack (expected 7, got 6)",
     "output_type": "error",
     "traceback": [
      "\u001b[1;31m---------------------------------------------------------------------------\u001b[0m",
      "\u001b[1;31mValueError\u001b[0m                                Traceback (most recent call last)",
      "Cell \u001b[1;32mIn[244], line 11\u001b[0m, in \u001b[0;36mclick_event\u001b[1;34m(event, x, y, flags, params)\u001b[0m\n\u001b[0;32m      9\u001b[0m \u001b[38;5;28;01mif\u001b[39;00m event \u001b[38;5;241m==\u001b[39m cv\u001b[38;5;241m.\u001b[39mEVENT_LBUTTONDOWN: \n\u001b[0;32m     10\u001b[0m     \u001b[38;5;28;01mif\u001b[39;00m brojac \u001b[38;5;241m==\u001b[39m \u001b[38;5;241m6\u001b[39m:\n\u001b[1;32m---> 11\u001b[0m         osma_tacka \u001b[38;5;241m=\u001b[39m \u001b[43mosmoteme\u001b[49m\u001b[43m(\u001b[49m\u001b[43mts\u001b[49m\u001b[43m)\u001b[49m\n\u001b[0;32m     12\u001b[0m         cv\u001b[38;5;241m.\u001b[39mputText(slika, \u001b[38;5;28mstr\u001b[39m(osma_tacka[\u001b[38;5;241m0\u001b[39m]) \u001b[38;5;241m+\u001b[39m \u001b[38;5;124m'\u001b[39m\u001b[38;5;124m,\u001b[39m\u001b[38;5;124m'\u001b[39m \u001b[38;5;241m+\u001b[39m \u001b[38;5;28mstr\u001b[39m(osma_tacka[\u001b[38;5;241m1\u001b[39m]), (\u001b[38;5;241m472\u001b[39m, \u001b[38;5;241m223\u001b[39m), font, \u001b[38;5;241m1\u001b[39m, (\u001b[38;5;241m0\u001b[39m, \u001b[38;5;241m255\u001b[39m, \u001b[38;5;241m0\u001b[39m), \u001b[38;5;241m2\u001b[39m)\n\u001b[0;32m     13\u001b[0m         cv\u001b[38;5;241m.\u001b[39mimshow(\u001b[38;5;124m\"\u001b[39m\u001b[38;5;124mkutija\u001b[39m\u001b[38;5;124m\"\u001b[39m, slika)\n",
      "Cell \u001b[1;32mIn[212], line 10\u001b[0m, in \u001b[0;36mosmoteme\u001b[1;34m(lista_tacaka)\u001b[0m\n\u001b[0;32m      6\u001b[0m \u001b[38;5;28;01mdef\u001b[39;00m \u001b[38;5;21mosmoteme\u001b[39m(lista_tacaka):\n\u001b[0;32m      7\u001b[0m     \u001b[38;5;66;03m#pretvori u homogene\u001b[39;00m\n\u001b[0;32m      8\u001b[0m \u001b[38;5;66;03m#     lista_tacaka = homogenize(lista_tacaka)\u001b[39;00m\n\u001b[0;32m      9\u001b[0m     \u001b[38;5;66;03m#izracunaj_tacku\u001b[39;00m\n\u001b[1;32m---> 10\u001b[0m     t1, t2, t3, t5, t6, t7, t8 \u001b[38;5;241m=\u001b[39m lista_tacaka\n\u001b[0;32m     12\u001b[0m     xb \u001b[38;5;241m=\u001b[39m tacka_nedogleda(t2, t6, t1, t5)\n\u001b[0;32m     13\u001b[0m     yb \u001b[38;5;241m=\u001b[39m tacka_nedogleda(t5, t6, t7, t8)\n",
      "\u001b[1;31mValueError\u001b[0m: not enough values to unpack (expected 7, got 6)"
     ]
    }
   ],
   "source": [
    "putanja = './tutorijal1/domaci1.jpg'\n",
    "slika = cv.imread(putanja)\n",
    "\n",
    "cv.imshow(\"kutija\", slika)\n",
    "\n",
    "cv.setMouseCallback(\"kutija\", click_event)\n",
    "\n",
    "cv.waitKey(0)\n",
    "cv.destroyAllWindows()"
   ]
  },
  {
   "cell_type": "code",
   "execution_count": 219,
   "id": "868379e3",
   "metadata": {},
   "outputs": [],
   "source": [
    "ts = [[595, 301, 1],\n",
    "     [292, 517, 1],\n",
    "     [157, 379, 1],\n",
    "     [665, 116, 1],\n",
    "     [304, 295, 1],\n",
    "     [135, 163, 1],\n",
    "     [509, 43, 1]]"
   ]
  },
  {
   "cell_type": "code",
   "execution_count": 246,
   "id": "1b4fd9f8",
   "metadata": {},
   "outputs": [
    {
     "data": {
      "text/plain": [
       "[[596, 302, 1],\n",
       " [290, 515, 1],\n",
       " [156, 382, 1],\n",
       " [663, 116, 1],\n",
       " [300, 295, 1],\n",
       " [137, 166, 1]]"
      ]
     },
     "execution_count": 246,
     "metadata": {},
     "output_type": "execute_result"
    }
   ],
   "source": [
    "ts"
   ]
  },
  {
   "cell_type": "code",
   "execution_count": 209,
   "id": "d09ba5a5",
   "metadata": {},
   "outputs": [],
   "source": [
    "def afinize(tacka):\n",
    "    return list(map(lambda x : x / tacka[2], tacka))[:-1]"
   ]
  },
  {
   "cell_type": "code",
   "execution_count": 210,
   "id": "2ba339c3",
   "metadata": {},
   "outputs": [],
   "source": [
    "def cross(x, y):\n",
    "    return np.cross(x, y)"
   ]
  },
  {
   "cell_type": "code",
   "execution_count": 211,
   "id": "13a57ee9",
   "metadata": {},
   "outputs": [],
   "source": [
    "def tacka_nedogleda(t1, t2, t3, t4):\n",
    "    return list(cross(cross(t1, t2), cross(t3, t4)))"
   ]
  },
  {
   "cell_type": "code",
   "execution_count": 212,
   "id": "2d00efbf",
   "metadata": {},
   "outputs": [],
   "source": [
    "\n",
    "# def homogenize(lista_tacaka):\n",
    "#     for tacka in lista_tacaka:\n",
    "#         tacka = tacka.append(1)\n",
    "#     return lista_tacaka\n",
    "\n",
    "def osmoteme(lista_tacaka):\n",
    "    #pretvori u homogene\n",
    "#     lista_tacaka = homogenize(lista_tacaka)\n",
    "    #izracunaj_tacku\n",
    "    t1, t2, t3, t5, t6, t7, t8 = lista_tacaka\n",
    "    \n",
    "    xb = tacka_nedogleda(t2, t6, t1, t5)\n",
    "    yb = tacka_nedogleda(t5, t6, t7, t8)\n",
    "    return afinize(tacka_nedogleda(t8, xb, t3, yb))"
   ]
  },
  {
   "cell_type": "code",
   "execution_count": 230,
   "id": "a0e10ec2",
   "metadata": {},
   "outputs": [
    {
     "data": {
      "text/plain": [
       "[-1.3772106289168038, -0.3048040008395828]"
      ]
     },
     "execution_count": 230,
     "metadata": {},
     "output_type": "execute_result"
    }
   ],
   "source": [
    "osmoteme(ts)"
   ]
  },
  {
   "cell_type": "code",
   "execution_count": null,
   "id": "1e2eee92",
   "metadata": {},
   "outputs": [],
   "source": []
  }
 ],
 "metadata": {
  "kernelspec": {
   "display_name": "Python 3 (ipykernel)",
   "language": "python",
   "name": "python3"
  },
  "language_info": {
   "codemirror_mode": {
    "name": "ipython",
    "version": 3
   },
   "file_extension": ".py",
   "mimetype": "text/x-python",
   "name": "python",
   "nbconvert_exporter": "python",
   "pygments_lexer": "ipython3",
   "version": "3.11.3"
  }
 },
 "nbformat": 4,
 "nbformat_minor": 5
}
