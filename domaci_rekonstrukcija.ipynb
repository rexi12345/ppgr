{
 "cells": [
  {
   "cell_type": "code",
   "execution_count": 56,
   "id": "2f67f9b8",
   "metadata": {},
   "outputs": [],
   "source": [
    "# !py -m pip install opencv-python\n",
    "# !python.exe -m pip install --upgrade pip\n",
    "import numpy as np\n",
    "import cv2 as cv\n",
    "from numpy import linalg\n",
    "from math import acos, sqrt, degrees\n",
    "from matplotlib import pyplot as plt"
   ]
  },
  {
   "cell_type": "markdown",
   "id": "e036b8e1",
   "metadata": {},
   "source": [
    "# odabir levih tacaka"
   ]
  },
  {
   "cell_type": "code",
   "execution_count": 57,
   "id": "4dc57ddd",
   "metadata": {},
   "outputs": [],
   "source": [
    "leve8 = []\n",
    "brojac = 0\n",
    "def click_event(event, x, y, flags, params): \n",
    "    global brojac\n",
    "    font = cv.FONT_HERSHEY_SIMPLEX \n",
    "\n",
    "    if event == cv.EVENT_LBUTTONDOWN: \n",
    "        cv.putText(slika, f'P{brojac+1}(' + str(x) + ',' +\n",
    "                    str(y) + ')', (x,y), font, \n",
    "                    1, (0, 0, 0), 2) \n",
    "        cv.imshow(\"lijeva\", slika)\n",
    "        \n",
    "        leve8.append([x, y, 1])\n",
    "        brojac += 1\n",
    "        \n",
    "        if brojac == 16:\n",
    "            cv.imwrite('lijevaOznacena.jpg', slika)\n",
    "            cv.imshow(\"lijeva\", slika)"
   ]
  },
  {
   "cell_type": "code",
   "execution_count": 58,
   "id": "ffaf39ad",
   "metadata": {},
   "outputs": [],
   "source": [
    "putanja = './lijeva.jpg'\n",
    "slika = cv.imread(putanja)\n",
    "\n",
    "cv.imshow(\"lijeva\", slika)\n",
    "\n",
    "cv.setMouseCallback(\"lijeva\", click_event)\n",
    "\n",
    "cv.waitKey(0)\n",
    "cv.destroyAllWindows()"
   ]
  },
  {
   "cell_type": "code",
   "execution_count": 59,
   "id": "e84df1ab",
   "metadata": {},
   "outputs": [
    {
     "data": {
      "text/plain": [
       "array([[ 346,  641,    1],\n",
       "       [ 184,  760,    1],\n",
       "       [ 420,  825,    1],\n",
       "       [ 561,  715,    1],\n",
       "       [ 367,  864,    1],\n",
       "       [ 219,  959,    1],\n",
       "       [ 421, 1046,    1],\n",
       "       [ 549,  913,    1],\n",
       "       [ 772,  792,    1],\n",
       "       [ 695,  841,    1],\n",
       "       [ 968, 1006,    1],\n",
       "       [1041,  949,    1],\n",
       "       [ 771,  827,    1],\n",
       "       [ 689,  876,    1],\n",
       "       [ 958, 1043,    1],\n",
       "       [1031,  985,    1]])"
      ]
     },
     "execution_count": 59,
     "metadata": {},
     "output_type": "execute_result"
    }
   ],
   "source": [
    "np.array(leve8)"
   ]
  },
  {
   "cell_type": "markdown",
   "id": "9b0bce0f",
   "metadata": {},
   "source": [
    "# odabir desnih tacaka"
   ]
  },
  {
   "cell_type": "code",
   "execution_count": 60,
   "id": "2ff2dbd7",
   "metadata": {},
   "outputs": [],
   "source": [
    "desne8 = []\n",
    "brojac = 0\n",
    "def click_event(event, x, y, flags, params): \n",
    "    global brojac\n",
    "    font = cv.FONT_HERSHEY_SIMPLEX \n",
    "\n",
    "    if event == cv.EVENT_LBUTTONDOWN: \n",
    "        cv.putText(slika, f'P{brojac+1}(' + str(x) + ',' +\n",
    "                    str(y) + ')', (x,y), font, \n",
    "                    1, (0, 0, 0), 2) \n",
    "        cv.imshow(\"desna\", slika)\n",
    "        \n",
    "        desne8.append([x, y, 1])\n",
    "        brojac += 1\n",
    "        \n",
    "        if brojac == 16:\n",
    "            cv.imwrite('desnaOZnacena.jpg', slika)\n",
    "            cv.imshow(\"desna\", slika)"
   ]
  },
  {
   "cell_type": "code",
   "execution_count": 61,
   "id": "6782b679",
   "metadata": {},
   "outputs": [],
   "source": [
    "putanja = './desna.jpg'\n",
    "slika = cv.imread(putanja)\n",
    "\n",
    "cv.imshow(\"desna\", slika)\n",
    "\n",
    "cv.setMouseCallback(\"desna\", click_event)\n",
    "\n",
    "cv.waitKey(0)\n",
    "cv.destroyAllWindows()"
   ]
  },
  {
   "cell_type": "code",
   "execution_count": 62,
   "id": "41583114",
   "metadata": {},
   "outputs": [
    {
     "data": {
      "text/plain": [
       "array([[ 391,  650,    1],\n",
       "       [ 200,  748,    1],\n",
       "       [ 352,  819,    1],\n",
       "       [ 557,  722,    1],\n",
       "       [ 418,  865,    1],\n",
       "       [ 253,  937,    1],\n",
       "       [ 382, 1038,    1],\n",
       "       [ 568,  926,    1],\n",
       "       [ 837,  825,    1],\n",
       "       [ 730,  866,    1],\n",
       "       [ 948, 1065,    1],\n",
       "       [1072, 1014,    1],\n",
       "       [ 835,  859,    1],\n",
       "       [ 737,  904,    1],\n",
       "       [ 938, 1115,    1],\n",
       "       [1065, 1061,    1]])"
      ]
     },
     "execution_count": 62,
     "metadata": {},
     "output_type": "execute_result"
    }
   ],
   "source": [
    "np.array(desne8)"
   ]
  },
  {
   "cell_type": "code",
   "execution_count": 18,
   "id": "48a0139d",
   "metadata": {},
   "outputs": [],
   "source": [
    "import numpy\n",
    "import numpy as np\n",
    "import math\n",
    "import plotly.graph_objects as go\n",
    "import plotly.express as px"
   ]
  },
  {
   "cell_type": "code",
   "execution_count": 20,
   "id": "f255bf24",
   "metadata": {},
   "outputs": [],
   "source": [
    "def piksel(koord): #Odredjivanje piksel koordinata tacke\n",
    "    return np.array([1,-1,-1])*(np.array([1200,0,0])-koord) #promeni 1600 za sliku"
   ]
  },
  {
   "cell_type": "code",
   "execution_count": 45,
   "id": "6df20894",
   "metadata": {},
   "outputs": [
    {
     "data": {
      "text/plain": [
       "array([[ 856,  642,    1],\n",
       "       [ 640,  712,    1],\n",
       "       [ 773,  826,    1],\n",
       "       [1020,  758,    1],\n",
       "       [ 231, 1001,    1],\n",
       "       [ 506,  837,    1],\n",
       "       [ 429,  794,    1],\n",
       "       [ 161,  945,    1]])"
      ]
     },
     "execution_count": 45,
     "metadata": {},
     "output_type": "execute_result"
    }
   ],
   "source": [
    "# leve8 = piksel(leve8)\n",
    "leve8"
   ]
  },
  {
   "cell_type": "code",
   "execution_count": 48,
   "id": "25ab4461",
   "metadata": {},
   "outputs": [
    {
     "data": {
      "text/plain": [
       "array([[ 806,  647,    1],\n",
       "       [ 644,  718,    1],\n",
       "       [ 849,  819,    1],\n",
       "       [1003,  749,    1],\n",
       "       [ 251, 1066,    1],\n",
       "       [ 469,  864,    1],\n",
       "       [ 362,  825,    1],\n",
       "       [ 131, 1016,    1]])"
      ]
     },
     "execution_count": 48,
     "metadata": {},
     "output_type": "execute_result"
    }
   ],
   "source": [
    "# desne8 = piksel(desne8)\n",
    "desne8"
   ]
  },
  {
   "cell_type": "code",
   "execution_count": 49,
   "id": "2a308823",
   "metadata": {},
   "outputs": [],
   "source": [
    "def fundJed(xl,xd): #Odredjivanje jednacina za fundamentalnu matricu\n",
    "    return np.array([xl[0]*xd[0],xl[1]*xd[0],xl[2]*xd[0],xl[0]*xd[1],xl[1]*xd[1],xl[2]*xd[1],xl[0]*xd[2],xl[1]*xd[2],xl[2]*xd[2]])"
   ]
  },
  {
   "cell_type": "code",
   "execution_count": 50,
   "id": "3ae69dee",
   "metadata": {},
   "outputs": [],
   "source": [
    "def fundamentalnaMatrica(leve,desne): #Odredjivanje fundamentalne matrice f\n",
    "    a=[]\n",
    "    for x,xp in zip(leve,desne):\n",
    "        jed= fundJed(x,xp)\n",
    "        a.append(jed)\n",
    "    a = np.array(a)\n",
    "    U, D, V = np.linalg.svd(a)\n",
    "    f = V[-1]\n",
    "    f = f.reshape(3,3)\n",
    "    return f"
   ]
  },
  {
   "cell_type": "code",
   "execution_count": 51,
   "id": "abeda89a",
   "metadata": {},
   "outputs": [],
   "source": [
    "def skew2v(EC): #Uzima vektor iz kososimetricne matrice \n",
    "    return np.array([EC[2][1],EC[0][2],EC[1][0]])"
   ]
  },
  {
   "cell_type": "code",
   "execution_count": 52,
   "id": "5b9a23e1",
   "metadata": {},
   "outputs": [],
   "source": [
    "def dekomponuj(e): #Dekompozicija osnove matrice E\n",
    "    q0=np.array([[0,-1,0],[1,0,0],[0,0,1]])\n",
    "    e0=np.array([[0,1,0],[-1,0,0],[0,0,0]])\n",
    "    U,S,V=np.linalg.svd(e)\n",
    "    EC=U@e0@np.transpose(U)\n",
    "    A=U@q0@V #probaj verziju bez transponovanih q0,v ako nesto ne valja\n",
    "    return A,skew2v(EC) #skew2v mozda vrati suprotan znak, stavi mu minus ako ne valja"
   ]
  },
  {
   "cell_type": "code",
   "execution_count": 53,
   "id": "1a581b99",
   "metadata": {},
   "outputs": [],
   "source": [
    "def kamera1(e): #Matrica kamere u koordinatnom sistemu druge kamere\n",
    "    A,C=dekomponuj(e)\n",
    "    C=K1 @ -np.transpose(A) @ C\n",
    "    C=-C\n",
    "    A=K1 @ np.transpose(A)\n",
    "    A1=np.concatenate((np.transpose(A),[C]),axis=0) #append A.T,C\n",
    "    return np.transpose(A1)"
   ]
  },
  {
   "cell_type": "code",
   "execution_count": 54,
   "id": "9ab7d4eb",
   "metadata": {},
   "outputs": [],
   "source": [
    "def triangulisi(T1,T2,pt1,pt2): #Triangulacija tacaka sa fotografije\n",
    "    a=np.array([pt1[1]*T1[2,:]-pt1[2]*T1[1,:],\n",
    "                -pt1[0]*T1[2,:]+pt1[2]*T1[0,:],\n",
    "                pt2[1]*T2[2,:]-pt2[2]*T2[1,:],\n",
    "                -pt2[0]*T2[2,:]+pt2[2]*T2[0,:]]) #ima na slajdovima\n",
    "    U,S,V=np.linalg.svd(a)\n",
    "    pt=V[3] # valjda moze -1\n",
    "    pt=(1/pt[3])*pt\n",
    "    pt=np.where(pt==0,0.0,pt)\n",
    "    return np.array(pt)"
   ]
  },
  {
   "cell_type": "code",
   "execution_count": 27,
   "id": "f2887e74",
   "metadata": {},
   "outputs": [],
   "source": [
    "def recPts(c1,c2,pts1,pts2):\n",
    "    a=[]\n",
    "    for x,xp in zip(pts1,pts2):\n",
    "        X=triangulisi(c1,c2,x,xp)\n",
    "        X=np.delete(X,-1)\n",
    "        a.append(X)\n",
    "    a = np.array(a)\n",
    "    return a"
   ]
  },
  {
   "cell_type": "code",
   "execution_count": 55,
   "id": "11a75af8",
   "metadata": {},
   "outputs": [],
   "source": [
    "K1=np.array(\n",
    "        [[1300,0,600],\n",
    "         [0,1300,800],\n",
    "         [0,0,1]]\n",
    "        )\n",
    "kam2=np.array(\n",
    "        [[1300,0,600,0],\n",
    "         [0,1300,800,0],\n",
    "         [0,0,1,0]]\n",
    "        )"
   ]
  },
  {
   "cell_type": "code",
   "execution_count": 80,
   "id": "80a19bf6",
   "metadata": {},
   "outputs": [
    {
     "name": "stdout",
     "output_type": "stream",
     "text": [
      "[[ 0.08577181 -0.08516866  0.58148737]\n",
      " [ 0.18488646 -0.04451522  0.61706391]\n",
      " [ 0.09874868 -0.00566769  0.53126168]\n",
      " [ 0.011839   -0.04327768  0.5102469 ]\n",
      " [ 0.07870038  0.01696368  0.57439482]\n",
      " [ 0.1618117   0.0518124   0.60843877]\n",
      " [ 0.09109701  0.09438552  0.54080929]\n",
      " [ 0.0123696   0.04354638  0.52096214]\n",
      " [-0.08931457  0.00428718  0.48052154]\n",
      " [-0.04990335  0.01909111  0.48789115]\n",
      " [-0.10843231  0.08697265  0.39164798]\n",
      " [-0.1391823   0.06716594  0.37559151]\n",
      " [-0.087933    0.01787643  0.48097993]\n",
      " [-0.05289083  0.03455647  0.4960711 ]\n",
      " [-0.10872022  0.10367168  0.40370674]\n",
      " [-0.14574617  0.08406817  0.39916478]]\n"
     ]
    }
   ],
   "source": [
    "f=fundamentalnaMatrica(piksel(leve8),piksel(desne8))\n",
    "#osnovna matrica\n",
    "e=np.transpose(K1)@f@K1\n",
    "pts3D=recPts(kamera1(e),kam2,piksel(leve8),piksel(desne8))\n",
    "print(pts3D)"
   ]
  },
  {
   "cell_type": "code",
   "execution_count": 65,
   "id": "a80e4ee6",
   "metadata": {},
   "outputs": [
    {
     "name": "stdout",
     "output_type": "stream",
     "text": [
      "[[ 3.19388009e-07 -2.76852471e-06  2.36423597e-03]\n",
      " [ 3.44161674e-06  7.79747224e-07 -9.26987475e-04]\n",
      " [-3.24848655e-03 -8.62580836e-04  9.99991127e-01]]\n"
     ]
    }
   ],
   "source": [
    "print(f)"
   ]
  },
  {
   "cell_type": "code",
   "execution_count": 66,
   "id": "7a470a98",
   "metadata": {},
   "outputs": [
    {
     "name": "stdout",
     "output_type": "stream",
     "text": [
      "[[ 0.53976574 -4.67880676  0.44336371]\n",
      " [ 5.81633229  1.31777281  2.29031445]\n",
      " [-0.39462845 -2.46986725 -0.02511179]]\n"
     ]
    }
   ],
   "source": [
    "print(e)"
   ]
  },
  {
   "cell_type": "code",
   "execution_count": 71,
   "id": "64b8ce4d",
   "metadata": {},
   "outputs": [
    {
     "name": "stdout",
     "output_type": "stream",
     "text": [
      "[[-0.65206565 -0.19863484 -0.7316793 ]\n",
      " [ 0.08371135 -0.97803134  0.19091124]\n",
      " [-0.75352691  0.0632368   0.65436863]]\n"
     ]
    }
   ],
   "source": [
    "A, E0 = dekomponuj(e)\n",
    "print(A)"
   ]
  },
  {
   "cell_type": "code",
   "execution_count": 79,
   "id": "85257a2a",
   "metadata": {},
   "outputs": [
    {
     "name": "stdout",
     "output_type": "stream",
     "text": [
      "E0\n",
      "[ 0.44224085 -0.10066683 -0.89122905]\n"
     ]
    }
   ],
   "source": [
    "print(\"E0\")\n",
    "print(E0)"
   ]
  },
  {
   "cell_type": "code",
   "execution_count": 78,
   "id": "ba565056",
   "metadata": {},
   "outputs": [
    {
     "name": "stdout",
     "output_type": "stream",
     "text": [
      "T1:\n",
      "[[-1.28669292e+03  2.23371501e+02 -5.86963802e+02 -6.83950737e+01]\n",
      " [-8.43568727e+02 -1.11871176e+03  6.05702741e+02 -8.00263264e+02]\n",
      " [-7.31679296e-01  1.90911239e-01  6.54368632e-01 -9.25989236e-01]]\n"
     ]
    }
   ],
   "source": [
    "print(\"T1:\")\n",
    "print(kamera1(e))"
   ]
  },
  {
   "cell_type": "code",
   "execution_count": 77,
   "id": "ed9ea9fb",
   "metadata": {},
   "outputs": [
    {
     "name": "stdout",
     "output_type": "stream",
     "text": [
      "T2:\n",
      "[[1300    0  600    0]\n",
      " [   0 1300  800    0]\n",
      " [   0    0    1    0]]\n"
     ]
    }
   ],
   "source": [
    "print(\"T2:\")\n",
    "print(kam2)"
   ]
  },
  {
   "cell_type": "code",
   "execution_count": null,
   "id": "d578269c",
   "metadata": {},
   "outputs": [],
   "source": []
  },
  {
   "cell_type": "code",
   "execution_count": null,
   "id": "d8bb0ce9",
   "metadata": {},
   "outputs": [],
   "source": [
    "import plotly.graph_objects as go\n",
    "import plotly.express as px\n",
    "\n",
    "# U ovom slucaju crtamo jednostavnu kocku. Vi cete koristiti rekonstruisana temena\n",
    "temenaKocke = pts3D #np.array([[0,0, 3], [0, 3,3], [3,3,3],[3, 0,3],[0,0,0], [0, 3,0], [3, 3,0],[3,0,0]] )\n",
    "# Ovo su ivice kocke zadate indeksima temena\n",
    "ivice = [[0, 1], [0, 3], [0, 4], [2, 3], [2, 1], [2, 6], [5, 6], [5, 4], [5, 1], [7, 6],\n",
    "[7, 3], [7, 4], [9, 10], [9, 12], [9, 14], [11, 12], [11, 10], [11, 13], [13, 14],\n",
    "[10, 13], [14, 12], [15, 16], [15, 17], [15, 18], [16, 17], [16, 18], [17, 18]]\n",
    "\n",
    "# dodatne mogucnosti istrazite sami\n",
    "\n",
    "#  prikaz scene - koristi \"plotly\" biblioteku\n",
    "def prikazKocke(): \n",
    "    # izdvajamo x,y,z koordinate svih tacaka\n",
    "    xdata = (np.transpose(temenaKocke))[0]\n",
    "    ydata = (np.transpose(temenaKocke))[1]\n",
    "    zdata = (np.transpose(temenaKocke))[2]\n",
    "    # u data1 ubacujemo sve sto treba naccrtati\n",
    "    data1 = []\n",
    "    # za svaku ivicu crtamo duz na osnovu koordinata\n",
    "    for i in range(len(ivice)):\n",
    "        data1.append(go.Scatter3d(x=[xdata[ivice[i][0]], xdata[ivice[i][1]]], y=[ydata[ivice[i][0]], ydata[ivice[i][1]]],z=[zdata[ivice[i][0]], zdata[ivice[i][1]]]))\n",
    "    fig = go.Figure(data = data1 )\n",
    "    # da ne prikazuje legendu\n",
    "    fig.update_layout(showlegend=False)\n",
    "    # pravi html fajl (ako zelite da napravite \"rotatable\" 3D rekonstruciju)\n",
    "    # birate kao parametar velicinu apleta. fulhtml=False je vazno da ne bi pravio ogroman fajl\n",
    "    # ovde stavite neki vas folder\n",
    "    fig.write_html(\"./rekonstrukcija\", include_plotlyjs = 'cdn', default_width = '800px', default_height = '600px', full_html = False) #Modifiy the html file\n",
    "    fig.show()\n",
    "\n",
    "prikazKocke()"
   ]
  },
  {
   "cell_type": "code",
   "execution_count": null,
   "id": "509bb9f8",
   "metadata": {},
   "outputs": [],
   "source": []
  },
  {
   "cell_type": "code",
   "execution_count": null,
   "id": "62d2e3c1",
   "metadata": {},
   "outputs": [],
   "source": []
  },
  {
   "cell_type": "code",
   "execution_count": null,
   "id": "e9284622",
   "metadata": {},
   "outputs": [],
   "source": []
  },
  {
   "cell_type": "code",
   "execution_count": null,
   "id": "9986b247",
   "metadata": {},
   "outputs": [],
   "source": []
  },
  {
   "cell_type": "code",
   "execution_count": null,
   "id": "a015019a",
   "metadata": {},
   "outputs": [],
   "source": []
  },
  {
   "cell_type": "code",
   "execution_count": null,
   "id": "ce1d8acb",
   "metadata": {},
   "outputs": [],
   "source": []
  },
  {
   "cell_type": "code",
   "execution_count": null,
   "id": "eccf25c0",
   "metadata": {},
   "outputs": [],
   "source": []
  },
  {
   "cell_type": "code",
   "execution_count": null,
   "id": "f12a9657",
   "metadata": {},
   "outputs": [],
   "source": []
  },
  {
   "cell_type": "code",
   "execution_count": null,
   "id": "b078211b",
   "metadata": {},
   "outputs": [],
   "source": []
  },
  {
   "cell_type": "code",
   "execution_count": null,
   "id": "d01567b6",
   "metadata": {},
   "outputs": [],
   "source": []
  },
  {
   "cell_type": "code",
   "execution_count": null,
   "id": "66c67820",
   "metadata": {},
   "outputs": [],
   "source": []
  },
  {
   "cell_type": "code",
   "execution_count": null,
   "id": "720ebfbb",
   "metadata": {},
   "outputs": [],
   "source": []
  },
  {
   "cell_type": "code",
   "execution_count": null,
   "id": "6f920dce",
   "metadata": {},
   "outputs": [],
   "source": []
  },
  {
   "cell_type": "code",
   "execution_count": null,
   "id": "1f4df2c0",
   "metadata": {},
   "outputs": [],
   "source": []
  },
  {
   "cell_type": "code",
   "execution_count": null,
   "id": "c56f0ada",
   "metadata": {},
   "outputs": [],
   "source": []
  },
  {
   "cell_type": "code",
   "execution_count": null,
   "id": "46fbe701",
   "metadata": {},
   "outputs": [],
   "source": []
  },
  {
   "cell_type": "code",
   "execution_count": null,
   "id": "ecb3e28e",
   "metadata": {},
   "outputs": [],
   "source": []
  },
  {
   "cell_type": "code",
   "execution_count": null,
   "id": "db5e70c1",
   "metadata": {},
   "outputs": [],
   "source": []
  },
  {
   "cell_type": "code",
   "execution_count": null,
   "id": "5b7f6bfa",
   "metadata": {},
   "outputs": [],
   "source": [
    "def centar(A):\n",
    "    # brisemo kolone redom i nalazimo determinante\n",
    "    A1 = np.linalg.det(np.delete(A, 0, 1))\n",
    "    A2 = np.linalg.det(np.delete(A, 1, 1))\n",
    "    A3 = np.linalg.det(np.delete(A, 2, 1))\n",
    "    A4 = np.linalg.det(np.delete(A, 3, 1))\n",
    "\n",
    "    C = (-1/A4)*np.array([A1, -A2, A3, -A4])\n",
    "    C = np.where(np.isclose(C, 0) , 0.0 , C)  # izbegavanje -0. u rezultatu\n",
    "    return C"
   ]
  },
  {
   "cell_type": "code",
   "execution_count": null,
   "id": "5b7e2cb3",
   "metadata": {},
   "outputs": [],
   "source": [
    "def kameraA(T):\n",
    "    T0 = np.delete(T, 3, 1)\n",
    "    if linalg.det(T0) < 0:\n",
    "        T0 = -T0\n",
    "    Q, R = linalg.qr(linalg.inv(T0)) \n",
    "\n",
    "    if R[0][0] < 0:\n",
    "        R = np.diag([-1, 1, 1])@R\n",
    "        Q = Q@np.diag([-1, 1, 1])\n",
    "    if R[1][1] < 0:\n",
    "        R = np.diag([1, -1, 1])@R\n",
    "        Q = Q@np.diag([1, -1, 1])\n",
    "    if R[2][2] < 0:\n",
    "        R = np.diag([1, 1, -1])@R\n",
    "        Q = Q@np.diag([1, 1, -1])\n",
    "\n",
    "    A = np.transpose(Q)\n",
    "    A = np.where(np.isclose(A, 0) , 0.0 , A)  # izbegavanje -0. u rezultatu\n",
    "    return A\n"
   ]
  },
  {
   "cell_type": "code",
   "execution_count": null,
   "id": "02b5ff34",
   "metadata": {},
   "outputs": [],
   "source": [
    "def kameraK(T):\n",
    "    T0 = np.delete(T, 3, 1)\n",
    "    if linalg.det(T0) < 0:\n",
    "        T0 = -T0\n",
    "    Q, R = linalg.qr(linalg.inv(T0)) \n",
    "\n",
    "    if R[0][0] < 0:\n",
    "        R = np.diag([-1, 1, 1])@R\n",
    "        Q = Q@np.diag([-1, 1, 1])\n",
    "    if R[1][1] < 0:\n",
    "        R = np.diag([1, -1, 1])@R\n",
    "        Q = Q@np.diag([1, -1, 1])\n",
    "    if R[2][2] < 0:\n",
    "        R = np.diag([1, 1, -1])@R\n",
    "        Q = Q@np.diag([1, 1, -1])\n",
    "\n",
    "    K = linalg.inv(R)\n",
    "    if K[2][2]:\n",
    "        K = K/K[2][2]\n",
    "    K = np.where(np.isclose(K, 0) , 0.0 , K)  # izbegavanje -0. u rezultatu\n",
    "    return K"
   ]
  },
  {
   "cell_type": "code",
   "execution_count": null,
   "id": "57545dfd",
   "metadata": {},
   "outputs": [],
   "source": [
    "def matricaKamere(pts2D, pts3D):\n",
    "    A = []\n",
    "    for i in range(len(pts2D)):\n",
    "        x1, x2, x3 = pts2D[i]\n",
    "        xp1, xp2, xp3, xp4 = pts3D[i]\n",
    "        A.append([0, 0, 0, 0, -x3*xp1, -x3*xp2, -x3*xp3, -x3*xp4, x2*xp1, x2*xp2, x2*xp3, x2*xp4])\n",
    "        A.append([x3*xp1, x3*xp2, x3*xp3, x3*xp4, 0, 0, 0, 0, -x1*xp1, -x1*xp2, -x1*xp3, -x1*xp4])\n",
    "    A = np.array(A)\n",
    "\n",
    "    _, _, V = linalg.svd(A)\n",
    "    T = np.array(V[-1]).reshape(3, 4)\n",
    "    T /= T[2][3]\n",
    "    \n",
    "    T = np.where(np.isclose(T, 0) , 0.0 , T)\n",
    "    return T"
   ]
  },
  {
   "cell_type": "code",
   "execution_count": null,
   "id": "b885df6b",
   "metadata": {},
   "outputs": [],
   "source": [
    "T = matricaKamere(org, img)"
   ]
  },
  {
   "cell_type": "code",
   "execution_count": null,
   "id": "29909acd",
   "metadata": {
    "scrolled": false
   },
   "outputs": [],
   "source": [
    "org =  np.array([1,-1,-1])*(np.array([1600,0,0])- np.array(ts))"
   ]
  },
  {
   "cell_type": "code",
   "execution_count": null,
   "id": "6f0a04a5",
   "metadata": {},
   "outputs": [],
   "source": [
    "img = np.array([[0,0,3,1], [0,1,3,1], [0,2,3,1],[0,3,3,1],\n",
    "                [1,0,3,1], [1,1,3,1], [1,2,3,1],[1,3,3,1],\n",
    "                [2,0,3,1], [2,1,3,1], [2,2,3,1],[2,3,3,1],\n",
    "                [3,0,3,1], [3,1,3,1], [3,2,3,1],[3,3,3,1], #gornja strana\n",
    "                [0,3,2,1], [1,3,2,1], [2,3,2,1],[3,3,2,1],\n",
    "                [0,3,1,1], [1,3,1,1], [2,3,1,1],[3,3,1,1],\n",
    "                [0,3,0,1], [1,3,0,1], [2,3,0,1],[3,3,0,1], #desna\n",
    "                [3,0,2,1],[3,1,2,1],[3,2,2,1], [3,3,2,1],\n",
    "                [3,0,1,1],[3,1,1,1],[3,2,1,1], [3,3,1,1],\n",
    "                [3,0,0,1],[3,1,0,1],[3,2,0,1], [3,3,0,1]])"
   ]
  },
  {
   "cell_type": "code",
   "execution_count": null,
   "id": "3bb73017",
   "metadata": {},
   "outputs": [],
   "source": [
    "print('Matrica kamere:')\n",
    "print(T)\n",
    "print('\\nPozicija centra kamere:')\n",
    "C = centar(T)\n",
    "print(C)\n",
    "print('\\nSpoljasnja matrica kamere:')\n",
    "A = kameraA(T)\n",
    "print(A)\n",
    "print('\\nMatrica kalibracije kamere:')\n",
    "K = kameraK(T)\n",
    "print(K)"
   ]
  },
  {
   "cell_type": "code",
   "execution_count": null,
   "id": "6bba60e3",
   "metadata": {},
   "outputs": [],
   "source": [
    "n_voxels = np.zeros((3, 3, 3), dtype=bool)\n",
    "for i in range(3):\n",
    "    for j in range(3):\n",
    "        for k in range(3):\n",
    "            if (i+j+k)%2 == 1:\n",
    "                n_voxels[i,j,k] = True\n",
    "filled = np.ones(n_voxels.shape)\n",
    "ax = plt.figure().add_subplot(projection='3d')\n",
    "ax.voxels(filled, facecolors='yellow')\n",
    "\n",
    "ax.quiver(0,0,0, 4,0,0, color='red', label='x', alpha=0.9)\n",
    "ax.text(4.2, 0, 0, s=\"X\")\n",
    "ax.quiver(0,0,0, 0,8,0, color='green', label='y', alpha=0.9)\n",
    "ax.text(0, 8.2, 0, s=\"Y\")\n",
    "ax.quiver(0,0,0, 0,0,4, color='blue', label='z', alpha=0.9)\n",
    "ax.text(0, 0, 4.2, s=\"Z\")\n",
    "\n",
    "ax.quiver(C[0], C[1], C[2], A[0][0], A[0][1], A[0][2], color='red', label='x', alpha=0.9)\n",
    "ax.quiver(C[0], C[1], C[2], A[1][0], A[1][1], A[1][2], color='green', label='y', alpha=0.9)\n",
    "ax.quiver(C[0], C[1], C[2], A[2][0], A[2][1], A[2][2], color='blue', label='z', alpha=0.9)\n",
    "ax.scatter(C[0], C[1], C[2])\n",
    "ax.text(C[0]+0.2, C[1]+0.1, C[2]+0.8, s=\"C\")\n",
    "\n",
    "\n",
    "plt.show()"
   ]
  },
  {
   "cell_type": "code",
   "execution_count": null,
   "id": "f179dcaa",
   "metadata": {},
   "outputs": [],
   "source": [
    "def afinize(tacka):\n",
    "    return list(map(lambda x : x / tacka[2], tacka))[:-1]"
   ]
  },
  {
   "cell_type": "code",
   "execution_count": null,
   "id": "f98afcf0",
   "metadata": {},
   "outputs": [],
   "source": [
    "def cross(x, y):\n",
    "    return np.cross(x, y)"
   ]
  },
  {
   "cell_type": "code",
   "execution_count": null,
   "id": "fb917119",
   "metadata": {},
   "outputs": [],
   "source": [
    "def tacka_nedogleda(t1, t2, t3, t4):\n",
    "    return list(cross(cross(t1, t2), cross(t3, t4)))"
   ]
  },
  {
   "cell_type": "code",
   "execution_count": null,
   "id": "29f09a40",
   "metadata": {},
   "outputs": [],
   "source": [
    "def zaokruzi(tacka):\n",
    "    return list(map(lambda x : round(x), tacka))"
   ]
  },
  {
   "cell_type": "code",
   "execution_count": null,
   "id": "2d00efbf",
   "metadata": {},
   "outputs": [],
   "source": [
    "\n",
    "# def homogenize(lista_tacaka):\n",
    "#     for tacka in lista_tacaka:\n",
    "#         tacka = tacka.append(1)\n",
    "#     return lista_tacaka\n",
    "\n",
    "def osmoteme(lista_tacaka):\n",
    "    #pretvori u homogene\n",
    "#     lista_tacaka = homogenize(lista_tacaka)\n",
    "    #izracunaj_tacku\n",
    "    t1, t2, t3, t5, t6, t7, t8 = lista_tacaka\n",
    "    \n",
    "    xb = tacka_nedogleda(t2, t6, t1, t5)\n",
    "    yb = tacka_nedogleda(t5, t6, t7, t8)\n",
    "    return afinize(tacka_nedogleda(t8, xb, t3, yb))"
   ]
  },
  {
   "cell_type": "code",
   "execution_count": null,
   "id": "cb70b575",
   "metadata": {},
   "outputs": [],
   "source": [
    "ts"
   ]
  },
  {
   "cell_type": "code",
   "execution_count": null,
   "id": "d76a0fb7",
   "metadata": {},
   "outputs": [],
   "source": [
    "osmoteme(ts)"
   ]
  },
  {
   "cell_type": "code",
   "execution_count": null,
   "id": "9c7f0cbb",
   "metadata": {},
   "outputs": [],
   "source": [
    "t1, t2, t3, t5, t6, t7, t8 = ts\n",
    "    \n",
    "xb = zaokruzi(tacka_nedogleda(t2, t6, t1, t5))\n",
    "xb"
   ]
  },
  {
   "cell_type": "code",
   "execution_count": null,
   "id": "1a4cdc3b",
   "metadata": {},
   "outputs": [],
   "source": [
    "yb = zaokruzi(tacka_nedogleda(t5, t6, t7, t8))\n",
    "yb"
   ]
  },
  {
   "cell_type": "code",
   "execution_count": null,
   "id": "6da23cfa",
   "metadata": {},
   "outputs": [],
   "source": [
    "tacka_nedogleda(t8, xb, t3, yb)"
   ]
  },
  {
   "cell_type": "code",
   "execution_count": null,
   "id": "2db912cd",
   "metadata": {},
   "outputs": [],
   "source": []
  },
  {
   "cell_type": "code",
   "execution_count": null,
   "id": "6f414066",
   "metadata": {},
   "outputs": [],
   "source": []
  },
  {
   "cell_type": "code",
   "execution_count": null,
   "id": "1a6bde77",
   "metadata": {},
   "outputs": [],
   "source": []
  },
  {
   "cell_type": "code",
   "execution_count": null,
   "id": "9d068aee",
   "metadata": {},
   "outputs": [],
   "source": []
  },
  {
   "cell_type": "code",
   "execution_count": null,
   "id": "e8e17c90",
   "metadata": {},
   "outputs": [],
   "source": []
  },
  {
   "cell_type": "code",
   "execution_count": null,
   "id": "659061da",
   "metadata": {},
   "outputs": [],
   "source": []
  },
  {
   "cell_type": "code",
   "execution_count": null,
   "id": "cdd63dff",
   "metadata": {},
   "outputs": [],
   "source": []
  },
  {
   "cell_type": "code",
   "execution_count": null,
   "id": "df61c384",
   "metadata": {},
   "outputs": [],
   "source": []
  },
  {
   "cell_type": "code",
   "execution_count": null,
   "id": "a0cc0e78",
   "metadata": {},
   "outputs": [],
   "source": []
  },
  {
   "cell_type": "code",
   "execution_count": null,
   "id": "862a6733",
   "metadata": {},
   "outputs": [],
   "source": []
  },
  {
   "cell_type": "code",
   "execution_count": null,
   "id": "3cbadc88",
   "metadata": {},
   "outputs": [],
   "source": []
  },
  {
   "cell_type": "code",
   "execution_count": null,
   "id": "c0e871c0",
   "metadata": {},
   "outputs": [],
   "source": []
  },
  {
   "cell_type": "code",
   "execution_count": null,
   "id": "e88c5435",
   "metadata": {},
   "outputs": [],
   "source": []
  },
  {
   "cell_type": "code",
   "execution_count": 17,
   "id": "be663c15",
   "metadata": {},
   "outputs": [],
   "source": [
    "def osmoteme(ts):\n",
    "    return [268, 563]"
   ]
  }
 ],
 "metadata": {
  "kernelspec": {
   "display_name": "Python 3 (ipykernel)",
   "language": "python",
   "name": "python3"
  },
  "language_info": {
   "codemirror_mode": {
    "name": "ipython",
    "version": 3
   },
   "file_extension": ".py",
   "mimetype": "text/x-python",
   "name": "python",
   "nbconvert_exporter": "python",
   "pygments_lexer": "ipython3",
   "version": "3.11.3"
  }
 },
 "nbformat": 4,
 "nbformat_minor": 5
}
