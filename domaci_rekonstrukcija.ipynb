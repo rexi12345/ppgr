{
 "cells": [
  {
   "cell_type": "code",
   "execution_count": 2,
   "id": "2f67f9b8",
   "metadata": {},
   "outputs": [],
   "source": [
    "# !py -m pip install opencv-python\n",
    "# !python.exe -m pip install --upgrade pip\n",
    "import numpy as np\n",
    "import cv2 as cv\n",
    "from numpy import linalg\n",
    "from math import acos, sqrt, degrees\n",
    "from matplotlib import pyplot as plt"
   ]
  },
  {
   "cell_type": "markdown",
   "id": "e036b8e1",
   "metadata": {},
   "source": [
    "# odabir prvih levih tacaka"
   ]
  },
  {
   "cell_type": "code",
   "execution_count": 45,
   "id": "4dc57ddd",
   "metadata": {},
   "outputs": [],
   "source": [
    "leve8 = []\n",
    "brojac = 0\n",
    "def click_event(event, x, y, flags, params): \n",
    "    global brojac\n",
    "    font = cv.FONT_HERSHEY_SIMPLEX \n",
    "\n",
    "    if event == cv.EVENT_LBUTTONDOWN: \n",
    "        cv.putText(slika, f'P{brojac+1}(' + str(x) + ',' +\n",
    "                    str(y) + ')', (x,y), font, \n",
    "                    1, (0, 0, 0), 2) \n",
    "        cv.imshow(\"lijeva\", slika)\n",
    "        \n",
    "        leve8.append([x, y, 1])\n",
    "        brojac += 1\n",
    "        \n",
    "        if brojac == 16:\n",
    "            cv.imwrite('lijevaOznacena.jpg', slika)\n",
    "            cv.imshow(\"lijeva\", slika)"
   ]
  },
  {
   "cell_type": "code",
   "execution_count": 46,
   "id": "ffaf39ad",
   "metadata": {},
   "outputs": [],
   "source": [
    "putanja = './lijeva.jpg'\n",
    "slika = cv.imread(putanja)\n",
    "\n",
    "cv.imshow(\"lijeva\", slika)\n",
    "\n",
    "cv.setMouseCallback(\"lijeva\", click_event)\n",
    "\n",
    "cv.waitKey(0)\n",
    "cv.destroyAllWindows()"
   ]
  },
  {
   "cell_type": "code",
   "execution_count": 47,
   "id": "e84df1ab",
   "metadata": {},
   "outputs": [
    {
     "data": {
      "text/plain": [
       "array([[ 347,  642,    1],\n",
       "       [ 559,  714,    1],\n",
       "       [ 423,  829,    1],\n",
       "       [ 181,  763,    1],\n",
       "       [ 774,  793,    1],\n",
       "       [1037,  948,    1],\n",
       "       [ 975, 1003,    1],\n",
       "       [ 697,  836,    1]])"
      ]
     },
     "execution_count": 47,
     "metadata": {},
     "output_type": "execute_result"
    }
   ],
   "source": [
    "np.array(leve8)"
   ]
  },
  {
   "cell_type": "markdown",
   "id": "9b0bce0f",
   "metadata": {},
   "source": [
    "# odabir prvih desnih tacaka"
   ]
  },
  {
   "cell_type": "code",
   "execution_count": 48,
   "id": "2ff2dbd7",
   "metadata": {},
   "outputs": [],
   "source": [
    "desne8 = []\n",
    "brojac = 0\n",
    "def click_event(event, x, y, flags, params): \n",
    "    global brojac\n",
    "    font = cv.FONT_HERSHEY_SIMPLEX \n",
    "\n",
    "    if event == cv.EVENT_LBUTTONDOWN: \n",
    "        cv.putText(slika, f'P{brojac+1}(' + str(x) + ',' +\n",
    "                    str(y) + ')', (x,y), font, \n",
    "                    1, (0, 0, 0), 2) \n",
    "        cv.imshow(\"desna\", slika)\n",
    "        \n",
    "        desne8.append([x, y, 1])\n",
    "        brojac += 1\n",
    "        \n",
    "        if brojac == 16:\n",
    "            cv.imwrite('desnaOZnacena.jpg', slika)\n",
    "            cv.imshow(\"desna\", slika)"
   ]
  },
  {
   "cell_type": "code",
   "execution_count": 49,
   "id": "6782b679",
   "metadata": {},
   "outputs": [],
   "source": [
    "putanja = './desna.jpg'\n",
    "slika = cv.imread(putanja)\n",
    "\n",
    "cv.imshow(\"desna\", slika)\n",
    "\n",
    "cv.setMouseCallback(\"desna\", click_event)\n",
    "\n",
    "cv.waitKey(0)\n",
    "cv.destroyAllWindows()"
   ]
  },
  {
   "cell_type": "code",
   "execution_count": 50,
   "id": "41583114",
   "metadata": {},
   "outputs": [
    {
     "data": {
      "text/plain": [
       "array([[ 394,  648,    1],\n",
       "       [ 556,  722,    1],\n",
       "       [ 352,  820,    1],\n",
       "       [ 199,  748,    1],\n",
       "       [ 838,  826,    1],\n",
       "       [1071, 1014,    1],\n",
       "       [ 955, 1064,    1],\n",
       "       [ 733,  864,    1]])"
      ]
     },
     "execution_count": 50,
     "metadata": {},
     "output_type": "execute_result"
    }
   ],
   "source": [
    "np.array(desne8)"
   ]
  },
  {
   "cell_type": "code",
   "execution_count": 51,
   "id": "48a0139d",
   "metadata": {},
   "outputs": [],
   "source": [
    "import numpy\n",
    "import numpy as np\n",
    "import math\n",
    "import plotly.graph_objects as go\n",
    "import plotly.express as px"
   ]
  },
  {
   "cell_type": "code",
   "execution_count": 52,
   "id": "f255bf24",
   "metadata": {},
   "outputs": [],
   "source": [
    "def piksel(koord): #Odredjivanje piksel koordinata tacke\n",
    "    return np.array([1,-1,-1])*(np.array([1200,0,0])-koord) #promeni 1600 za sliku"
   ]
  },
  {
   "cell_type": "code",
   "execution_count": 53,
   "id": "2a308823",
   "metadata": {},
   "outputs": [],
   "source": [
    "def fundJed(xl,xd): #Odredjivanje jednacina za fundamentalnu matricu\n",
    "    return np.array([xl[0]*xd[0],xl[1]*xd[0],xl[2]*xd[0],xl[0]*xd[1],xl[1]*xd[1],xl[2]*xd[1],xl[0]*xd[2],xl[1]*xd[2],xl[2]*xd[2]])"
   ]
  },
  {
   "cell_type": "code",
   "execution_count": 54,
   "id": "3ae69dee",
   "metadata": {},
   "outputs": [],
   "source": [
    "def fundamentalnaMatrica(leve,desne): #Odredjivanje fundamentalne matrice f\n",
    "    a=[]\n",
    "    for x,xp in zip(leve,desne):\n",
    "        jed= fundJed(x,xp)\n",
    "        a.append(jed)\n",
    "    a = np.array(a)\n",
    "    U, D, V = np.linalg.svd(a)\n",
    "    f = V[-1]\n",
    "    f = f.reshape(3,3)\n",
    "    return f"
   ]
  },
  {
   "cell_type": "code",
   "execution_count": 55,
   "id": "abeda89a",
   "metadata": {},
   "outputs": [],
   "source": [
    "def skew2v(EC): #Uzima vektor iz kososimetricne matrice \n",
    "    return np.array([EC[2][1],EC[0][2],EC[1][0]])"
   ]
  },
  {
   "cell_type": "code",
   "execution_count": 56,
   "id": "5b9a23e1",
   "metadata": {},
   "outputs": [],
   "source": [
    "def dekomponuj(e): #Dekompozicija osnove matrice E\n",
    "    q0=np.array([[0,-1,0],[1,0,0],[0,0,1]])\n",
    "    e0=np.array([[0,1,0],[-1,0,0],[0,0,0]])\n",
    "    U,S,V=np.linalg.svd(e)\n",
    "    EC=U@e0@np.transpose(U)\n",
    "    A=U@q0@V #probaj verziju bez transponovanih q0,v ako nesto ne valja\n",
    "    return A,skew2v(EC) #skew2v mozda vrati suprotan znak, stavi mu minus ako ne valja"
   ]
  },
  {
   "cell_type": "code",
   "execution_count": 57,
   "id": "1a581b99",
   "metadata": {},
   "outputs": [],
   "source": [
    "def kamera1(e): #Matrica kamere u koordinatnom sistemu druge kamere\n",
    "    A,C=dekomponuj(e)\n",
    "    C=K1 @ -np.transpose(A) @ C\n",
    "    C=-C\n",
    "    A=K1 @ np.transpose(A)\n",
    "    A1=np.concatenate((np.transpose(A),[C]),axis=0) #append A.T,C\n",
    "    return np.transpose(A1)"
   ]
  },
  {
   "cell_type": "code",
   "execution_count": 58,
   "id": "9ab7d4eb",
   "metadata": {},
   "outputs": [],
   "source": [
    "def triangulisi(T1,T2,pt1,pt2): #Triangulacija tacaka sa fotografije\n",
    "    a=np.array([pt1[1]*T1[2,:]-pt1[2]*T1[1,:],\n",
    "                -pt1[0]*T1[2,:]+pt1[2]*T1[0,:],\n",
    "                pt2[1]*T2[2,:]-pt2[2]*T2[1,:],\n",
    "                -pt2[0]*T2[2,:]+pt2[2]*T2[0,:]]) #ima na slajdovima\n",
    "    U,S,V=np.linalg.svd(a)\n",
    "    pt=V[3] # valjda moze -1\n",
    "    pt=(1/pt[3])*pt\n",
    "    pt=np.where(pt==0,0.0,pt)\n",
    "    return np.array(pt)"
   ]
  },
  {
   "cell_type": "code",
   "execution_count": 59,
   "id": "f2887e74",
   "metadata": {},
   "outputs": [],
   "source": [
    "def recPts(c1,c2,pts1,pts2):\n",
    "    a=[]\n",
    "    for x,xp in zip(pts1,pts2):\n",
    "        X=triangulisi(c1,c2,x,xp)\n",
    "        X=np.delete(X,-1)\n",
    "        a.append(X)\n",
    "    a = np.array(a)\n",
    "    return a"
   ]
  },
  {
   "cell_type": "code",
   "execution_count": 60,
   "id": "11a75af8",
   "metadata": {},
   "outputs": [],
   "source": [
    "K1=np.array(\n",
    "        [[1400,0,600],\n",
    "         [0,1400,800],\n",
    "         [0,0,1]]\n",
    "        )\n",
    "kam2=np.array(\n",
    "        [[1400,0,600,0],\n",
    "         [0,1400,800,0],\n",
    "         [0,0,1,0]]\n",
    "        )"
   ]
  },
  {
   "cell_type": "markdown",
   "id": "aa9dd77a",
   "metadata": {},
   "source": [
    "# odabir ostalih levih tacaka"
   ]
  },
  {
   "cell_type": "code",
   "execution_count": 61,
   "id": "8286f057",
   "metadata": {},
   "outputs": [],
   "source": [
    "leve16 = []\n",
    "brojac = 0\n",
    "def click_event(event, x, y, flags, params): \n",
    "    global brojac\n",
    "    font = cv.FONT_HERSHEY_SIMPLEX \n",
    "\n",
    "    if event == cv.EVENT_LBUTTONDOWN: \n",
    "        cv.putText(slika, f'P{brojac+1}(' + str(x) + ',' +\n",
    "                    str(y) + ')', (x,y), font, \n",
    "                    1, (0, 0, 0), 2) \n",
    "        cv.imshow(\"leva\", slika)\n",
    "        \n",
    "        leve16.append([x, y, 1])\n",
    "        brojac += 1"
   ]
  },
  {
   "cell_type": "code",
   "execution_count": 62,
   "id": "df506c80",
   "metadata": {},
   "outputs": [],
   "source": [
    "putanja = './lijeva.jpg'\n",
    "slika = cv.imread(putanja)\n",
    "\n",
    "cv.imshow(\"leva\", slika)\n",
    "\n",
    "cv.setMouseCallback(\"leva\", click_event)\n",
    "\n",
    "cv.waitKey(0)\n",
    "cv.destroyAllWindows()"
   ]
  },
  {
   "cell_type": "markdown",
   "id": "58a41173",
   "metadata": {},
   "source": [
    "# odabir ostalih desnih tacaka"
   ]
  },
  {
   "cell_type": "code",
   "execution_count": 63,
   "id": "222a103c",
   "metadata": {},
   "outputs": [],
   "source": [
    "desne16 = []\n",
    "brojac = 0\n",
    "def click_event(event, x, y, flags, params): \n",
    "    global brojac\n",
    "    font = cv.FONT_HERSHEY_SIMPLEX \n",
    "\n",
    "    if event == cv.EVENT_LBUTTONDOWN: \n",
    "        cv.putText(slika, f'P{brojac+1}(' + str(x) + ',' +\n",
    "                    str(y) + ')', (x,y), font, \n",
    "                    1, (0, 0, 0), 2) \n",
    "        cv.imshow(\"desna\", slika)\n",
    "        \n",
    "        desne16.append([x, y, 1])\n",
    "        brojac += 1\n",
    "        \n",
    "        if brojac == 16:\n",
    "            cv.imwrite('desnaOZnacena.jpg', slika)\n",
    "            cv.imshow(\"desna\", slika)"
   ]
  },
  {
   "cell_type": "code",
   "execution_count": 64,
   "id": "39b3fe66",
   "metadata": {},
   "outputs": [],
   "source": [
    "putanja = './desna.jpg'\n",
    "slika = cv.imread(putanja)\n",
    "\n",
    "cv.imshow(\"desna\", slika)\n",
    "\n",
    "cv.setMouseCallback(\"desna\", click_event)\n",
    "\n",
    "cv.waitKey(0)\n",
    "cv.destroyAllWindows()"
   ]
  },
  {
   "cell_type": "code",
   "execution_count": null,
   "id": "b74eef12",
   "metadata": {},
   "outputs": [],
   "source": []
  },
  {
   "cell_type": "code",
   "execution_count": 65,
   "id": "80a19bf6",
   "metadata": {},
   "outputs": [
    {
     "name": "stdout",
     "output_type": "stream",
     "text": [
      "[[ 0.13001229 -0.22304598  1.10430739]\n",
      " [ 0.00518623 -0.11434872  0.82442751]\n",
      " [ 0.16315093 -0.06790751  1.0225691 ]\n",
      " [ 0.39489644 -0.18965548  1.49762399]\n",
      " [ 0.11927964 -0.03513555  1.06439657]\n",
      " [ 0.0061648   0.01812965  0.82280017]\n",
      " [ 0.14371909  0.10596518  1.00259304]\n",
      " [ 0.31777888  0.02918768  1.35620637]\n",
      " [-0.11787571 -0.02984011  0.62168121]\n",
      " [-0.16129687  0.05270288  0.46747552]\n",
      " [-0.13069897  0.07611288  0.50740655]\n",
      " [-0.07598155 -0.01271492  0.68243607]\n",
      " [-0.11491672 -0.00936817  0.62381108]\n",
      " [-0.16087988  0.07106867  0.4715682 ]\n",
      " [-0.12743848  0.0959344   0.51244883]\n",
      " [-0.07480251  0.00872514  0.68614342]]\n"
     ]
    }
   ],
   "source": [
    "f=fundamentalnaMatrica(piksel(leve8),piksel(desne8))\n",
    "#osnovna matrica\n",
    "e=np.transpose(K1)@f@K1\n",
    "pts3D=recPts(kamera1(e),kam2,piksel(leve16),piksel(desne16))\n",
    "print(pts3D)"
   ]
  },
  {
   "cell_type": "code",
   "execution_count": 66,
   "id": "a80e4ee6",
   "metadata": {},
   "outputs": [
    {
     "name": "stdout",
     "output_type": "stream",
     "text": [
      "[[ 2.43769033e-07 -6.22651983e-07  6.69780099e-04]\n",
      " [ 1.63337657e-06  7.39139121e-07  7.69702819e-04]\n",
      " [-1.63498586e-03 -2.64750432e-03  9.99994638e-01]]\n"
     ]
    }
   ],
   "source": [
    "print(f)"
   ]
  },
  {
   "cell_type": "code",
   "execution_count": 67,
   "id": "7a470a98",
   "metadata": {},
   "outputs": [
    {
     "name": "stdout",
     "output_type": "stream",
     "text": [
      "[[ 0.4777873  -1.22039789  0.44508791]\n",
      " [ 3.20141809  1.44871268  3.27745609]\n",
      " [-0.25483245 -3.4016979  -0.03541633]]\n"
     ]
    }
   ],
   "source": [
    "print(e)"
   ]
  },
  {
   "cell_type": "code",
   "execution_count": 68,
   "id": "64b8ce4d",
   "metadata": {},
   "outputs": [
    {
     "name": "stdout",
     "output_type": "stream",
     "text": [
      "[[ 0.40074895 -0.23757266 -0.88484999]\n",
      " [-0.00597609 -0.9664526   0.25677551]\n",
      " [-0.91616842 -0.09761457 -0.38872462]]\n"
     ]
    }
   ],
   "source": [
    "A, E0 = dekomponuj(e)\n",
    "print(A)"
   ]
  },
  {
   "cell_type": "code",
   "execution_count": 69,
   "id": "85257a2a",
   "metadata": {},
   "outputs": [
    {
     "name": "stdout",
     "output_type": "stream",
     "text": [
      "E0\n",
      "[ 0.90995577 -0.14659824 -0.38792969]\n"
     ]
    }
   ],
   "source": [
    "print(\"E0\")\n",
    "print(E0)"
   ]
  },
  {
   "cell_type": "code",
   "execution_count": 70,
   "id": "ba565056",
   "metadata": {},
   "outputs": [
    {
     "name": "stdout",
     "output_type": "stream",
     "text": [
      "T1:\n",
      "[[ 3.01385320e+01  1.45698779e+02 -1.51587055e+03  5.94116746e+02]\n",
      " [-1.04048172e+03 -1.14761323e+03 -4.47640094e+02 -6.04901382e+02]\n",
      " [-8.84849993e-01  2.56775509e-01 -3.88724618e-01 -6.92019375e-01]]\n"
     ]
    }
   ],
   "source": [
    "print(\"T1:\")\n",
    "print(kamera1(e))"
   ]
  },
  {
   "cell_type": "code",
   "execution_count": 71,
   "id": "ed9ea9fb",
   "metadata": {},
   "outputs": [
    {
     "name": "stdout",
     "output_type": "stream",
     "text": [
      "T2:\n",
      "[[1400    0  600    0]\n",
      " [   0 1400  800    0]\n",
      " [   0    0    1    0]]\n"
     ]
    }
   ],
   "source": [
    "print(\"T2:\")\n",
    "print(kam2)"
   ]
  },
  {
   "cell_type": "code",
   "execution_count": null,
   "id": "d578269c",
   "metadata": {},
   "outputs": [],
   "source": []
  },
  {
   "cell_type": "code",
   "execution_count": 75,
   "id": "d8bb0ce9",
   "metadata": {},
   "outputs": [
    {
     "data": {
      "application/vnd.plotly.v1+json": {
       "config": {
        "plotlyServerURL": "https://plot.ly"
       },
       "data": [
        {
         "type": "scatter3d",
         "x": [
          0.13001228697727413,
          0.005186233702698032
         ],
         "y": [
          -0.2230459779454371,
          -0.11434871886805144
         ],
         "z": [
          1.1043073911416297,
          0.8244275073255258
         ]
        },
        {
         "type": "scatter3d",
         "x": [
          0.13001228697727413,
          0.3948964396932575
         ],
         "y": [
          -0.2230459779454371,
          -0.1896554782172123
         ],
         "z": [
          1.1043073911416297,
          1.4976239879360773
         ]
        },
        {
         "type": "scatter3d",
         "x": [
          0.13001228697727413,
          0.119279637889176
         ],
         "y": [
          -0.2230459779454371,
          -0.03513555433436578
         ],
         "z": [
          1.1043073911416297,
          1.0643965682840524
         ]
        },
        {
         "type": "scatter3d",
         "x": [
          0.16315092845002999,
          0.3948964396932575
         ],
         "y": [
          -0.06790750972132086,
          -0.1896554782172123
         ],
         "z": [
          1.022569098938327,
          1.4976239879360773
         ]
        },
        {
         "type": "scatter3d",
         "x": [
          0.16315092845002999,
          0.005186233702698032
         ],
         "y": [
          -0.06790750972132086,
          -0.11434871886805144
         ],
         "z": [
          1.022569098938327,
          0.8244275073255258
         ]
        },
        {
         "type": "scatter3d",
         "x": [
          0.16315092845002999,
          0.1437190904326238
         ],
         "y": [
          -0.06790750972132086,
          0.10596518308938786
         ],
         "z": [
          1.022569098938327,
          1.00259303811189
         ]
        },
        {
         "type": "scatter3d",
         "x": [
          0.0061648049473650235,
          0.1437190904326238
         ],
         "y": [
          0.018129648701126887,
          0.10596518308938786
         ],
         "z": [
          0.8228001706192396,
          1.00259303811189
         ]
        },
        {
         "type": "scatter3d",
         "x": [
          0.0061648049473650235,
          0.119279637889176
         ],
         "y": [
          0.018129648701126887,
          -0.03513555433436578
         ],
         "z": [
          0.8228001706192396,
          1.0643965682840524
         ]
        },
        {
         "type": "scatter3d",
         "x": [
          0.0061648049473650235,
          0.005186233702698032
         ],
         "y": [
          0.018129648701126887,
          -0.11434871886805144
         ],
         "z": [
          0.8228001706192396,
          0.8244275073255258
         ]
        },
        {
         "type": "scatter3d",
         "x": [
          0.3177788791039412,
          0.1437190904326238
         ],
         "y": [
          0.02918767749939635,
          0.10596518308938786
         ],
         "z": [
          1.3562063728452354,
          1.00259303811189
         ]
        },
        {
         "type": "scatter3d",
         "x": [
          0.3177788791039412,
          0.3948964396932575
         ],
         "y": [
          0.02918767749939635,
          -0.1896554782172123
         ],
         "z": [
          1.3562063728452354,
          1.4976239879360773
         ]
        },
        {
         "type": "scatter3d",
         "x": [
          0.3177788791039412,
          0.119279637889176
         ],
         "y": [
          0.02918767749939635,
          -0.03513555433436578
         ],
         "z": [
          1.3562063728452354,
          1.0643965682840524
         ]
        },
        {
         "type": "scatter3d",
         "x": [
          -0.11787571252974847,
          -0.1612968711728975
         ],
         "y": [
          -0.029840107472714154,
          0.052702876950934965
         ],
         "z": [
          0.6216812084190805,
          0.46747551593254477
         ]
        },
        {
         "type": "scatter3d",
         "x": [
          -0.11787571252974847,
          -0.07598155315866961
         ],
         "y": [
          -0.029840107472714154,
          -0.012714915520884528
         ],
         "z": [
          0.6216812084190805,
          0.6824360694458589
         ]
        },
        {
         "type": "scatter3d",
         "x": [
          -0.11787571252974847,
          -0.11491671912211394
         ],
         "y": [
          -0.029840107472714154,
          -0.009368169957257614
         ],
         "z": [
          0.6216812084190805,
          0.6238110830358135
         ]
        },
        {
         "type": "scatter3d",
         "x": [
          -0.1306989691548658,
          -0.07598155315866961
         ],
         "y": [
          0.07611288214668697,
          -0.012714915520884528
         ],
         "z": [
          0.5074065477868731,
          0.6824360694458589
         ]
        },
        {
         "type": "scatter3d",
         "x": [
          -0.1306989691548658,
          -0.1612968711728975
         ],
         "y": [
          0.07611288214668697,
          0.052702876950934965
         ],
         "z": [
          0.5074065477868731,
          0.46747551593254477
         ]
        },
        {
         "type": "scatter3d",
         "x": [
          -0.1306989691548658,
          -0.1274384786794587
         ],
         "y": [
          0.07611288214668697,
          0.09593440087950053
         ],
         "z": [
          0.5074065477868731,
          0.5124488282575428
         ]
        },
        {
         "type": "scatter3d",
         "x": [
          -0.1608798844689901,
          -0.1274384786794587
         ],
         "y": [
          0.07106867233349361,
          0.09593440087950053
         ],
         "z": [
          0.4715682003774005,
          0.5124488282575428
         ]
        },
        {
         "type": "scatter3d",
         "x": [
          -0.1608798844689901,
          -0.11491671912211394
         ],
         "y": [
          0.07106867233349361,
          -0.009368169957257614
         ],
         "z": [
          0.4715682003774005,
          0.6238110830358135
         ]
        },
        {
         "type": "scatter3d",
         "x": [
          -0.1608798844689901,
          -0.1612968711728975
         ],
         "y": [
          0.07106867233349361,
          0.052702876950934965
         ],
         "z": [
          0.4715682003774005,
          0.46747551593254477
         ]
        },
        {
         "type": "scatter3d",
         "x": [
          -0.07480250915955675,
          -0.1274384786794587
         ],
         "y": [
          0.00872514306246985,
          0.09593440087950053
         ],
         "z": [
          0.6861434218960258,
          0.5124488282575428
         ]
        },
        {
         "type": "scatter3d",
         "x": [
          -0.07480250915955675,
          -0.07598155315866961
         ],
         "y": [
          0.00872514306246985,
          -0.012714915520884528
         ],
         "z": [
          0.6861434218960258,
          0.6824360694458589
         ]
        },
        {
         "type": "scatter3d",
         "x": [
          -0.07480250915955675,
          -0.11491671912211394
         ],
         "y": [
          0.00872514306246985,
          -0.009368169957257614
         ],
         "z": [
          0.6861434218960258,
          0.6238110830358135
         ]
        }
       ],
       "layout": {
        "showlegend": false,
        "template": {
         "data": {
          "bar": [
           {
            "error_x": {
             "color": "#2a3f5f"
            },
            "error_y": {
             "color": "#2a3f5f"
            },
            "marker": {
             "line": {
              "color": "#E5ECF6",
              "width": 0.5
             },
             "pattern": {
              "fillmode": "overlay",
              "size": 10,
              "solidity": 0.2
             }
            },
            "type": "bar"
           }
          ],
          "barpolar": [
           {
            "marker": {
             "line": {
              "color": "#E5ECF6",
              "width": 0.5
             },
             "pattern": {
              "fillmode": "overlay",
              "size": 10,
              "solidity": 0.2
             }
            },
            "type": "barpolar"
           }
          ],
          "carpet": [
           {
            "aaxis": {
             "endlinecolor": "#2a3f5f",
             "gridcolor": "white",
             "linecolor": "white",
             "minorgridcolor": "white",
             "startlinecolor": "#2a3f5f"
            },
            "baxis": {
             "endlinecolor": "#2a3f5f",
             "gridcolor": "white",
             "linecolor": "white",
             "minorgridcolor": "white",
             "startlinecolor": "#2a3f5f"
            },
            "type": "carpet"
           }
          ],
          "choropleth": [
           {
            "colorbar": {
             "outlinewidth": 0,
             "ticks": ""
            },
            "type": "choropleth"
           }
          ],
          "contour": [
           {
            "colorbar": {
             "outlinewidth": 0,
             "ticks": ""
            },
            "colorscale": [
             [
              0,
              "#0d0887"
             ],
             [
              0.1111111111111111,
              "#46039f"
             ],
             [
              0.2222222222222222,
              "#7201a8"
             ],
             [
              0.3333333333333333,
              "#9c179e"
             ],
             [
              0.4444444444444444,
              "#bd3786"
             ],
             [
              0.5555555555555556,
              "#d8576b"
             ],
             [
              0.6666666666666666,
              "#ed7953"
             ],
             [
              0.7777777777777778,
              "#fb9f3a"
             ],
             [
              0.8888888888888888,
              "#fdca26"
             ],
             [
              1,
              "#f0f921"
             ]
            ],
            "type": "contour"
           }
          ],
          "contourcarpet": [
           {
            "colorbar": {
             "outlinewidth": 0,
             "ticks": ""
            },
            "type": "contourcarpet"
           }
          ],
          "heatmap": [
           {
            "colorbar": {
             "outlinewidth": 0,
             "ticks": ""
            },
            "colorscale": [
             [
              0,
              "#0d0887"
             ],
             [
              0.1111111111111111,
              "#46039f"
             ],
             [
              0.2222222222222222,
              "#7201a8"
             ],
             [
              0.3333333333333333,
              "#9c179e"
             ],
             [
              0.4444444444444444,
              "#bd3786"
             ],
             [
              0.5555555555555556,
              "#d8576b"
             ],
             [
              0.6666666666666666,
              "#ed7953"
             ],
             [
              0.7777777777777778,
              "#fb9f3a"
             ],
             [
              0.8888888888888888,
              "#fdca26"
             ],
             [
              1,
              "#f0f921"
             ]
            ],
            "type": "heatmap"
           }
          ],
          "heatmapgl": [
           {
            "colorbar": {
             "outlinewidth": 0,
             "ticks": ""
            },
            "colorscale": [
             [
              0,
              "#0d0887"
             ],
             [
              0.1111111111111111,
              "#46039f"
             ],
             [
              0.2222222222222222,
              "#7201a8"
             ],
             [
              0.3333333333333333,
              "#9c179e"
             ],
             [
              0.4444444444444444,
              "#bd3786"
             ],
             [
              0.5555555555555556,
              "#d8576b"
             ],
             [
              0.6666666666666666,
              "#ed7953"
             ],
             [
              0.7777777777777778,
              "#fb9f3a"
             ],
             [
              0.8888888888888888,
              "#fdca26"
             ],
             [
              1,
              "#f0f921"
             ]
            ],
            "type": "heatmapgl"
           }
          ],
          "histogram": [
           {
            "marker": {
             "pattern": {
              "fillmode": "overlay",
              "size": 10,
              "solidity": 0.2
             }
            },
            "type": "histogram"
           }
          ],
          "histogram2d": [
           {
            "colorbar": {
             "outlinewidth": 0,
             "ticks": ""
            },
            "colorscale": [
             [
              0,
              "#0d0887"
             ],
             [
              0.1111111111111111,
              "#46039f"
             ],
             [
              0.2222222222222222,
              "#7201a8"
             ],
             [
              0.3333333333333333,
              "#9c179e"
             ],
             [
              0.4444444444444444,
              "#bd3786"
             ],
             [
              0.5555555555555556,
              "#d8576b"
             ],
             [
              0.6666666666666666,
              "#ed7953"
             ],
             [
              0.7777777777777778,
              "#fb9f3a"
             ],
             [
              0.8888888888888888,
              "#fdca26"
             ],
             [
              1,
              "#f0f921"
             ]
            ],
            "type": "histogram2d"
           }
          ],
          "histogram2dcontour": [
           {
            "colorbar": {
             "outlinewidth": 0,
             "ticks": ""
            },
            "colorscale": [
             [
              0,
              "#0d0887"
             ],
             [
              0.1111111111111111,
              "#46039f"
             ],
             [
              0.2222222222222222,
              "#7201a8"
             ],
             [
              0.3333333333333333,
              "#9c179e"
             ],
             [
              0.4444444444444444,
              "#bd3786"
             ],
             [
              0.5555555555555556,
              "#d8576b"
             ],
             [
              0.6666666666666666,
              "#ed7953"
             ],
             [
              0.7777777777777778,
              "#fb9f3a"
             ],
             [
              0.8888888888888888,
              "#fdca26"
             ],
             [
              1,
              "#f0f921"
             ]
            ],
            "type": "histogram2dcontour"
           }
          ],
          "mesh3d": [
           {
            "colorbar": {
             "outlinewidth": 0,
             "ticks": ""
            },
            "type": "mesh3d"
           }
          ],
          "parcoords": [
           {
            "line": {
             "colorbar": {
              "outlinewidth": 0,
              "ticks": ""
             }
            },
            "type": "parcoords"
           }
          ],
          "pie": [
           {
            "automargin": true,
            "type": "pie"
           }
          ],
          "scatter": [
           {
            "fillpattern": {
             "fillmode": "overlay",
             "size": 10,
             "solidity": 0.2
            },
            "type": "scatter"
           }
          ],
          "scatter3d": [
           {
            "line": {
             "colorbar": {
              "outlinewidth": 0,
              "ticks": ""
             }
            },
            "marker": {
             "colorbar": {
              "outlinewidth": 0,
              "ticks": ""
             }
            },
            "type": "scatter3d"
           }
          ],
          "scattercarpet": [
           {
            "marker": {
             "colorbar": {
              "outlinewidth": 0,
              "ticks": ""
             }
            },
            "type": "scattercarpet"
           }
          ],
          "scattergeo": [
           {
            "marker": {
             "colorbar": {
              "outlinewidth": 0,
              "ticks": ""
             }
            },
            "type": "scattergeo"
           }
          ],
          "scattergl": [
           {
            "marker": {
             "colorbar": {
              "outlinewidth": 0,
              "ticks": ""
             }
            },
            "type": "scattergl"
           }
          ],
          "scattermapbox": [
           {
            "marker": {
             "colorbar": {
              "outlinewidth": 0,
              "ticks": ""
             }
            },
            "type": "scattermapbox"
           }
          ],
          "scatterpolar": [
           {
            "marker": {
             "colorbar": {
              "outlinewidth": 0,
              "ticks": ""
             }
            },
            "type": "scatterpolar"
           }
          ],
          "scatterpolargl": [
           {
            "marker": {
             "colorbar": {
              "outlinewidth": 0,
              "ticks": ""
             }
            },
            "type": "scatterpolargl"
           }
          ],
          "scatterternary": [
           {
            "marker": {
             "colorbar": {
              "outlinewidth": 0,
              "ticks": ""
             }
            },
            "type": "scatterternary"
           }
          ],
          "surface": [
           {
            "colorbar": {
             "outlinewidth": 0,
             "ticks": ""
            },
            "colorscale": [
             [
              0,
              "#0d0887"
             ],
             [
              0.1111111111111111,
              "#46039f"
             ],
             [
              0.2222222222222222,
              "#7201a8"
             ],
             [
              0.3333333333333333,
              "#9c179e"
             ],
             [
              0.4444444444444444,
              "#bd3786"
             ],
             [
              0.5555555555555556,
              "#d8576b"
             ],
             [
              0.6666666666666666,
              "#ed7953"
             ],
             [
              0.7777777777777778,
              "#fb9f3a"
             ],
             [
              0.8888888888888888,
              "#fdca26"
             ],
             [
              1,
              "#f0f921"
             ]
            ],
            "type": "surface"
           }
          ],
          "table": [
           {
            "cells": {
             "fill": {
              "color": "#EBF0F8"
             },
             "line": {
              "color": "white"
             }
            },
            "header": {
             "fill": {
              "color": "#C8D4E3"
             },
             "line": {
              "color": "white"
             }
            },
            "type": "table"
           }
          ]
         },
         "layout": {
          "annotationdefaults": {
           "arrowcolor": "#2a3f5f",
           "arrowhead": 0,
           "arrowwidth": 1
          },
          "autotypenumbers": "strict",
          "coloraxis": {
           "colorbar": {
            "outlinewidth": 0,
            "ticks": ""
           }
          },
          "colorscale": {
           "diverging": [
            [
             0,
             "#8e0152"
            ],
            [
             0.1,
             "#c51b7d"
            ],
            [
             0.2,
             "#de77ae"
            ],
            [
             0.3,
             "#f1b6da"
            ],
            [
             0.4,
             "#fde0ef"
            ],
            [
             0.5,
             "#f7f7f7"
            ],
            [
             0.6,
             "#e6f5d0"
            ],
            [
             0.7,
             "#b8e186"
            ],
            [
             0.8,
             "#7fbc41"
            ],
            [
             0.9,
             "#4d9221"
            ],
            [
             1,
             "#276419"
            ]
           ],
           "sequential": [
            [
             0,
             "#0d0887"
            ],
            [
             0.1111111111111111,
             "#46039f"
            ],
            [
             0.2222222222222222,
             "#7201a8"
            ],
            [
             0.3333333333333333,
             "#9c179e"
            ],
            [
             0.4444444444444444,
             "#bd3786"
            ],
            [
             0.5555555555555556,
             "#d8576b"
            ],
            [
             0.6666666666666666,
             "#ed7953"
            ],
            [
             0.7777777777777778,
             "#fb9f3a"
            ],
            [
             0.8888888888888888,
             "#fdca26"
            ],
            [
             1,
             "#f0f921"
            ]
           ],
           "sequentialminus": [
            [
             0,
             "#0d0887"
            ],
            [
             0.1111111111111111,
             "#46039f"
            ],
            [
             0.2222222222222222,
             "#7201a8"
            ],
            [
             0.3333333333333333,
             "#9c179e"
            ],
            [
             0.4444444444444444,
             "#bd3786"
            ],
            [
             0.5555555555555556,
             "#d8576b"
            ],
            [
             0.6666666666666666,
             "#ed7953"
            ],
            [
             0.7777777777777778,
             "#fb9f3a"
            ],
            [
             0.8888888888888888,
             "#fdca26"
            ],
            [
             1,
             "#f0f921"
            ]
           ]
          },
          "colorway": [
           "#636efa",
           "#EF553B",
           "#00cc96",
           "#ab63fa",
           "#FFA15A",
           "#19d3f3",
           "#FF6692",
           "#B6E880",
           "#FF97FF",
           "#FECB52"
          ],
          "font": {
           "color": "#2a3f5f"
          },
          "geo": {
           "bgcolor": "white",
           "lakecolor": "white",
           "landcolor": "#E5ECF6",
           "showlakes": true,
           "showland": true,
           "subunitcolor": "white"
          },
          "hoverlabel": {
           "align": "left"
          },
          "hovermode": "closest",
          "mapbox": {
           "style": "light"
          },
          "paper_bgcolor": "white",
          "plot_bgcolor": "#E5ECF6",
          "polar": {
           "angularaxis": {
            "gridcolor": "white",
            "linecolor": "white",
            "ticks": ""
           },
           "bgcolor": "#E5ECF6",
           "radialaxis": {
            "gridcolor": "white",
            "linecolor": "white",
            "ticks": ""
           }
          },
          "scene": {
           "xaxis": {
            "backgroundcolor": "#E5ECF6",
            "gridcolor": "white",
            "gridwidth": 2,
            "linecolor": "white",
            "showbackground": true,
            "ticks": "",
            "zerolinecolor": "white"
           },
           "yaxis": {
            "backgroundcolor": "#E5ECF6",
            "gridcolor": "white",
            "gridwidth": 2,
            "linecolor": "white",
            "showbackground": true,
            "ticks": "",
            "zerolinecolor": "white"
           },
           "zaxis": {
            "backgroundcolor": "#E5ECF6",
            "gridcolor": "white",
            "gridwidth": 2,
            "linecolor": "white",
            "showbackground": true,
            "ticks": "",
            "zerolinecolor": "white"
           }
          },
          "shapedefaults": {
           "line": {
            "color": "#2a3f5f"
           }
          },
          "ternary": {
           "aaxis": {
            "gridcolor": "white",
            "linecolor": "white",
            "ticks": ""
           },
           "baxis": {
            "gridcolor": "white",
            "linecolor": "white",
            "ticks": ""
           },
           "bgcolor": "#E5ECF6",
           "caxis": {
            "gridcolor": "white",
            "linecolor": "white",
            "ticks": ""
           }
          },
          "title": {
           "x": 0.05
          },
          "xaxis": {
           "automargin": true,
           "gridcolor": "white",
           "linecolor": "white",
           "ticks": "",
           "title": {
            "standoff": 15
           },
           "zerolinecolor": "white",
           "zerolinewidth": 2
          },
          "yaxis": {
           "automargin": true,
           "gridcolor": "white",
           "linecolor": "white",
           "ticks": "",
           "title": {
            "standoff": 15
           },
           "zerolinecolor": "white",
           "zerolinewidth": 2
          }
         }
        }
       }
      },
      "text/html": [
       "<div>                            <div id=\"dea4d560-0e53-4446-9640-e5c1b732fee1\" class=\"plotly-graph-div\" style=\"height:525px; width:100%;\"></div>            <script type=\"text/javascript\">                require([\"plotly\"], function(Plotly) {                    window.PLOTLYENV=window.PLOTLYENV || {};                                    if (document.getElementById(\"dea4d560-0e53-4446-9640-e5c1b732fee1\")) {                    Plotly.newPlot(                        \"dea4d560-0e53-4446-9640-e5c1b732fee1\",                        [{\"x\":[0.13001228697727413,0.005186233702698032],\"y\":[-0.2230459779454371,-0.11434871886805144],\"z\":[1.1043073911416297,0.8244275073255258],\"type\":\"scatter3d\"},{\"x\":[0.13001228697727413,0.3948964396932575],\"y\":[-0.2230459779454371,-0.1896554782172123],\"z\":[1.1043073911416297,1.4976239879360773],\"type\":\"scatter3d\"},{\"x\":[0.13001228697727413,0.119279637889176],\"y\":[-0.2230459779454371,-0.03513555433436578],\"z\":[1.1043073911416297,1.0643965682840524],\"type\":\"scatter3d\"},{\"x\":[0.16315092845002999,0.3948964396932575],\"y\":[-0.06790750972132086,-0.1896554782172123],\"z\":[1.022569098938327,1.4976239879360773],\"type\":\"scatter3d\"},{\"x\":[0.16315092845002999,0.005186233702698032],\"y\":[-0.06790750972132086,-0.11434871886805144],\"z\":[1.022569098938327,0.8244275073255258],\"type\":\"scatter3d\"},{\"x\":[0.16315092845002999,0.1437190904326238],\"y\":[-0.06790750972132086,0.10596518308938786],\"z\":[1.022569098938327,1.00259303811189],\"type\":\"scatter3d\"},{\"x\":[0.0061648049473650235,0.1437190904326238],\"y\":[0.018129648701126887,0.10596518308938786],\"z\":[0.8228001706192396,1.00259303811189],\"type\":\"scatter3d\"},{\"x\":[0.0061648049473650235,0.119279637889176],\"y\":[0.018129648701126887,-0.03513555433436578],\"z\":[0.8228001706192396,1.0643965682840524],\"type\":\"scatter3d\"},{\"x\":[0.0061648049473650235,0.005186233702698032],\"y\":[0.018129648701126887,-0.11434871886805144],\"z\":[0.8228001706192396,0.8244275073255258],\"type\":\"scatter3d\"},{\"x\":[0.3177788791039412,0.1437190904326238],\"y\":[0.02918767749939635,0.10596518308938786],\"z\":[1.3562063728452354,1.00259303811189],\"type\":\"scatter3d\"},{\"x\":[0.3177788791039412,0.3948964396932575],\"y\":[0.02918767749939635,-0.1896554782172123],\"z\":[1.3562063728452354,1.4976239879360773],\"type\":\"scatter3d\"},{\"x\":[0.3177788791039412,0.119279637889176],\"y\":[0.02918767749939635,-0.03513555433436578],\"z\":[1.3562063728452354,1.0643965682840524],\"type\":\"scatter3d\"},{\"x\":[-0.11787571252974847,-0.1612968711728975],\"y\":[-0.029840107472714154,0.052702876950934965],\"z\":[0.6216812084190805,0.46747551593254477],\"type\":\"scatter3d\"},{\"x\":[-0.11787571252974847,-0.07598155315866961],\"y\":[-0.029840107472714154,-0.012714915520884528],\"z\":[0.6216812084190805,0.6824360694458589],\"type\":\"scatter3d\"},{\"x\":[-0.11787571252974847,-0.11491671912211394],\"y\":[-0.029840107472714154,-0.009368169957257614],\"z\":[0.6216812084190805,0.6238110830358135],\"type\":\"scatter3d\"},{\"x\":[-0.1306989691548658,-0.07598155315866961],\"y\":[0.07611288214668697,-0.012714915520884528],\"z\":[0.5074065477868731,0.6824360694458589],\"type\":\"scatter3d\"},{\"x\":[-0.1306989691548658,-0.1612968711728975],\"y\":[0.07611288214668697,0.052702876950934965],\"z\":[0.5074065477868731,0.46747551593254477],\"type\":\"scatter3d\"},{\"x\":[-0.1306989691548658,-0.1274384786794587],\"y\":[0.07611288214668697,0.09593440087950053],\"z\":[0.5074065477868731,0.5124488282575428],\"type\":\"scatter3d\"},{\"x\":[-0.1608798844689901,-0.1274384786794587],\"y\":[0.07106867233349361,0.09593440087950053],\"z\":[0.4715682003774005,0.5124488282575428],\"type\":\"scatter3d\"},{\"x\":[-0.1608798844689901,-0.11491671912211394],\"y\":[0.07106867233349361,-0.009368169957257614],\"z\":[0.4715682003774005,0.6238110830358135],\"type\":\"scatter3d\"},{\"x\":[-0.1608798844689901,-0.1612968711728975],\"y\":[0.07106867233349361,0.052702876950934965],\"z\":[0.4715682003774005,0.46747551593254477],\"type\":\"scatter3d\"},{\"x\":[-0.07480250915955675,-0.1274384786794587],\"y\":[0.00872514306246985,0.09593440087950053],\"z\":[0.6861434218960258,0.5124488282575428],\"type\":\"scatter3d\"},{\"x\":[-0.07480250915955675,-0.07598155315866961],\"y\":[0.00872514306246985,-0.012714915520884528],\"z\":[0.6861434218960258,0.6824360694458589],\"type\":\"scatter3d\"},{\"x\":[-0.07480250915955675,-0.11491671912211394],\"y\":[0.00872514306246985,-0.009368169957257614],\"z\":[0.6861434218960258,0.6238110830358135],\"type\":\"scatter3d\"}],                        {\"template\":{\"data\":{\"histogram2dcontour\":[{\"type\":\"histogram2dcontour\",\"colorbar\":{\"outlinewidth\":0,\"ticks\":\"\"},\"colorscale\":[[0.0,\"#0d0887\"],[0.1111111111111111,\"#46039f\"],[0.2222222222222222,\"#7201a8\"],[0.3333333333333333,\"#9c179e\"],[0.4444444444444444,\"#bd3786\"],[0.5555555555555556,\"#d8576b\"],[0.6666666666666666,\"#ed7953\"],[0.7777777777777778,\"#fb9f3a\"],[0.8888888888888888,\"#fdca26\"],[1.0,\"#f0f921\"]]}],\"choropleth\":[{\"type\":\"choropleth\",\"colorbar\":{\"outlinewidth\":0,\"ticks\":\"\"}}],\"histogram2d\":[{\"type\":\"histogram2d\",\"colorbar\":{\"outlinewidth\":0,\"ticks\":\"\"},\"colorscale\":[[0.0,\"#0d0887\"],[0.1111111111111111,\"#46039f\"],[0.2222222222222222,\"#7201a8\"],[0.3333333333333333,\"#9c179e\"],[0.4444444444444444,\"#bd3786\"],[0.5555555555555556,\"#d8576b\"],[0.6666666666666666,\"#ed7953\"],[0.7777777777777778,\"#fb9f3a\"],[0.8888888888888888,\"#fdca26\"],[1.0,\"#f0f921\"]]}],\"heatmap\":[{\"type\":\"heatmap\",\"colorbar\":{\"outlinewidth\":0,\"ticks\":\"\"},\"colorscale\":[[0.0,\"#0d0887\"],[0.1111111111111111,\"#46039f\"],[0.2222222222222222,\"#7201a8\"],[0.3333333333333333,\"#9c179e\"],[0.4444444444444444,\"#bd3786\"],[0.5555555555555556,\"#d8576b\"],[0.6666666666666666,\"#ed7953\"],[0.7777777777777778,\"#fb9f3a\"],[0.8888888888888888,\"#fdca26\"],[1.0,\"#f0f921\"]]}],\"heatmapgl\":[{\"type\":\"heatmapgl\",\"colorbar\":{\"outlinewidth\":0,\"ticks\":\"\"},\"colorscale\":[[0.0,\"#0d0887\"],[0.1111111111111111,\"#46039f\"],[0.2222222222222222,\"#7201a8\"],[0.3333333333333333,\"#9c179e\"],[0.4444444444444444,\"#bd3786\"],[0.5555555555555556,\"#d8576b\"],[0.6666666666666666,\"#ed7953\"],[0.7777777777777778,\"#fb9f3a\"],[0.8888888888888888,\"#fdca26\"],[1.0,\"#f0f921\"]]}],\"contourcarpet\":[{\"type\":\"contourcarpet\",\"colorbar\":{\"outlinewidth\":0,\"ticks\":\"\"}}],\"contour\":[{\"type\":\"contour\",\"colorbar\":{\"outlinewidth\":0,\"ticks\":\"\"},\"colorscale\":[[0.0,\"#0d0887\"],[0.1111111111111111,\"#46039f\"],[0.2222222222222222,\"#7201a8\"],[0.3333333333333333,\"#9c179e\"],[0.4444444444444444,\"#bd3786\"],[0.5555555555555556,\"#d8576b\"],[0.6666666666666666,\"#ed7953\"],[0.7777777777777778,\"#fb9f3a\"],[0.8888888888888888,\"#fdca26\"],[1.0,\"#f0f921\"]]}],\"surface\":[{\"type\":\"surface\",\"colorbar\":{\"outlinewidth\":0,\"ticks\":\"\"},\"colorscale\":[[0.0,\"#0d0887\"],[0.1111111111111111,\"#46039f\"],[0.2222222222222222,\"#7201a8\"],[0.3333333333333333,\"#9c179e\"],[0.4444444444444444,\"#bd3786\"],[0.5555555555555556,\"#d8576b\"],[0.6666666666666666,\"#ed7953\"],[0.7777777777777778,\"#fb9f3a\"],[0.8888888888888888,\"#fdca26\"],[1.0,\"#f0f921\"]]}],\"mesh3d\":[{\"type\":\"mesh3d\",\"colorbar\":{\"outlinewidth\":0,\"ticks\":\"\"}}],\"scatter\":[{\"fillpattern\":{\"fillmode\":\"overlay\",\"size\":10,\"solidity\":0.2},\"type\":\"scatter\"}],\"parcoords\":[{\"type\":\"parcoords\",\"line\":{\"colorbar\":{\"outlinewidth\":0,\"ticks\":\"\"}}}],\"scatterpolargl\":[{\"type\":\"scatterpolargl\",\"marker\":{\"colorbar\":{\"outlinewidth\":0,\"ticks\":\"\"}}}],\"bar\":[{\"error_x\":{\"color\":\"#2a3f5f\"},\"error_y\":{\"color\":\"#2a3f5f\"},\"marker\":{\"line\":{\"color\":\"#E5ECF6\",\"width\":0.5},\"pattern\":{\"fillmode\":\"overlay\",\"size\":10,\"solidity\":0.2}},\"type\":\"bar\"}],\"scattergeo\":[{\"type\":\"scattergeo\",\"marker\":{\"colorbar\":{\"outlinewidth\":0,\"ticks\":\"\"}}}],\"scatterpolar\":[{\"type\":\"scatterpolar\",\"marker\":{\"colorbar\":{\"outlinewidth\":0,\"ticks\":\"\"}}}],\"histogram\":[{\"marker\":{\"pattern\":{\"fillmode\":\"overlay\",\"size\":10,\"solidity\":0.2}},\"type\":\"histogram\"}],\"scattergl\":[{\"type\":\"scattergl\",\"marker\":{\"colorbar\":{\"outlinewidth\":0,\"ticks\":\"\"}}}],\"scatter3d\":[{\"type\":\"scatter3d\",\"line\":{\"colorbar\":{\"outlinewidth\":0,\"ticks\":\"\"}},\"marker\":{\"colorbar\":{\"outlinewidth\":0,\"ticks\":\"\"}}}],\"scattermapbox\":[{\"type\":\"scattermapbox\",\"marker\":{\"colorbar\":{\"outlinewidth\":0,\"ticks\":\"\"}}}],\"scatterternary\":[{\"type\":\"scatterternary\",\"marker\":{\"colorbar\":{\"outlinewidth\":0,\"ticks\":\"\"}}}],\"scattercarpet\":[{\"type\":\"scattercarpet\",\"marker\":{\"colorbar\":{\"outlinewidth\":0,\"ticks\":\"\"}}}],\"carpet\":[{\"aaxis\":{\"endlinecolor\":\"#2a3f5f\",\"gridcolor\":\"white\",\"linecolor\":\"white\",\"minorgridcolor\":\"white\",\"startlinecolor\":\"#2a3f5f\"},\"baxis\":{\"endlinecolor\":\"#2a3f5f\",\"gridcolor\":\"white\",\"linecolor\":\"white\",\"minorgridcolor\":\"white\",\"startlinecolor\":\"#2a3f5f\"},\"type\":\"carpet\"}],\"table\":[{\"cells\":{\"fill\":{\"color\":\"#EBF0F8\"},\"line\":{\"color\":\"white\"}},\"header\":{\"fill\":{\"color\":\"#C8D4E3\"},\"line\":{\"color\":\"white\"}},\"type\":\"table\"}],\"barpolar\":[{\"marker\":{\"line\":{\"color\":\"#E5ECF6\",\"width\":0.5},\"pattern\":{\"fillmode\":\"overlay\",\"size\":10,\"solidity\":0.2}},\"type\":\"barpolar\"}],\"pie\":[{\"automargin\":true,\"type\":\"pie\"}]},\"layout\":{\"autotypenumbers\":\"strict\",\"colorway\":[\"#636efa\",\"#EF553B\",\"#00cc96\",\"#ab63fa\",\"#FFA15A\",\"#19d3f3\",\"#FF6692\",\"#B6E880\",\"#FF97FF\",\"#FECB52\"],\"font\":{\"color\":\"#2a3f5f\"},\"hovermode\":\"closest\",\"hoverlabel\":{\"align\":\"left\"},\"paper_bgcolor\":\"white\",\"plot_bgcolor\":\"#E5ECF6\",\"polar\":{\"bgcolor\":\"#E5ECF6\",\"angularaxis\":{\"gridcolor\":\"white\",\"linecolor\":\"white\",\"ticks\":\"\"},\"radialaxis\":{\"gridcolor\":\"white\",\"linecolor\":\"white\",\"ticks\":\"\"}},\"ternary\":{\"bgcolor\":\"#E5ECF6\",\"aaxis\":{\"gridcolor\":\"white\",\"linecolor\":\"white\",\"ticks\":\"\"},\"baxis\":{\"gridcolor\":\"white\",\"linecolor\":\"white\",\"ticks\":\"\"},\"caxis\":{\"gridcolor\":\"white\",\"linecolor\":\"white\",\"ticks\":\"\"}},\"coloraxis\":{\"colorbar\":{\"outlinewidth\":0,\"ticks\":\"\"}},\"colorscale\":{\"sequential\":[[0.0,\"#0d0887\"],[0.1111111111111111,\"#46039f\"],[0.2222222222222222,\"#7201a8\"],[0.3333333333333333,\"#9c179e\"],[0.4444444444444444,\"#bd3786\"],[0.5555555555555556,\"#d8576b\"],[0.6666666666666666,\"#ed7953\"],[0.7777777777777778,\"#fb9f3a\"],[0.8888888888888888,\"#fdca26\"],[1.0,\"#f0f921\"]],\"sequentialminus\":[[0.0,\"#0d0887\"],[0.1111111111111111,\"#46039f\"],[0.2222222222222222,\"#7201a8\"],[0.3333333333333333,\"#9c179e\"],[0.4444444444444444,\"#bd3786\"],[0.5555555555555556,\"#d8576b\"],[0.6666666666666666,\"#ed7953\"],[0.7777777777777778,\"#fb9f3a\"],[0.8888888888888888,\"#fdca26\"],[1.0,\"#f0f921\"]],\"diverging\":[[0,\"#8e0152\"],[0.1,\"#c51b7d\"],[0.2,\"#de77ae\"],[0.3,\"#f1b6da\"],[0.4,\"#fde0ef\"],[0.5,\"#f7f7f7\"],[0.6,\"#e6f5d0\"],[0.7,\"#b8e186\"],[0.8,\"#7fbc41\"],[0.9,\"#4d9221\"],[1,\"#276419\"]]},\"xaxis\":{\"gridcolor\":\"white\",\"linecolor\":\"white\",\"ticks\":\"\",\"title\":{\"standoff\":15},\"zerolinecolor\":\"white\",\"automargin\":true,\"zerolinewidth\":2},\"yaxis\":{\"gridcolor\":\"white\",\"linecolor\":\"white\",\"ticks\":\"\",\"title\":{\"standoff\":15},\"zerolinecolor\":\"white\",\"automargin\":true,\"zerolinewidth\":2},\"scene\":{\"xaxis\":{\"backgroundcolor\":\"#E5ECF6\",\"gridcolor\":\"white\",\"linecolor\":\"white\",\"showbackground\":true,\"ticks\":\"\",\"zerolinecolor\":\"white\",\"gridwidth\":2},\"yaxis\":{\"backgroundcolor\":\"#E5ECF6\",\"gridcolor\":\"white\",\"linecolor\":\"white\",\"showbackground\":true,\"ticks\":\"\",\"zerolinecolor\":\"white\",\"gridwidth\":2},\"zaxis\":{\"backgroundcolor\":\"#E5ECF6\",\"gridcolor\":\"white\",\"linecolor\":\"white\",\"showbackground\":true,\"ticks\":\"\",\"zerolinecolor\":\"white\",\"gridwidth\":2}},\"shapedefaults\":{\"line\":{\"color\":\"#2a3f5f\"}},\"annotationdefaults\":{\"arrowcolor\":\"#2a3f5f\",\"arrowhead\":0,\"arrowwidth\":1},\"geo\":{\"bgcolor\":\"white\",\"landcolor\":\"#E5ECF6\",\"subunitcolor\":\"white\",\"showland\":true,\"showlakes\":true,\"lakecolor\":\"white\"},\"title\":{\"x\":0.05},\"mapbox\":{\"style\":\"light\"}}},\"showlegend\":false},                        {\"responsive\": true}                    ).then(function(){\n",
       "                            \n",
       "var gd = document.getElementById('dea4d560-0e53-4446-9640-e5c1b732fee1');\n",
       "var x = new MutationObserver(function (mutations, observer) {{\n",
       "        var display = window.getComputedStyle(gd).display;\n",
       "        if (!display || display === 'none') {{\n",
       "            console.log([gd, 'removed!']);\n",
       "            Plotly.purge(gd);\n",
       "            observer.disconnect();\n",
       "        }}\n",
       "}});\n",
       "\n",
       "// Listen for the removal of the full notebook cells\n",
       "var notebookContainer = gd.closest('#notebook-container');\n",
       "if (notebookContainer) {{\n",
       "    x.observe(notebookContainer, {childList: true});\n",
       "}}\n",
       "\n",
       "// Listen for the clearing of the current output cell\n",
       "var outputEl = gd.closest('.output');\n",
       "if (outputEl) {{\n",
       "    x.observe(outputEl, {childList: true});\n",
       "}}\n",
       "\n",
       "                        })                };                });            </script>        </div>"
      ]
     },
     "metadata": {},
     "output_type": "display_data"
    }
   ],
   "source": [
    "import plotly.graph_objects as go\n",
    "import plotly.express as px\n",
    "\n",
    "# U ovom slucaju crtamo jednostavnu kocku. Vi cete koristiti rekonstruisana temena\n",
    "temenaKocke = pts3D #np.array([[0,0, 3], [0, 3,3], [3,3,3],[3, 0,3],[0,0,0], [0, 3,0], [3, 3,0],[3,0,0]] )\n",
    "# Ovo su ivice kocke zadate indeksima temena\n",
    "ivice = [[0, 1], \n",
    "         [0, 3], \n",
    "         [0, 4], \n",
    "         [2, 3], \n",
    "         [2, 1], \n",
    "         [2, 6], \n",
    "         [5, 6], \n",
    "         [5, 4], \n",
    "         [5, 1], \n",
    "         [7, 6],\n",
    "         [7, 3], \n",
    "         [7, 4], #do ovde je kocka\n",
    "         [8, 9], \n",
    "         [8, 11],\n",
    "         [8, 12], \n",
    "         [10, 11], \n",
    "         [10, 9], \n",
    "         [10, 14], \n",
    "         [13, 14], \n",
    "         [13, 12], \n",
    "         [13, 9], \n",
    "         [15, 14],\n",
    "         [15, 11], \n",
    "         [15, 12], #do ovde je kocka\n",
    "        ]\n",
    "# dodatne mogucnosti istrazite sami\n",
    "\n",
    "#  prikaz scene - koristi \"plotly\" biblioteku\n",
    "def prikazKocke(): \n",
    "    # izdvajamo x,y,z koordinate svih tacaka\n",
    "    xdata = (np.transpose(temenaKocke))[0]\n",
    "    ydata = (np.transpose(temenaKocke))[1]\n",
    "    zdata = (np.transpose(temenaKocke))[2]\n",
    "    # u data1 ubacujemo sve sto treba naccrtati\n",
    "    data1 = []\n",
    "    # za svaku ivicu crtamo duz na osnovu koordinata\n",
    "    for i in range(len(ivice)):\n",
    "        data1.append(go.Scatter3d(x=[xdata[ivice[i][0]], xdata[ivice[i][1]]], y=[ydata[ivice[i][0]], ydata[ivice[i][1]]],z=[zdata[ivice[i][0]], zdata[ivice[i][1]]]))\n",
    "    fig = go.Figure(data = data1 )\n",
    "    # da ne prikazuje legendu\n",
    "    fig.update_layout(showlegend=False)\n",
    "    # pravi html fajl (ako zelite da napravite \"rotatable\" 3D rekonstruciju)\n",
    "    # birate kao parametar velicinu apleta. fulhtml=False je vazno da ne bi pravio ogroman fajl\n",
    "    # ovde stavite neki vas folder\n",
    "    fig.write_html(\"./rekonstrukcija\", include_plotlyjs = 'cdn', default_width = '800px', default_height = '600px', full_html = False) #Modifiy the html file\n",
    "    fig.show()\n",
    "\n",
    "prikazKocke()"
   ]
  },
  {
   "cell_type": "code",
   "execution_count": null,
   "id": "509bb9f8",
   "metadata": {},
   "outputs": [],
   "source": []
  },
  {
   "cell_type": "code",
   "execution_count": null,
   "id": "62d2e3c1",
   "metadata": {},
   "outputs": [],
   "source": []
  },
  {
   "cell_type": "code",
   "execution_count": null,
   "id": "e9284622",
   "metadata": {},
   "outputs": [],
   "source": []
  },
  {
   "cell_type": "code",
   "execution_count": null,
   "id": "9986b247",
   "metadata": {},
   "outputs": [],
   "source": []
  },
  {
   "cell_type": "code",
   "execution_count": null,
   "id": "a015019a",
   "metadata": {},
   "outputs": [],
   "source": []
  },
  {
   "cell_type": "code",
   "execution_count": null,
   "id": "ce1d8acb",
   "metadata": {},
   "outputs": [],
   "source": []
  },
  {
   "cell_type": "code",
   "execution_count": null,
   "id": "eccf25c0",
   "metadata": {},
   "outputs": [],
   "source": []
  },
  {
   "cell_type": "code",
   "execution_count": null,
   "id": "f12a9657",
   "metadata": {},
   "outputs": [],
   "source": []
  },
  {
   "cell_type": "code",
   "execution_count": null,
   "id": "b078211b",
   "metadata": {},
   "outputs": [],
   "source": []
  },
  {
   "cell_type": "code",
   "execution_count": null,
   "id": "d01567b6",
   "metadata": {},
   "outputs": [],
   "source": []
  },
  {
   "cell_type": "code",
   "execution_count": null,
   "id": "66c67820",
   "metadata": {},
   "outputs": [],
   "source": []
  },
  {
   "cell_type": "code",
   "execution_count": null,
   "id": "720ebfbb",
   "metadata": {},
   "outputs": [],
   "source": []
  },
  {
   "cell_type": "code",
   "execution_count": null,
   "id": "6f920dce",
   "metadata": {},
   "outputs": [],
   "source": []
  },
  {
   "cell_type": "code",
   "execution_count": null,
   "id": "1f4df2c0",
   "metadata": {},
   "outputs": [],
   "source": []
  },
  {
   "cell_type": "code",
   "execution_count": null,
   "id": "c56f0ada",
   "metadata": {},
   "outputs": [],
   "source": []
  },
  {
   "cell_type": "code",
   "execution_count": null,
   "id": "46fbe701",
   "metadata": {},
   "outputs": [],
   "source": []
  },
  {
   "cell_type": "code",
   "execution_count": null,
   "id": "ecb3e28e",
   "metadata": {},
   "outputs": [],
   "source": []
  },
  {
   "cell_type": "code",
   "execution_count": null,
   "id": "db5e70c1",
   "metadata": {},
   "outputs": [],
   "source": []
  },
  {
   "cell_type": "code",
   "execution_count": null,
   "id": "5b7f6bfa",
   "metadata": {},
   "outputs": [],
   "source": [
    "def centar(A):\n",
    "    # brisemo kolone redom i nalazimo determinante\n",
    "    A1 = np.linalg.det(np.delete(A, 0, 1))\n",
    "    A2 = np.linalg.det(np.delete(A, 1, 1))\n",
    "    A3 = np.linalg.det(np.delete(A, 2, 1))\n",
    "    A4 = np.linalg.det(np.delete(A, 3, 1))\n",
    "\n",
    "    C = (-1/A4)*np.array([A1, -A2, A3, -A4])\n",
    "    C = np.where(np.isclose(C, 0) , 0.0 , C)  # izbegavanje -0. u rezultatu\n",
    "    return C"
   ]
  },
  {
   "cell_type": "code",
   "execution_count": null,
   "id": "5b7e2cb3",
   "metadata": {},
   "outputs": [],
   "source": [
    "def kameraA(T):\n",
    "    T0 = np.delete(T, 3, 1)\n",
    "    if linalg.det(T0) < 0:\n",
    "        T0 = -T0\n",
    "    Q, R = linalg.qr(linalg.inv(T0)) \n",
    "\n",
    "    if R[0][0] < 0:\n",
    "        R = np.diag([-1, 1, 1])@R\n",
    "        Q = Q@np.diag([-1, 1, 1])\n",
    "    if R[1][1] < 0:\n",
    "        R = np.diag([1, -1, 1])@R\n",
    "        Q = Q@np.diag([1, -1, 1])\n",
    "    if R[2][2] < 0:\n",
    "        R = np.diag([1, 1, -1])@R\n",
    "        Q = Q@np.diag([1, 1, -1])\n",
    "\n",
    "    A = np.transpose(Q)\n",
    "    A = np.where(np.isclose(A, 0) , 0.0 , A)  # izbegavanje -0. u rezultatu\n",
    "    return A\n"
   ]
  },
  {
   "cell_type": "code",
   "execution_count": null,
   "id": "02b5ff34",
   "metadata": {},
   "outputs": [],
   "source": [
    "def kameraK(T):\n",
    "    T0 = np.delete(T, 3, 1)\n",
    "    if linalg.det(T0) < 0:\n",
    "        T0 = -T0\n",
    "    Q, R = linalg.qr(linalg.inv(T0)) \n",
    "\n",
    "    if R[0][0] < 0:\n",
    "        R = np.diag([-1, 1, 1])@R\n",
    "        Q = Q@np.diag([-1, 1, 1])\n",
    "    if R[1][1] < 0:\n",
    "        R = np.diag([1, -1, 1])@R\n",
    "        Q = Q@np.diag([1, -1, 1])\n",
    "    if R[2][2] < 0:\n",
    "        R = np.diag([1, 1, -1])@R\n",
    "        Q = Q@np.diag([1, 1, -1])\n",
    "\n",
    "    K = linalg.inv(R)\n",
    "    if K[2][2]:\n",
    "        K = K/K[2][2]\n",
    "    K = np.where(np.isclose(K, 0) , 0.0 , K)  # izbegavanje -0. u rezultatu\n",
    "    return K"
   ]
  },
  {
   "cell_type": "code",
   "execution_count": null,
   "id": "57545dfd",
   "metadata": {},
   "outputs": [],
   "source": [
    "def matricaKamere(pts2D, pts3D):\n",
    "    A = []\n",
    "    for i in range(len(pts2D)):\n",
    "        x1, x2, x3 = pts2D[i]\n",
    "        xp1, xp2, xp3, xp4 = pts3D[i]\n",
    "        A.append([0, 0, 0, 0, -x3*xp1, -x3*xp2, -x3*xp3, -x3*xp4, x2*xp1, x2*xp2, x2*xp3, x2*xp4])\n",
    "        A.append([x3*xp1, x3*xp2, x3*xp3, x3*xp4, 0, 0, 0, 0, -x1*xp1, -x1*xp2, -x1*xp3, -x1*xp4])\n",
    "    A = np.array(A)\n",
    "\n",
    "    _, _, V = linalg.svd(A)\n",
    "    T = np.array(V[-1]).reshape(3, 4)\n",
    "    T /= T[2][3]\n",
    "    \n",
    "    T = np.where(np.isclose(T, 0) , 0.0 , T)\n",
    "    return T"
   ]
  },
  {
   "cell_type": "code",
   "execution_count": null,
   "id": "b885df6b",
   "metadata": {},
   "outputs": [],
   "source": [
    "T = matricaKamere(org, img)"
   ]
  },
  {
   "cell_type": "code",
   "execution_count": null,
   "id": "29909acd",
   "metadata": {
    "scrolled": false
   },
   "outputs": [],
   "source": [
    "org =  np.array([1,-1,-1])*(np.array([1600,0,0])- np.array(ts))"
   ]
  },
  {
   "cell_type": "code",
   "execution_count": null,
   "id": "6f0a04a5",
   "metadata": {},
   "outputs": [],
   "source": [
    "img = np.array([[0,0,3,1], [0,1,3,1], [0,2,3,1],[0,3,3,1],\n",
    "                [1,0,3,1], [1,1,3,1], [1,2,3,1],[1,3,3,1],\n",
    "                [2,0,3,1], [2,1,3,1], [2,2,3,1],[2,3,3,1],\n",
    "                [3,0,3,1], [3,1,3,1], [3,2,3,1],[3,3,3,1], #gornja strana\n",
    "                [0,3,2,1], [1,3,2,1], [2,3,2,1],[3,3,2,1],\n",
    "                [0,3,1,1], [1,3,1,1], [2,3,1,1],[3,3,1,1],\n",
    "                [0,3,0,1], [1,3,0,1], [2,3,0,1],[3,3,0,1], #desna\n",
    "                [3,0,2,1],[3,1,2,1],[3,2,2,1], [3,3,2,1],\n",
    "                [3,0,1,1],[3,1,1,1],[3,2,1,1], [3,3,1,1],\n",
    "                [3,0,0,1],[3,1,0,1],[3,2,0,1], [3,3,0,1]])"
   ]
  },
  {
   "cell_type": "code",
   "execution_count": null,
   "id": "3bb73017",
   "metadata": {},
   "outputs": [],
   "source": [
    "print('Matrica kamere:')\n",
    "print(T)\n",
    "print('\\nPozicija centra kamere:')\n",
    "C = centar(T)\n",
    "print(C)\n",
    "print('\\nSpoljasnja matrica kamere:')\n",
    "A = kameraA(T)\n",
    "print(A)\n",
    "print('\\nMatrica kalibracije kamere:')\n",
    "K = kameraK(T)\n",
    "print(K)"
   ]
  },
  {
   "cell_type": "code",
   "execution_count": null,
   "id": "6bba60e3",
   "metadata": {},
   "outputs": [],
   "source": [
    "n_voxels = np.zeros((3, 3, 3), dtype=bool)\n",
    "for i in range(3):\n",
    "    for j in range(3):\n",
    "        for k in range(3):\n",
    "            if (i+j+k)%2 == 1:\n",
    "                n_voxels[i,j,k] = True\n",
    "filled = np.ones(n_voxels.shape)\n",
    "ax = plt.figure().add_subplot(projection='3d')\n",
    "ax.voxels(filled, facecolors='yellow')\n",
    "\n",
    "ax.quiver(0,0,0, 4,0,0, color='red', label='x', alpha=0.9)\n",
    "ax.text(4.2, 0, 0, s=\"X\")\n",
    "ax.quiver(0,0,0, 0,8,0, color='green', label='y', alpha=0.9)\n",
    "ax.text(0, 8.2, 0, s=\"Y\")\n",
    "ax.quiver(0,0,0, 0,0,4, color='blue', label='z', alpha=0.9)\n",
    "ax.text(0, 0, 4.2, s=\"Z\")\n",
    "\n",
    "ax.quiver(C[0], C[1], C[2], A[0][0], A[0][1], A[0][2], color='red', label='x', alpha=0.9)\n",
    "ax.quiver(C[0], C[1], C[2], A[1][0], A[1][1], A[1][2], color='green', label='y', alpha=0.9)\n",
    "ax.quiver(C[0], C[1], C[2], A[2][0], A[2][1], A[2][2], color='blue', label='z', alpha=0.9)\n",
    "ax.scatter(C[0], C[1], C[2])\n",
    "ax.text(C[0]+0.2, C[1]+0.1, C[2]+0.8, s=\"C\")\n",
    "\n",
    "\n",
    "plt.show()"
   ]
  },
  {
   "cell_type": "code",
   "execution_count": null,
   "id": "f179dcaa",
   "metadata": {},
   "outputs": [],
   "source": [
    "def afinize(tacka):\n",
    "    return list(map(lambda x : x / tacka[2], tacka))[:-1]"
   ]
  },
  {
   "cell_type": "code",
   "execution_count": null,
   "id": "f98afcf0",
   "metadata": {},
   "outputs": [],
   "source": [
    "def cross(x, y):\n",
    "    return np.cross(x, y)"
   ]
  },
  {
   "cell_type": "code",
   "execution_count": null,
   "id": "fb917119",
   "metadata": {},
   "outputs": [],
   "source": [
    "def tacka_nedogleda(t1, t2, t3, t4):\n",
    "    return list(cross(cross(t1, t2), cross(t3, t4)))"
   ]
  },
  {
   "cell_type": "code",
   "execution_count": null,
   "id": "29f09a40",
   "metadata": {},
   "outputs": [],
   "source": [
    "def zaokruzi(tacka):\n",
    "    return list(map(lambda x : round(x), tacka))"
   ]
  },
  {
   "cell_type": "code",
   "execution_count": null,
   "id": "2d00efbf",
   "metadata": {},
   "outputs": [],
   "source": [
    "\n",
    "# def homogenize(lista_tacaka):\n",
    "#     for tacka in lista_tacaka:\n",
    "#         tacka = tacka.append(1)\n",
    "#     return lista_tacaka\n",
    "\n",
    "def osmoteme(lista_tacaka):\n",
    "    #pretvori u homogene\n",
    "#     lista_tacaka = homogenize(lista_tacaka)\n",
    "    #izracunaj_tacku\n",
    "    t1, t2, t3, t5, t6, t7, t8 = lista_tacaka\n",
    "    \n",
    "    xb = tacka_nedogleda(t2, t6, t1, t5)\n",
    "    yb = tacka_nedogleda(t5, t6, t7, t8)\n",
    "    return afinize(tacka_nedogleda(t8, xb, t3, yb))"
   ]
  },
  {
   "cell_type": "code",
   "execution_count": null,
   "id": "cb70b575",
   "metadata": {},
   "outputs": [],
   "source": [
    "ts"
   ]
  },
  {
   "cell_type": "code",
   "execution_count": null,
   "id": "d76a0fb7",
   "metadata": {},
   "outputs": [],
   "source": [
    "osmoteme(ts)"
   ]
  },
  {
   "cell_type": "code",
   "execution_count": null,
   "id": "9c7f0cbb",
   "metadata": {},
   "outputs": [],
   "source": [
    "t1, t2, t3, t5, t6, t7, t8 = ts\n",
    "    \n",
    "xb = zaokruzi(tacka_nedogleda(t2, t6, t1, t5))\n",
    "xb"
   ]
  },
  {
   "cell_type": "code",
   "execution_count": null,
   "id": "1a4cdc3b",
   "metadata": {},
   "outputs": [],
   "source": [
    "yb = zaokruzi(tacka_nedogleda(t5, t6, t7, t8))\n",
    "yb"
   ]
  },
  {
   "cell_type": "code",
   "execution_count": null,
   "id": "6da23cfa",
   "metadata": {},
   "outputs": [],
   "source": [
    "tacka_nedogleda(t8, xb, t3, yb)"
   ]
  },
  {
   "cell_type": "code",
   "execution_count": null,
   "id": "2db912cd",
   "metadata": {},
   "outputs": [],
   "source": []
  },
  {
   "cell_type": "code",
   "execution_count": null,
   "id": "6f414066",
   "metadata": {},
   "outputs": [],
   "source": []
  },
  {
   "cell_type": "code",
   "execution_count": null,
   "id": "1a6bde77",
   "metadata": {},
   "outputs": [],
   "source": []
  },
  {
   "cell_type": "code",
   "execution_count": null,
   "id": "9d068aee",
   "metadata": {},
   "outputs": [],
   "source": []
  },
  {
   "cell_type": "code",
   "execution_count": null,
   "id": "e8e17c90",
   "metadata": {},
   "outputs": [],
   "source": []
  },
  {
   "cell_type": "code",
   "execution_count": null,
   "id": "659061da",
   "metadata": {},
   "outputs": [],
   "source": []
  },
  {
   "cell_type": "code",
   "execution_count": null,
   "id": "cdd63dff",
   "metadata": {},
   "outputs": [],
   "source": []
  },
  {
   "cell_type": "code",
   "execution_count": null,
   "id": "df61c384",
   "metadata": {},
   "outputs": [],
   "source": []
  },
  {
   "cell_type": "code",
   "execution_count": null,
   "id": "a0cc0e78",
   "metadata": {},
   "outputs": [],
   "source": []
  },
  {
   "cell_type": "code",
   "execution_count": null,
   "id": "862a6733",
   "metadata": {},
   "outputs": [],
   "source": []
  },
  {
   "cell_type": "code",
   "execution_count": null,
   "id": "3cbadc88",
   "metadata": {},
   "outputs": [],
   "source": []
  },
  {
   "cell_type": "code",
   "execution_count": null,
   "id": "c0e871c0",
   "metadata": {},
   "outputs": [],
   "source": []
  },
  {
   "cell_type": "code",
   "execution_count": null,
   "id": "e88c5435",
   "metadata": {},
   "outputs": [],
   "source": []
  },
  {
   "cell_type": "code",
   "execution_count": 17,
   "id": "be663c15",
   "metadata": {},
   "outputs": [],
   "source": [
    "def osmoteme(ts):\n",
    "    return [268, 563]"
   ]
  }
 ],
 "metadata": {
  "kernelspec": {
   "display_name": "Python 3 (ipykernel)",
   "language": "python",
   "name": "python3"
  },
  "language_info": {
   "codemirror_mode": {
    "name": "ipython",
    "version": 3
   },
   "file_extension": ".py",
   "mimetype": "text/x-python",
   "name": "python",
   "nbconvert_exporter": "python",
   "pygments_lexer": "ipython3",
   "version": "3.11.3"
  }
 },
 "nbformat": 4,
 "nbformat_minor": 5
}
